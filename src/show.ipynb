{
 "cells": [
  {
   "attachments": {},
   "cell_type": "markdown",
   "metadata": {},
   "source": [
    "# Litepose \n",
    "[Litepose][1] proposes an efficient way to perform multi-person pose estimation, providing a low computationl cost, scale invariant and reliable architecture. It follows a bottom-up approach, namely it uses just one network to do both keypoints estimation and grouping. In this implementation I have also relied on two other papers (also cited by Litepose), one is [HigherHRNet][2] that proposes the main architecture and the other is [Associative Embedding][3] that introduces a way to assign identity-free keypoints to the person they belong to.\n",
    "\n",
    "Litepose modifies the HigherHRNet architecture going from a multi-branch to a single-branch one by gradual shrinking, with the purpose of speeding up the inference, making it run on low computational power devices as well.\n",
    "\n",
    "The architecture uses a MobileNet backbone with **Large Kernel Convolutions** that have shown great results empirically. The backbone output is passed to multiple deconvolutional blocks implementing the main feature of the Litepose Paper that is **Fusion Deconv Head**. This allows to obtain scale aware results by merging backbone intermediate features and refined features, in this way the network can exploit high resolution features, that help to catch close joints, without involving a multi-branch architecture. \n",
    "\n",
    "Let $t$ be the number of convolutional blocks and $n$ be the number of the current deconvolutional block, the features fusion is implemented by summing the features of deconvolutional block in position $n$ with the features of backbone block in position $t-n-1$, refined by an additional convolutional layer. Eventually the merged features are passed to a final block for each deconvolutional layer that produces the output. The results of the network are provided in several scales, one for each deconvolutional layer. Hence the output is a $(n,j,s_i,s_i)$ tensor where $n$ is the number of scales (i.e. deconv blocks), $j$ is the number of joints that we want to detect, $s_i$ for $i\\in{1,2,...,n}$ is the size of the current scale. The image clarifies the network structure.\n",
    "\n",
    "![Network Architecture!](../assets/structure.png)\n",
    "\n",
    "\n",
    "[1]:https://openaccess.thecvf.com/content/CVPR2022/papers/Wang_Lite_Pose_Efficient_Architecture_Design_for_2D_Human_Pose_Estimation_CVPR_2022_paper.pdf\n",
    "[2]:https://arxiv.org/pdf/1908.10357.pdf\n",
    "[3]:https://papers.nips.cc/paper/2017/file/8edd72158ccd2a879f79cb2538568fdc-Paper.pdf"
   ]
  },
  {
   "cell_type": "code",
   "execution_count": 1,
   "metadata": {},
   "outputs": [],
   "source": [
    "from lp_coco_utils.lp_getDataset import getDatasetProcessed\n",
    "from lp_training.lp_trainer import train\n",
    "from lp_model.lp_litepose import LitePose\n",
    "import lp_config.lp_common_config as cc\n",
    "import torch\n",
    "from lp_inference.lp_inference import inference, assocEmbedding\n",
    "from lp_utils.lp_image_processing import drawHeatmap, drawKeypoints, normalizeImage, drawSkeleton\n",
    "from lp_testing.lp_evaluation import computeOKS"
   ]
  },
  {
   "attachments": {},
   "cell_type": "markdown",
   "metadata": {},
   "source": [
    "This file has to be seen only as an entry that calls wrapper functions, the implentation of those functions can be found in the subdirectories of the repository.   \n",
    "Every hyperparameter can be edited in `src/lp_config`.  \n",
    "`lp_common_config.py` contains the general configurations about the dataset loading, training and inference. On the other hand `lp_model_config.py` contrains the parameters that encode the model structure. The current model configs are taken from the Neural Architecture Search performed by the paper authors. I used the small size network due to the computational power available, however better results can be achieved simply by scaling the network size (Good parameters combinations are provided by the paper authors)."
   ]
  },
  {
   "attachments": {},
   "cell_type": "markdown",
   "metadata": {},
   "source": [
    "Code taken by the [official paper repository](https://github.com/mit-han-lab/litepose):\n",
    "- classes `CocoDataset` and `CocoKeypoints` are partially taken, I added fiftyone support that makes the dataset setup easier and I removed unnecessary code.\n",
    "- I took the code inside `lp_generators.py` and `lp_transforms.py` as well, since they were a `CocoKeypoints` dependencies"
   ]
  },
  {
   "attachments": {},
   "cell_type": "markdown",
   "metadata": {},
   "source": [
    "# Training\n",
    "\n",
    "The dataset is downloaded by using fiftyone APIs and keypoint heatmaps are created for each sample. "
   ]
  },
  {
   "cell_type": "code",
   "execution_count": 2,
   "metadata": {},
   "outputs": [
    {
     "name": "stdout",
     "output_type": "stream",
     "text": [
      "loading annotations into memory...\n",
      "Done (t=0.10s)\n",
      "creating index...\n",
      "index created!\n",
      "loading annotations into memory...\n",
      "Done (t=0.04s)\n",
      "creating index...\n",
      "index created!\n"
     ]
    },
    {
     "name": "stderr",
     "output_type": "stream",
     "text": [
      "100%|██████████| 250/250 [00:37<00:00,  6.71it/s]\n",
      "100%|██████████| 250/250 [00:23<00:00, 10.84it/s]\n"
     ]
    },
    {
     "name": "stdout",
     "output_type": "stream",
     "text": [
      "epoch #1 \n",
      "\n",
      "TRAINING LOSS:\n",
      "total Loss = 0.1084165603145957\n",
      "heatmap Loss = 0.10788685510307551\n",
      "tag Loss = 0.0005297049182699993\n",
      "\n",
      "VALIDATION LOSS:\n",
      "total Loss = 0.04165456732362509\n",
      "heatmap Loss = 0.041182924181222914\n",
      "tag Loss = 0.00047164313518442214\n",
      "\n",
      "\n",
      "\n"
     ]
    },
    {
     "name": "stderr",
     "output_type": "stream",
     "text": [
      "100%|██████████| 250/250 [00:37<00:00,  6.76it/s]\n",
      "100%|██████████| 250/250 [00:23<00:00, 10.55it/s]\n"
     ]
    },
    {
     "name": "stdout",
     "output_type": "stream",
     "text": [
      "epoch #2 \n",
      "\n",
      "TRAINING LOSS:\n",
      "total Loss = 0.022915598655119537\n",
      "heatmap Loss = 0.02244729833677411\n",
      "tag Loss = 0.0004683002809761092\n",
      "\n",
      "VALIDATION LOSS:\n",
      "total Loss = 0.012833793051540851\n",
      "heatmap Loss = 0.012369948850944638\n",
      "tag Loss = 0.00046384419675450775\n",
      "\n",
      "\n",
      "\n"
     ]
    },
    {
     "name": "stderr",
     "output_type": "stream",
     "text": [
      "100%|██████████| 250/250 [00:37<00:00,  6.73it/s]\n",
      "100%|██████████| 250/250 [00:23<00:00, 10.59it/s]\n"
     ]
    },
    {
     "name": "stdout",
     "output_type": "stream",
     "text": [
      "epoch #3 \n",
      "\n",
      "TRAINING LOSS:\n",
      "total Loss = 0.012941558977589012\n",
      "heatmap Loss = 0.012475354548543692\n",
      "tag Loss = 0.0004662044325377792\n",
      "\n",
      "VALIDATION LOSS:\n",
      "total Loss = 0.013509572865441442\n",
      "heatmap Loss = 0.01304335061646998\n",
      "tag Loss = 0.0004662222535116598\n",
      "\n",
      "\n",
      "\n"
     ]
    },
    {
     "name": "stderr",
     "output_type": "stream",
     "text": [
      "100%|██████████| 250/250 [00:37<00:00,  6.68it/s]\n",
      "100%|██████████| 250/250 [00:24<00:00, 10.18it/s]\n"
     ]
    },
    {
     "name": "stdout",
     "output_type": "stream",
     "text": [
      "epoch #4 \n",
      "\n",
      "TRAINING LOSS:\n",
      "total Loss = 0.013151142871007323\n",
      "heatmap Loss = 0.012684129670262338\n",
      "tag Loss = 0.00046701318863779306\n",
      "\n",
      "VALIDATION LOSS:\n",
      "total Loss = 0.025280307933688163\n",
      "heatmap Loss = 0.02480942655168474\n",
      "tag Loss = 0.00047088140342384574\n",
      "\n",
      "\n",
      "\n"
     ]
    },
    {
     "name": "stderr",
     "output_type": "stream",
     "text": [
      "100%|██████████| 250/250 [00:38<00:00,  6.57it/s]\n",
      "100%|██████████| 250/250 [00:24<00:00, 10.11it/s]\n"
     ]
    },
    {
     "name": "stdout",
     "output_type": "stream",
     "text": [
      "epoch #5 \n",
      "\n",
      "TRAINING LOSS:\n",
      "total Loss = 0.01115971197001636\n",
      "heatmap Loss = 0.01069167504273355\n",
      "tag Loss = 0.0004680369202978909\n",
      "\n",
      "VALIDATION LOSS:\n",
      "total Loss = 0.01074797347933054\n",
      "heatmap Loss = 0.010281797600910067\n",
      "tag Loss = 0.0004661758679430932\n",
      "\n",
      "\n",
      "\n"
     ]
    },
    {
     "name": "stderr",
     "output_type": "stream",
     "text": [
      "100%|██████████| 250/250 [00:38<00:00,  6.54it/s]\n",
      "100%|██████████| 250/250 [00:25<00:00,  9.93it/s]\n"
     ]
    },
    {
     "name": "stdout",
     "output_type": "stream",
     "text": [
      "epoch #6 \n",
      "\n",
      "TRAINING LOSS:\n",
      "total Loss = 0.009745807932689785\n",
      "heatmap Loss = 0.009279322963207961\n",
      "tag Loss = 0.0004664849569089711\n",
      "\n",
      "VALIDATION LOSS:\n",
      "total Loss = 0.011626157412305474\n",
      "heatmap Loss = 0.011161945328116417\n",
      "tag Loss = 0.00046421212959103287\n",
      "\n",
      "\n",
      "\n"
     ]
    },
    {
     "name": "stderr",
     "output_type": "stream",
     "text": [
      "100%|██████████| 250/250 [00:37<00:00,  6.71it/s]\n",
      "100%|██████████| 250/250 [00:24<00:00, 10.37it/s]\n"
     ]
    },
    {
     "name": "stdout",
     "output_type": "stream",
     "text": [
      "epoch #7 \n",
      "\n",
      "TRAINING LOSS:\n",
      "total Loss = 0.009344555780291558\n",
      "heatmap Loss = 0.008879177181050182\n",
      "tag Loss = 0.00046537860168609766\n",
      "\n",
      "VALIDATION LOSS:\n",
      "total Loss = 0.00947442959435284\n",
      "heatmap Loss = 0.00901055364497006\n",
      "tag Loss = 0.0004638759292429313\n",
      "\n",
      "\n",
      "\n"
     ]
    },
    {
     "name": "stderr",
     "output_type": "stream",
     "text": [
      "100%|██████████| 250/250 [00:36<00:00,  6.78it/s]\n",
      "100%|██████████| 250/250 [00:24<00:00, 10.31it/s]\n"
     ]
    },
    {
     "name": "stdout",
     "output_type": "stream",
     "text": [
      "epoch #8 \n",
      "\n",
      "TRAINING LOSS:\n",
      "total Loss = 0.00935299621336162\n",
      "heatmap Loss = 0.008886139519512653\n",
      "tag Loss = 0.0004668566951295361\n",
      "\n",
      "VALIDATION LOSS:\n",
      "total Loss = 0.014216877600178122\n",
      "heatmap Loss = 0.013751143081113696\n",
      "tag Loss = 0.0004657345141749829\n",
      "\n",
      "\n",
      "\n"
     ]
    },
    {
     "name": "stderr",
     "output_type": "stream",
     "text": [
      "100%|██████████| 250/250 [00:37<00:00,  6.64it/s]\n",
      "100%|██████████| 250/250 [00:22<00:00, 10.90it/s]\n"
     ]
    },
    {
     "name": "stdout",
     "output_type": "stream",
     "text": [
      "epoch #9 \n",
      "\n",
      "TRAINING LOSS:\n",
      "total Loss = 0.00911744380556047\n",
      "heatmap Loss = 0.008652475772425533\n",
      "tag Loss = 0.00046496804151684043\n",
      "\n",
      "VALIDATION LOSS:\n",
      "total Loss = 0.009291158484295011\n",
      "heatmap Loss = 0.008825728202238679\n",
      "tag Loss = 0.0004654302754206583\n",
      "\n",
      "\n",
      "\n"
     ]
    },
    {
     "name": "stderr",
     "output_type": "stream",
     "text": [
      "100%|██████████| 250/250 [00:37<00:00,  6.75it/s]\n",
      "100%|██████████| 250/250 [00:22<00:00, 10.91it/s]\n"
     ]
    },
    {
     "name": "stdout",
     "output_type": "stream",
     "text": [
      "epoch #10 \n",
      "\n",
      "TRAINING LOSS:\n",
      "total Loss = 0.008939733318984509\n",
      "heatmap Loss = 0.008474686661735177\n",
      "tag Loss = 0.00046504667960107327\n",
      "\n",
      "VALIDATION LOSS:\n",
      "total Loss = 0.00877826064452529\n",
      "heatmap Loss = 0.008313958120532334\n",
      "tag Loss = 0.0004643025079276413\n",
      "\n",
      "\n",
      "\n"
     ]
    },
    {
     "name": "stderr",
     "output_type": "stream",
     "text": [
      "100%|██████████| 250/250 [00:36<00:00,  6.87it/s]\n",
      "100%|██████████| 250/250 [00:22<00:00, 10.93it/s]\n"
     ]
    },
    {
     "name": "stdout",
     "output_type": "stream",
     "text": [
      "epoch #11 \n",
      "\n",
      "TRAINING LOSS:\n",
      "total Loss = 0.00886736729182303\n",
      "heatmap Loss = 0.00840393828228116\n",
      "tag Loss = 0.00046342899405863136\n",
      "\n",
      "VALIDATION LOSS:\n",
      "total Loss = 0.009550628658384085\n",
      "heatmap Loss = 0.009084626819938421\n",
      "tag Loss = 0.00046600185276474804\n",
      "\n",
      "\n",
      "\n"
     ]
    },
    {
     "name": "stderr",
     "output_type": "stream",
     "text": [
      "100%|██████████| 250/250 [00:36<00:00,  6.78it/s]\n",
      "100%|██████████| 250/250 [00:23<00:00, 10.79it/s]\n"
     ]
    },
    {
     "name": "stdout",
     "output_type": "stream",
     "text": [
      "epoch #12 \n",
      "\n",
      "TRAINING LOSS:\n",
      "total Loss = 0.008740930197760463\n",
      "heatmap Loss = 0.00827607692591846\n",
      "tag Loss = 0.0004648532597348094\n",
      "\n",
      "VALIDATION LOSS:\n",
      "total Loss = 0.008761262403801083\n",
      "heatmap Loss = 0.008297948338091374\n",
      "tag Loss = 0.00046331405348610133\n",
      "\n",
      "\n",
      "\n"
     ]
    },
    {
     "name": "stderr",
     "output_type": "stream",
     "text": [
      "100%|██████████| 250/250 [00:37<00:00,  6.64it/s]\n",
      "100%|██████████| 250/250 [00:23<00:00, 10.87it/s]\n"
     ]
    },
    {
     "name": "stdout",
     "output_type": "stream",
     "text": [
      "epoch #13 \n",
      "\n",
      "TRAINING LOSS:\n",
      "total Loss = 0.008716180548071861\n",
      "heatmap Loss = 0.008252128522843122\n",
      "tag Loss = 0.00046405203512404116\n",
      "\n",
      "VALIDATION LOSS:\n",
      "total Loss = 0.008618804337456822\n",
      "heatmap Loss = 0.008155085649341344\n",
      "tag Loss = 0.00046371870255097747\n",
      "\n",
      "\n",
      "\n"
     ]
    },
    {
     "name": "stderr",
     "output_type": "stream",
     "text": [
      "100%|██████████| 250/250 [00:36<00:00,  6.82it/s]\n",
      "100%|██████████| 250/250 [00:23<00:00, 10.61it/s]\n"
     ]
    },
    {
     "name": "stdout",
     "output_type": "stream",
     "text": [
      "epoch #14 \n",
      "\n",
      "TRAINING LOSS:\n",
      "total Loss = 0.008714707320556044\n",
      "heatmap Loss = 0.008250363478437066\n",
      "tag Loss = 0.00046434385050088167\n",
      "\n",
      "VALIDATION LOSS:\n",
      "total Loss = 0.008615206195041537\n",
      "heatmap Loss = 0.008151459991931915\n",
      "tag Loss = 0.0004637462010141462\n",
      "\n",
      "\n",
      "\n"
     ]
    },
    {
     "name": "stderr",
     "output_type": "stream",
     "text": [
      "100%|██████████| 250/250 [00:36<00:00,  6.87it/s]\n",
      "100%|██████████| 250/250 [00:23<00:00, 10.80it/s]\n"
     ]
    },
    {
     "name": "stdout",
     "output_type": "stream",
     "text": [
      "epoch #15 \n",
      "\n",
      "TRAINING LOSS:\n",
      "total Loss = 0.008651481134817004\n",
      "heatmap Loss = 0.008187757851555944\n",
      "tag Loss = 0.00046372327860444787\n",
      "\n",
      "VALIDATION LOSS:\n",
      "total Loss = 0.008650523822754622\n",
      "heatmap Loss = 0.00818563155643642\n",
      "tag Loss = 0.00046489228773862124\n",
      "\n",
      "\n",
      "\n"
     ]
    },
    {
     "name": "stderr",
     "output_type": "stream",
     "text": [
      "100%|██████████| 250/250 [00:36<00:00,  6.84it/s]\n",
      "100%|██████████| 250/250 [00:23<00:00, 10.67it/s]\n"
     ]
    },
    {
     "name": "stdout",
     "output_type": "stream",
     "text": [
      "epoch #16 \n",
      "\n",
      "TRAINING LOSS:\n",
      "total Loss = 0.008655802169814706\n",
      "heatmap Loss = 0.00819117822125554\n",
      "tag Loss = 0.00046462393063120545\n",
      "\n",
      "VALIDATION LOSS:\n",
      "total Loss = 0.008599778700619936\n",
      "heatmap Loss = 0.008134900806471706\n",
      "tag Loss = 0.00046487789310049264\n",
      "\n",
      "\n",
      "\n"
     ]
    },
    {
     "name": "stderr",
     "output_type": "stream",
     "text": [
      "100%|██████████| 250/250 [00:36<00:00,  6.83it/s]\n",
      "100%|██████████| 250/250 [00:23<00:00, 10.73it/s]\n"
     ]
    },
    {
     "name": "stdout",
     "output_type": "stream",
     "text": [
      "epoch #17 \n",
      "\n",
      "TRAINING LOSS:\n",
      "total Loss = 0.008620136093348265\n",
      "heatmap Loss = 0.008155266743153334\n",
      "tag Loss = 0.00046486934192944317\n",
      "\n",
      "VALIDATION LOSS:\n",
      "total Loss = 0.00858761641010642\n",
      "heatmap Loss = 0.008124220795929431\n",
      "tag Loss = 0.0004633956194156781\n",
      "\n",
      "\n",
      "\n"
     ]
    },
    {
     "name": "stderr",
     "output_type": "stream",
     "text": [
      "100%|██████████| 250/250 [00:36<00:00,  6.78it/s]\n",
      "100%|██████████| 250/250 [00:23<00:00, 10.79it/s]\n"
     ]
    },
    {
     "name": "stdout",
     "output_type": "stream",
     "text": [
      "epoch #18 \n",
      "\n",
      "TRAINING LOSS:\n",
      "total Loss = 0.00857537598349154\n",
      "heatmap Loss = 0.00810964691452682\n",
      "tag Loss = 0.00046572904638014735\n",
      "\n",
      "VALIDATION LOSS:\n",
      "total Loss = 0.008567723153159023\n",
      "heatmap Loss = 0.00810435114428401\n",
      "tag Loss = 0.00046337199909612535\n",
      "\n",
      "\n",
      "\n"
     ]
    },
    {
     "name": "stderr",
     "output_type": "stream",
     "text": [
      "100%|██████████| 250/250 [00:36<00:00,  6.81it/s]\n",
      "100%|██████████| 250/250 [00:22<00:00, 11.13it/s]\n"
     ]
    },
    {
     "name": "stdout",
     "output_type": "stream",
     "text": [
      "epoch #19 \n",
      "\n",
      "TRAINING LOSS:\n",
      "total Loss = 0.008565154584124685\n",
      "heatmap Loss = 0.008101262146607042\n",
      "tag Loss = 0.00046389241341967136\n",
      "\n",
      "VALIDATION LOSS:\n",
      "total Loss = 0.008561645844951272\n",
      "heatmap Loss = 0.00809889544546604\n",
      "tag Loss = 0.00046275039995089174\n",
      "\n",
      "\n",
      "\n"
     ]
    },
    {
     "name": "stderr",
     "output_type": "stream",
     "text": [
      "100%|██████████| 250/250 [00:36<00:00,  6.94it/s]\n",
      "100%|██████████| 250/250 [00:22<00:00, 11.07it/s]\n"
     ]
    },
    {
     "name": "stdout",
     "output_type": "stream",
     "text": [
      "epoch #20 \n",
      "\n",
      "TRAINING LOSS:\n",
      "total Loss = 0.008707730237394571\n",
      "heatmap Loss = 0.00824360360391438\n",
      "tag Loss = 0.0004641266429098323\n",
      "\n",
      "VALIDATION LOSS:\n",
      "total Loss = 0.008719725089147687\n",
      "heatmap Loss = 0.008255189644172788\n",
      "tag Loss = 0.0004645354194799438\n",
      "\n",
      "\n",
      "\n"
     ]
    },
    {
     "name": "stderr",
     "output_type": "stream",
     "text": [
      "100%|██████████| 250/250 [00:36<00:00,  6.94it/s]\n",
      "100%|██████████| 250/250 [00:22<00:00, 11.02it/s]\n"
     ]
    },
    {
     "name": "stdout",
     "output_type": "stream",
     "text": [
      "epoch #21 \n",
      "\n",
      "TRAINING LOSS:\n",
      "total Loss = 0.008673408802598715\n",
      "heatmap Loss = 0.008208665199577808\n",
      "tag Loss = 0.00046474358369596303\n",
      "\n",
      "VALIDATION LOSS:\n",
      "total Loss = 0.008590554831549526\n",
      "heatmap Loss = 0.008126025622710585\n",
      "tag Loss = 0.00046452922152820977\n",
      "\n",
      "\n",
      "\n"
     ]
    },
    {
     "name": "stderr",
     "output_type": "stream",
     "text": [
      "100%|██████████| 250/250 [00:36<00:00,  6.92it/s]\n",
      "100%|██████████| 250/250 [00:23<00:00, 10.85it/s]\n"
     ]
    },
    {
     "name": "stdout",
     "output_type": "stream",
     "text": [
      "epoch #22 \n",
      "\n",
      "TRAINING LOSS:\n",
      "total Loss = 0.008585134733468294\n",
      "heatmap Loss = 0.008120851462706923\n",
      "tag Loss = 0.00046428326715249567\n",
      "\n",
      "VALIDATION LOSS:\n",
      "total Loss = 0.0085307259503752\n",
      "heatmap Loss = 0.008066491341218352\n",
      "tag Loss = 0.00046423461625818164\n",
      "\n",
      "\n",
      "\n"
     ]
    },
    {
     "name": "stderr",
     "output_type": "stream",
     "text": [
      "100%|██████████| 250/250 [00:36<00:00,  6.93it/s]\n",
      "100%|██████████| 250/250 [00:23<00:00, 10.79it/s]\n"
     ]
    },
    {
     "name": "stdout",
     "output_type": "stream",
     "text": [
      "epoch #23 \n",
      "\n",
      "TRAINING LOSS:\n",
      "total Loss = 0.008493610328063369\n",
      "heatmap Loss = 0.008029314439743758\n",
      "tag Loss = 0.00046429587760940197\n",
      "\n",
      "VALIDATION LOSS:\n",
      "total Loss = 0.008528255380690098\n",
      "heatmap Loss = 0.008063726425170899\n",
      "tag Loss = 0.0004645289647160098\n",
      "\n",
      "\n",
      "\n"
     ]
    },
    {
     "name": "stderr",
     "output_type": "stream",
     "text": [
      "100%|██████████| 250/250 [00:36<00:00,  6.94it/s]\n",
      "100%|██████████| 250/250 [00:22<00:00, 11.25it/s]\n"
     ]
    },
    {
     "name": "stdout",
     "output_type": "stream",
     "text": [
      "epoch #24 \n",
      "\n",
      "TRAINING LOSS:\n",
      "total Loss = 0.008767674889415503\n",
      "heatmap Loss = 0.008303911976516247\n",
      "tag Loss = 0.00046376290591433644\n",
      "\n",
      "VALIDATION LOSS:\n",
      "total Loss = 0.008579676980152726\n",
      "heatmap Loss = 0.008115930538624526\n",
      "tag Loss = 0.00046374644828028975\n",
      "\n",
      "\n",
      "\n"
     ]
    },
    {
     "name": "stderr",
     "output_type": "stream",
     "text": [
      "100%|██████████| 250/250 [00:36<00:00,  6.82it/s]\n",
      "100%|██████████| 250/250 [00:23<00:00, 10.76it/s]\n"
     ]
    },
    {
     "name": "stdout",
     "output_type": "stream",
     "text": [
      "epoch #25 \n",
      "\n",
      "TRAINING LOSS:\n",
      "total Loss = 0.008677466806024313\n",
      "heatmap Loss = 0.008211678180843592\n",
      "tag Loss = 0.00046578859654255214\n",
      "\n",
      "VALIDATION LOSS:\n",
      "total Loss = 0.008478550402447582\n",
      "heatmap Loss = 0.008014817817136645\n",
      "tag Loss = 0.0004637325815856457\n",
      "\n",
      "\n",
      "\n"
     ]
    },
    {
     "name": "stderr",
     "output_type": "stream",
     "text": [
      "100%|██████████| 250/250 [00:35<00:00,  6.97it/s]\n",
      "100%|██████████| 250/250 [00:22<00:00, 11.03it/s]\n"
     ]
    },
    {
     "name": "stdout",
     "output_type": "stream",
     "text": [
      "epoch #26 \n",
      "\n",
      "TRAINING LOSS:\n",
      "total Loss = 0.008502954754978418\n",
      "heatmap Loss = 0.008038485696539283\n",
      "tag Loss = 0.00046446907031349837\n",
      "\n",
      "VALIDATION LOSS:\n",
      "total Loss = 0.008520256113260984\n",
      "heatmap Loss = 0.00805630105920136\n",
      "tag Loss = 0.00046395503263920546\n",
      "\n",
      "\n",
      "\n"
     ]
    },
    {
     "name": "stderr",
     "output_type": "stream",
     "text": [
      "100%|██████████| 250/250 [00:36<00:00,  6.85it/s]\n",
      "100%|██████████| 250/250 [00:22<00:00, 11.31it/s]\n"
     ]
    },
    {
     "name": "stdout",
     "output_type": "stream",
     "text": [
      "epoch #27 \n",
      "\n",
      "TRAINING LOSS:\n",
      "total Loss = 0.008478747464716434\n",
      "heatmap Loss = 0.008014993628486991\n",
      "tag Loss = 0.0004637538391398266\n",
      "\n",
      "VALIDATION LOSS:\n",
      "total Loss = 0.00844391044601798\n",
      "heatmap Loss = 0.007979951046407223\n",
      "tag Loss = 0.0004639593866886571\n",
      "\n",
      "\n",
      "\n"
     ]
    },
    {
     "name": "stderr",
     "output_type": "stream",
     "text": [
      "100%|██████████| 250/250 [00:36<00:00,  6.86it/s]\n",
      "100%|██████████| 250/250 [00:23<00:00, 10.84it/s]\n"
     ]
    },
    {
     "name": "stdout",
     "output_type": "stream",
     "text": [
      "epoch #28 \n",
      "\n",
      "TRAINING LOSS:\n",
      "total Loss = 0.008513603573665023\n",
      "heatmap Loss = 0.008048872288316489\n",
      "tag Loss = 0.0004647312858141959\n",
      "\n",
      "VALIDATION LOSS:\n",
      "total Loss = 0.008407415857538581\n",
      "heatmap Loss = 0.007943714613094927\n",
      "tag Loss = 0.00046370125154498966\n",
      "\n",
      "\n",
      "\n"
     ]
    },
    {
     "name": "stderr",
     "output_type": "stream",
     "text": [
      "100%|██████████| 250/250 [00:36<00:00,  6.93it/s]\n",
      "100%|██████████| 250/250 [00:22<00:00, 11.02it/s]\n"
     ]
    },
    {
     "name": "stdout",
     "output_type": "stream",
     "text": [
      "epoch #29 \n",
      "\n",
      "TRAINING LOSS:\n",
      "total Loss = 0.008521961649879813\n",
      "heatmap Loss = 0.00805699528194964\n",
      "tag Loss = 0.0004649664063472301\n",
      "\n",
      "VALIDATION LOSS:\n",
      "total Loss = 0.008832950828596949\n",
      "heatmap Loss = 0.008368994869291782\n",
      "tag Loss = 0.00046395594568457454\n",
      "\n",
      "\n",
      "\n"
     ]
    },
    {
     "name": "stderr",
     "output_type": "stream",
     "text": [
      "100%|██████████| 250/250 [00:36<00:00,  6.87it/s]\n",
      "100%|██████████| 250/250 [00:23<00:00, 10.84it/s]\n"
     ]
    },
    {
     "name": "stdout",
     "output_type": "stream",
     "text": [
      "epoch #30 \n",
      "\n",
      "TRAINING LOSS:\n",
      "total Loss = 0.008469710268080235\n",
      "heatmap Loss = 0.008005301067605615\n",
      "tag Loss = 0.00046440921316388996\n",
      "\n",
      "VALIDATION LOSS:\n",
      "total Loss = 0.008405347922816872\n",
      "heatmap Loss = 0.007940669322386384\n",
      "tag Loss = 0.00046467859076801686\n",
      "\n",
      "\n",
      "\n"
     ]
    },
    {
     "name": "stderr",
     "output_type": "stream",
     "text": [
      "100%|██████████| 250/250 [00:36<00:00,  6.84it/s]\n",
      "100%|██████████| 250/250 [00:22<00:00, 11.15it/s]\n"
     ]
    },
    {
     "name": "stdout",
     "output_type": "stream",
     "text": [
      "epoch #31 \n",
      "\n",
      "TRAINING LOSS:\n",
      "total Loss = 0.0084076470118016\n",
      "heatmap Loss = 0.0079434181638062\n",
      "tag Loss = 0.0004642288450850174\n",
      "\n",
      "VALIDATION LOSS:\n",
      "total Loss = 0.008415122341364623\n",
      "heatmap Loss = 0.007949848951771855\n",
      "tag Loss = 0.0004652733765542507\n",
      "\n",
      "\n",
      "\n"
     ]
    },
    {
     "name": "stderr",
     "output_type": "stream",
     "text": [
      "100%|██████████| 250/250 [00:35<00:00,  6.96it/s]\n",
      "100%|██████████| 250/250 [00:22<00:00, 11.19it/s]\n"
     ]
    },
    {
     "name": "stdout",
     "output_type": "stream",
     "text": [
      "epoch #32 \n",
      "\n",
      "TRAINING LOSS:\n",
      "total Loss = 0.008442019559442997\n",
      "heatmap Loss = 0.007979189807549119\n",
      "tag Loss = 0.0004628297646995634\n",
      "\n",
      "VALIDATION LOSS:\n",
      "total Loss = 0.008585400832816958\n",
      "heatmap Loss = 0.008120427953079342\n",
      "tag Loss = 0.00046497289603576064\n",
      "\n",
      "\n",
      "\n"
     ]
    },
    {
     "name": "stderr",
     "output_type": "stream",
     "text": [
      "100%|██████████| 250/250 [00:36<00:00,  6.91it/s]\n",
      "100%|██████████| 250/250 [00:22<00:00, 11.27it/s]\n"
     ]
    },
    {
     "name": "stdout",
     "output_type": "stream",
     "text": [
      "epoch #33 \n",
      "\n",
      "TRAINING LOSS:\n",
      "total Loss = 0.008538467923179268\n",
      "heatmap Loss = 0.008075529323890804\n",
      "tag Loss = 0.0004629386010346934\n",
      "\n",
      "VALIDATION LOSS:\n",
      "total Loss = 0.00845604501850903\n",
      "heatmap Loss = 0.007992159618064761\n",
      "tag Loss = 0.0004638853872893378\n",
      "\n",
      "\n",
      "\n"
     ]
    },
    {
     "name": "stderr",
     "output_type": "stream",
     "text": [
      "100%|██████████| 250/250 [00:35<00:00,  7.01it/s]\n",
      "100%|██████████| 250/250 [00:23<00:00, 10.79it/s]\n"
     ]
    },
    {
     "name": "stdout",
     "output_type": "stream",
     "text": [
      "epoch #34 \n",
      "\n",
      "TRAINING LOSS:\n",
      "total Loss = 0.008366423288360238\n",
      "heatmap Loss = 0.007901238221675157\n",
      "tag Loss = 0.0004651850637746975\n",
      "\n",
      "VALIDATION LOSS:\n",
      "total Loss = 0.008280040035024284\n",
      "heatmap Loss = 0.007815961182117461\n",
      "tag Loss = 0.0004640788589604199\n",
      "\n",
      "\n",
      "\n"
     ]
    },
    {
     "name": "stderr",
     "output_type": "stream",
     "text": [
      "100%|██████████| 250/250 [00:36<00:00,  6.80it/s]\n",
      "100%|██████████| 250/250 [00:23<00:00, 10.48it/s]\n"
     ]
    },
    {
     "name": "stdout",
     "output_type": "stream",
     "text": [
      "epoch #35 \n",
      "\n",
      "TRAINING LOSS:\n",
      "total Loss = 0.008351332606747747\n",
      "heatmap Loss = 0.007888267876580358\n",
      "tag Loss = 0.00046306473680306226\n",
      "\n",
      "VALIDATION LOSS:\n",
      "total Loss = 0.008303334813565016\n",
      "heatmap Loss = 0.00783745571039617\n",
      "tag Loss = 0.00046587910689413546\n",
      "\n",
      "\n",
      "\n"
     ]
    },
    {
     "name": "stderr",
     "output_type": "stream",
     "text": [
      "100%|██████████| 250/250 [00:36<00:00,  6.76it/s]\n",
      "100%|██████████| 250/250 [00:22<00:00, 10.90it/s]\n"
     ]
    },
    {
     "name": "stdout",
     "output_type": "stream",
     "text": [
      "epoch #36 \n",
      "\n",
      "TRAINING LOSS:\n",
      "total Loss = 0.008361945053562522\n",
      "heatmap Loss = 0.007898069093003869\n",
      "tag Loss = 0.00046387594367843123\n",
      "\n",
      "VALIDATION LOSS:\n",
      "total Loss = 0.008154260132461786\n",
      "heatmap Loss = 0.007690420746803284\n",
      "tag Loss = 0.00046383939567022024\n",
      "\n",
      "\n",
      "\n"
     ]
    },
    {
     "name": "stderr",
     "output_type": "stream",
     "text": [
      "100%|██████████| 250/250 [00:36<00:00,  6.82it/s]\n",
      "100%|██████████| 250/250 [00:23<00:00, 10.63it/s]\n"
     ]
    },
    {
     "name": "stdout",
     "output_type": "stream",
     "text": [
      "epoch #37 \n",
      "\n",
      "TRAINING LOSS:\n",
      "total Loss = 0.00833049132861197\n",
      "heatmap Loss = 0.00786704059317708\n",
      "tag Loss = 0.0004634507582522929\n",
      "\n",
      "VALIDATION LOSS:\n",
      "total Loss = 0.008159251291304827\n",
      "heatmap Loss = 0.007696536125615239\n",
      "tag Loss = 0.000462715161498636\n",
      "\n",
      "\n",
      "\n"
     ]
    },
    {
     "name": "stderr",
     "output_type": "stream",
     "text": [
      "100%|██████████| 250/250 [00:36<00:00,  6.85it/s]\n",
      "100%|██████████| 250/250 [00:23<00:00, 10.68it/s]\n"
     ]
    },
    {
     "name": "stdout",
     "output_type": "stream",
     "text": [
      "epoch #38 \n",
      "\n",
      "TRAINING LOSS:\n",
      "total Loss = 0.008362001407891511\n",
      "heatmap Loss = 0.00789738692343235\n",
      "tag Loss = 0.00046461447374895214\n",
      "\n",
      "VALIDATION LOSS:\n",
      "total Loss = 0.008271474895998835\n",
      "heatmap Loss = 0.007809335693717003\n",
      "tag Loss = 0.00046213920204900207\n",
      "\n",
      "\n",
      "\n"
     ]
    },
    {
     "name": "stderr",
     "output_type": "stream",
     "text": [
      "100%|██████████| 250/250 [00:36<00:00,  6.89it/s]\n",
      "100%|██████████| 250/250 [00:23<00:00, 10.52it/s]\n"
     ]
    },
    {
     "name": "stdout",
     "output_type": "stream",
     "text": [
      "epoch #39 \n",
      "\n",
      "TRAINING LOSS:\n",
      "total Loss = 0.008213713947683573\n",
      "heatmap Loss = 0.007750242801383138\n",
      "tag Loss = 0.00046347116283141076\n",
      "\n",
      "VALIDATION LOSS:\n",
      "total Loss = 0.008117162173613905\n",
      "heatmap Loss = 0.007654120665043593\n",
      "tag Loss = 0.0004630414934363216\n",
      "\n",
      "\n",
      "\n"
     ]
    },
    {
     "name": "stderr",
     "output_type": "stream",
     "text": [
      "100%|██████████| 250/250 [00:36<00:00,  6.86it/s]\n",
      "100%|██████████| 250/250 [00:23<00:00, 10.77it/s]\n"
     ]
    },
    {
     "name": "stdout",
     "output_type": "stream",
     "text": [
      "epoch #40 \n",
      "\n",
      "TRAINING LOSS:\n",
      "total Loss = 0.008297389399260283\n",
      "heatmap Loss = 0.007833115374669433\n",
      "tag Loss = 0.00046427402342669665\n",
      "\n",
      "VALIDATION LOSS:\n",
      "total Loss = 0.008229384562000633\n",
      "heatmap Loss = 0.007765386447310447\n",
      "tag Loss = 0.0004639981361106038\n",
      "\n",
      "\n",
      "\n"
     ]
    },
    {
     "name": "stderr",
     "output_type": "stream",
     "text": [
      "100%|██████████| 250/250 [00:37<00:00,  6.73it/s]\n",
      "100%|██████████| 250/250 [00:23<00:00, 10.45it/s]\n"
     ]
    },
    {
     "name": "stdout",
     "output_type": "stream",
     "text": [
      "epoch #41 \n",
      "\n",
      "TRAINING LOSS:\n",
      "total Loss = 0.008217720087617635\n",
      "heatmap Loss = 0.0077513846922665835\n",
      "tag Loss = 0.0004663354195654392\n",
      "\n",
      "VALIDATION LOSS:\n",
      "total Loss = 0.008176364602521063\n",
      "heatmap Loss = 0.007709885800257325\n",
      "tag Loss = 0.00046647880808450284\n",
      "\n",
      "\n",
      "\n"
     ]
    },
    {
     "name": "stderr",
     "output_type": "stream",
     "text": [
      "100%|██████████| 250/250 [00:37<00:00,  6.75it/s]\n",
      "100%|██████████| 250/250 [00:22<00:00, 10.99it/s]\n"
     ]
    },
    {
     "name": "stdout",
     "output_type": "stream",
     "text": [
      "epoch #42 \n",
      "\n",
      "TRAINING LOSS:\n",
      "total Loss = 0.008200594745576382\n",
      "heatmap Loss = 0.007737834295257926\n",
      "tag Loss = 0.00046276046661660077\n",
      "\n",
      "VALIDATION LOSS:\n",
      "total Loss = 0.008252750737592579\n",
      "heatmap Loss = 0.007789070125669241\n",
      "tag Loss = 0.00046368061017710714\n",
      "\n",
      "\n",
      "\n"
     ]
    },
    {
     "name": "stderr",
     "output_type": "stream",
     "text": [
      "100%|██████████| 250/250 [00:36<00:00,  6.87it/s]\n",
      "100%|██████████| 250/250 [00:22<00:00, 10.93it/s]\n"
     ]
    },
    {
     "name": "stdout",
     "output_type": "stream",
     "text": [
      "epoch #43 \n",
      "\n",
      "TRAINING LOSS:\n",
      "total Loss = 0.00818999207392335\n",
      "heatmap Loss = 0.0077273154072463515\n",
      "tag Loss = 0.00046267667808569965\n",
      "\n",
      "VALIDATION LOSS:\n",
      "total Loss = 0.008164764972403645\n",
      "heatmap Loss = 0.007699867509305477\n",
      "tag Loss = 0.0004648974593728781\n",
      "\n",
      "\n",
      "\n"
     ]
    },
    {
     "name": "stderr",
     "output_type": "stream",
     "text": [
      "100%|██████████| 250/250 [00:36<00:00,  6.84it/s]\n",
      "100%|██████████| 250/250 [00:23<00:00, 10.65it/s]\n"
     ]
    },
    {
     "name": "stdout",
     "output_type": "stream",
     "text": [
      "epoch #44 \n",
      "\n",
      "TRAINING LOSS:\n",
      "total Loss = 0.008111683556810021\n",
      "heatmap Loss = 0.007649438934400678\n",
      "tag Loss = 0.00046224461926613\n",
      "\n",
      "VALIDATION LOSS:\n",
      "total Loss = 0.008048294061794877\n",
      "heatmap Loss = 0.007584615608677268\n",
      "tag Loss = 0.0004636784786125645\n",
      "\n",
      "\n",
      "\n"
     ]
    },
    {
     "name": "stderr",
     "output_type": "stream",
     "text": [
      "100%|██████████| 250/250 [00:36<00:00,  6.88it/s]\n",
      "100%|██████████| 250/250 [00:23<00:00, 10.87it/s]\n"
     ]
    },
    {
     "name": "stdout",
     "output_type": "stream",
     "text": [
      "epoch #45 \n",
      "\n",
      "TRAINING LOSS:\n",
      "total Loss = 0.008074749870225786\n",
      "heatmap Loss = 0.007612336982041597\n",
      "tag Loss = 0.0004624129072763026\n",
      "\n",
      "VALIDATION LOSS:\n",
      "total Loss = 0.008012040473520755\n",
      "heatmap Loss = 0.007549143956974149\n",
      "tag Loss = 0.0004628965180600062\n",
      "\n",
      "\n",
      "\n"
     ]
    },
    {
     "name": "stderr",
     "output_type": "stream",
     "text": [
      "100%|██████████| 250/250 [00:36<00:00,  6.87it/s]\n",
      "100%|██████████| 250/250 [00:22<00:00, 11.08it/s]\n"
     ]
    },
    {
     "name": "stdout",
     "output_type": "stream",
     "text": [
      "epoch #46 \n",
      "\n",
      "TRAINING LOSS:\n",
      "total Loss = 0.008030068585649133\n",
      "heatmap Loss = 0.007567381568253041\n",
      "tag Loss = 0.00046268700808286666\n",
      "\n",
      "VALIDATION LOSS:\n",
      "total Loss = 0.008013117441907525\n",
      "heatmap Loss = 0.007549871794879436\n",
      "tag Loss = 0.00046324564050883053\n",
      "\n",
      "\n",
      "\n"
     ]
    },
    {
     "name": "stderr",
     "output_type": "stream",
     "text": [
      "100%|██████████| 250/250 [00:36<00:00,  6.83it/s]\n",
      "100%|██████████| 250/250 [00:22<00:00, 11.08it/s]\n"
     ]
    },
    {
     "name": "stdout",
     "output_type": "stream",
     "text": [
      "epoch #47 \n",
      "\n",
      "TRAINING LOSS:\n",
      "total Loss = 0.008025498064234853\n",
      "heatmap Loss = 0.0075633022654801605\n",
      "tag Loss = 0.0004621957971248776\n",
      "\n",
      "VALIDATION LOSS:\n",
      "total Loss = 0.007946931820362806\n",
      "heatmap Loss = 0.00748463886231184\n",
      "tag Loss = 0.0004622929522302002\n",
      "\n",
      "\n",
      "\n"
     ]
    },
    {
     "name": "stderr",
     "output_type": "stream",
     "text": [
      "100%|██████████| 250/250 [00:36<00:00,  6.90it/s]\n",
      "100%|██████████| 250/250 [00:22<00:00, 11.07it/s]\n"
     ]
    },
    {
     "name": "stdout",
     "output_type": "stream",
     "text": [
      "epoch #48 \n",
      "\n",
      "TRAINING LOSS:\n",
      "total Loss = 0.007991519413888454\n",
      "heatmap Loss = 0.007530339268967509\n",
      "tag Loss = 0.00046118014852982017\n",
      "\n",
      "VALIDATION LOSS:\n",
      "total Loss = 0.007865514794364571\n",
      "heatmap Loss = 0.007402279634028673\n",
      "tag Loss = 0.00046323516406118867\n",
      "\n",
      "\n",
      "\n"
     ]
    },
    {
     "name": "stderr",
     "output_type": "stream",
     "text": [
      "100%|██████████| 250/250 [00:36<00:00,  6.79it/s]\n",
      "100%|██████████| 250/250 [00:22<00:00, 10.87it/s]\n"
     ]
    },
    {
     "name": "stdout",
     "output_type": "stream",
     "text": [
      "epoch #49 \n",
      "\n",
      "TRAINING LOSS:\n",
      "total Loss = 0.007887216305360198\n",
      "heatmap Loss = 0.0074258628394454716\n",
      "tag Loss = 0.00046135347080416975\n",
      "\n",
      "VALIDATION LOSS:\n",
      "total Loss = 0.007875458845868707\n",
      "heatmap Loss = 0.0074149959757924076\n",
      "tag Loss = 0.00046046286169439555\n",
      "\n",
      "\n",
      "\n"
     ]
    },
    {
     "name": "stderr",
     "output_type": "stream",
     "text": [
      "100%|██████████| 250/250 [00:36<00:00,  6.94it/s]\n",
      "100%|██████████| 250/250 [00:22<00:00, 10.98it/s]\n"
     ]
    },
    {
     "name": "stdout",
     "output_type": "stream",
     "text": [
      "epoch #50 \n",
      "\n",
      "TRAINING LOSS:\n",
      "total Loss = 0.007838627245277166\n",
      "heatmap Loss = 0.007376425756141543\n",
      "tag Loss = 0.0004622014940250665\n",
      "\n",
      "VALIDATION LOSS:\n",
      "total Loss = 0.007828611724078656\n",
      "heatmap Loss = 0.007367143696174025\n",
      "tag Loss = 0.00046146803558804096\n",
      "\n",
      "\n",
      "\n"
     ]
    },
    {
     "name": "stderr",
     "output_type": "stream",
     "text": [
      "100%|██████████| 250/250 [00:36<00:00,  6.78it/s]\n",
      "100%|██████████| 250/250 [00:24<00:00, 10.06it/s]\n"
     ]
    },
    {
     "name": "stdout",
     "output_type": "stream",
     "text": [
      "epoch #51 \n",
      "\n",
      "TRAINING LOSS:\n",
      "total Loss = 0.007856861028820276\n",
      "heatmap Loss = 0.007398016914725304\n",
      "tag Loss = 0.0004588441280648112\n",
      "\n",
      "VALIDATION LOSS:\n",
      "total Loss = 0.0078123024106025694\n",
      "heatmap Loss = 0.007352819602936506\n",
      "tag Loss = 0.00045948279777076095\n",
      "\n",
      "\n",
      "\n"
     ]
    },
    {
     "name": "stderr",
     "output_type": "stream",
     "text": [
      "100%|██████████| 250/250 [00:37<00:00,  6.58it/s]\n",
      "100%|██████████| 250/250 [00:23<00:00, 10.42it/s]\n"
     ]
    },
    {
     "name": "stdout",
     "output_type": "stream",
     "text": [
      "epoch #52 \n",
      "\n",
      "TRAINING LOSS:\n",
      "total Loss = 0.007888450108468533\n",
      "heatmap Loss = 0.007427239825949073\n",
      "tag Loss = 0.0004612102861283347\n",
      "\n",
      "VALIDATION LOSS:\n",
      "total Loss = 0.007802242899313569\n",
      "heatmap Loss = 0.007343916398473084\n",
      "tag Loss = 0.0004583264844841324\n",
      "\n",
      "\n",
      "\n"
     ]
    },
    {
     "name": "stderr",
     "output_type": "stream",
     "text": [
      "100%|██████████| 250/250 [00:38<00:00,  6.43it/s]\n",
      "100%|██████████| 250/250 [00:24<00:00, 10.11it/s]\n"
     ]
    },
    {
     "name": "stdout",
     "output_type": "stream",
     "text": [
      "epoch #53 \n",
      "\n",
      "TRAINING LOSS:\n",
      "total Loss = 0.0077955813016742466\n",
      "heatmap Loss = 0.007337327592074871\n",
      "tag Loss = 0.0004582537105306983\n",
      "\n",
      "VALIDATION LOSS:\n",
      "total Loss = 0.00769000187702477\n",
      "heatmap Loss = 0.00723280468583107\n",
      "tag Loss = 0.0004571972109843045\n",
      "\n",
      "\n",
      "\n"
     ]
    },
    {
     "name": "stderr",
     "output_type": "stream",
     "text": [
      "100%|██████████| 250/250 [00:37<00:00,  6.61it/s]\n",
      "100%|██████████| 250/250 [00:24<00:00, 10.20it/s]\n"
     ]
    },
    {
     "name": "stdout",
     "output_type": "stream",
     "text": [
      "epoch #54 \n",
      "\n",
      "TRAINING LOSS:\n",
      "total Loss = 0.007792037205770611\n",
      "heatmap Loss = 0.007336637314409018\n",
      "tag Loss = 0.00045539986866060644\n",
      "\n",
      "VALIDATION LOSS:\n",
      "total Loss = 0.0077206536997109654\n",
      "heatmap Loss = 0.007264941960573196\n",
      "tag Loss = 0.0004557117369258776\n",
      "\n",
      "\n",
      "\n"
     ]
    },
    {
     "name": "stderr",
     "output_type": "stream",
     "text": [
      "100%|██████████| 250/250 [00:37<00:00,  6.62it/s]\n",
      "100%|██████████| 250/250 [00:23<00:00, 10.45it/s]\n"
     ]
    },
    {
     "name": "stdout",
     "output_type": "stream",
     "text": [
      "epoch #55 \n",
      "\n",
      "TRAINING LOSS:\n",
      "total Loss = 0.00770571974106133\n",
      "heatmap Loss = 0.007251583125442267\n",
      "tag Loss = 0.0004541365948971361\n",
      "\n",
      "VALIDATION LOSS:\n",
      "total Loss = 0.007668160893023014\n",
      "heatmap Loss = 0.007217183785513044\n",
      "tag Loss = 0.00045097712066490204\n",
      "\n",
      "\n",
      "\n"
     ]
    },
    {
     "name": "stderr",
     "output_type": "stream",
     "text": [
      "100%|██████████| 250/250 [00:38<00:00,  6.52it/s]\n",
      "100%|██████████| 250/250 [00:23<00:00, 10.60it/s]\n"
     ]
    },
    {
     "name": "stdout",
     "output_type": "stream",
     "text": [
      "epoch #56 \n",
      "\n",
      "TRAINING LOSS:\n",
      "total Loss = 0.007696428842842579\n",
      "heatmap Loss = 0.007245393108576536\n",
      "tag Loss = 0.0004510357272811234\n",
      "\n",
      "VALIDATION LOSS:\n",
      "total Loss = 0.0076005316376686095\n",
      "heatmap Loss = 0.007150250724516809\n",
      "tag Loss = 0.0004502809173427522\n",
      "\n",
      "\n",
      "\n"
     ]
    },
    {
     "name": "stderr",
     "output_type": "stream",
     "text": [
      "100%|██████████| 250/250 [00:36<00:00,  6.81it/s]\n",
      "100%|██████████| 250/250 [00:23<00:00, 10.67it/s]\n"
     ]
    },
    {
     "name": "stdout",
     "output_type": "stream",
     "text": [
      "epoch #57 \n",
      "\n",
      "TRAINING LOSS:\n",
      "total Loss = 0.007697208855301142\n",
      "heatmap Loss = 0.007252465108409524\n",
      "tag Loss = 0.0004447437630733475\n",
      "\n",
      "VALIDATION LOSS:\n",
      "total Loss = 0.0075631910562515255\n",
      "heatmap Loss = 0.007122805301100016\n",
      "tag Loss = 0.0004403857804136351\n",
      "\n",
      "\n",
      "\n"
     ]
    },
    {
     "name": "stderr",
     "output_type": "stream",
     "text": [
      "100%|██████████| 250/250 [00:36<00:00,  6.85it/s]\n",
      "100%|██████████| 250/250 [00:22<00:00, 11.03it/s]\n"
     ]
    },
    {
     "name": "stdout",
     "output_type": "stream",
     "text": [
      "epoch #58 \n",
      "\n",
      "TRAINING LOSS:\n",
      "total Loss = 0.007658238284289837\n",
      "heatmap Loss = 0.007226075202226638\n",
      "tag Loss = 0.000432163062505424\n",
      "\n",
      "VALIDATION LOSS:\n",
      "total Loss = 0.007625105187296867\n",
      "heatmap Loss = 0.007194208031520247\n",
      "tag Loss = 0.0004308971724240109\n",
      "\n",
      "\n",
      "\n"
     ]
    },
    {
     "name": "stderr",
     "output_type": "stream",
     "text": [
      "100%|██████████| 250/250 [00:37<00:00,  6.72it/s]\n",
      "100%|██████████| 250/250 [00:23<00:00, 10.59it/s]\n"
     ]
    },
    {
     "name": "stdout",
     "output_type": "stream",
     "text": [
      "epoch #59 \n",
      "\n",
      "TRAINING LOSS:\n",
      "total Loss = 0.007602798957377672\n",
      "heatmap Loss = 0.007196017377078533\n",
      "tag Loss = 0.0004067815915332176\n",
      "\n",
      "VALIDATION LOSS:\n",
      "total Loss = 0.007473968379199505\n",
      "heatmap Loss = 0.007085198670625687\n",
      "tag Loss = 0.00038876971509307624\n",
      "\n",
      "\n",
      "\n"
     ]
    },
    {
     "name": "stderr",
     "output_type": "stream",
     "text": [
      "100%|██████████| 250/250 [00:36<00:00,  6.89it/s]\n",
      "100%|██████████| 250/250 [00:23<00:00, 10.79it/s]\n"
     ]
    },
    {
     "name": "stdout",
     "output_type": "stream",
     "text": [
      "epoch #60 \n",
      "\n",
      "TRAINING LOSS:\n",
      "total Loss = 0.007484049478545785\n",
      "heatmap Loss = 0.007104757776483893\n",
      "tag Loss = 0.0003792917090468109\n",
      "\n",
      "VALIDATION LOSS:\n",
      "total Loss = 0.007470601310953498\n",
      "heatmap Loss = 0.007093891322612763\n",
      "tag Loss = 0.0003767099633114412\n",
      "\n",
      "\n",
      "\n"
     ]
    },
    {
     "name": "stderr",
     "output_type": "stream",
     "text": [
      "100%|██████████| 250/250 [00:36<00:00,  6.89it/s]\n",
      "100%|██████████| 250/250 [00:22<00:00, 10.99it/s]\n"
     ]
    },
    {
     "name": "stdout",
     "output_type": "stream",
     "text": [
      "epoch #61 \n",
      "\n",
      "TRAINING LOSS:\n",
      "total Loss = 0.0074900211337953805\n",
      "heatmap Loss = 0.007118145165964961\n",
      "tag Loss = 0.000371875959681347\n",
      "\n",
      "VALIDATION LOSS:\n",
      "total Loss = 0.007441639875993133\n",
      "heatmap Loss = 0.007059507872909308\n",
      "tag Loss = 0.0003821319763083011\n",
      "\n",
      "\n",
      "\n"
     ]
    },
    {
     "name": "stderr",
     "output_type": "stream",
     "text": [
      "100%|██████████| 250/250 [00:36<00:00,  6.83it/s]\n",
      "100%|██████████| 250/250 [00:22<00:00, 10.95it/s]\n"
     ]
    },
    {
     "name": "stdout",
     "output_type": "stream",
     "text": [
      "epoch #62 \n",
      "\n",
      "TRAINING LOSS:\n",
      "total Loss = 0.0074165400993078945\n",
      "heatmap Loss = 0.007054538816213608\n",
      "tag Loss = 0.0003620012816390954\n",
      "\n",
      "VALIDATION LOSS:\n",
      "total Loss = 0.007306952064856887\n",
      "heatmap Loss = 0.006947204515337944\n",
      "tag Loss = 0.0003597475449787453\n",
      "\n",
      "\n",
      "\n"
     ]
    },
    {
     "name": "stderr",
     "output_type": "stream",
     "text": [
      "100%|██████████| 250/250 [00:36<00:00,  6.77it/s]\n",
      "100%|██████████| 250/250 [00:24<00:00, 10.26it/s]\n"
     ]
    },
    {
     "name": "stdout",
     "output_type": "stream",
     "text": [
      "epoch #63 \n",
      "\n",
      "TRAINING LOSS:\n",
      "total Loss = 0.0073814823739230635\n",
      "heatmap Loss = 0.007020664907060563\n",
      "tag Loss = 0.00036081747215939685\n",
      "\n",
      "VALIDATION LOSS:\n",
      "total Loss = 0.007300292344763875\n",
      "heatmap Loss = 0.006944899416528642\n",
      "tag Loss = 0.00035539292899193243\n",
      "\n",
      "\n",
      "\n"
     ]
    },
    {
     "name": "stderr",
     "output_type": "stream",
     "text": [
      "100%|██████████| 250/250 [00:37<00:00,  6.72it/s]\n",
      "100%|██████████| 250/250 [00:23<00:00, 10.65it/s]\n"
     ]
    },
    {
     "name": "stdout",
     "output_type": "stream",
     "text": [
      "epoch #64 \n",
      "\n",
      "TRAINING LOSS:\n",
      "total Loss = 0.007314376078546047\n",
      "heatmap Loss = 0.006960424030199647\n",
      "tag Loss = 0.00035395204660017043\n",
      "\n",
      "VALIDATION LOSS:\n",
      "total Loss = 0.007394148031249642\n",
      "heatmap Loss = 0.0070406443737447266\n",
      "tag Loss = 0.0003535036632674746\n",
      "\n",
      "\n",
      "\n"
     ]
    },
    {
     "name": "stderr",
     "output_type": "stream",
     "text": [
      "100%|██████████| 250/250 [00:36<00:00,  6.81it/s]\n",
      "100%|██████████| 250/250 [00:23<00:00, 10.64it/s]\n"
     ]
    },
    {
     "name": "stdout",
     "output_type": "stream",
     "text": [
      "epoch #65 \n",
      "\n",
      "TRAINING LOSS:\n",
      "total Loss = 0.00732694586366415\n",
      "heatmap Loss = 0.006971322724595666\n",
      "tag Loss = 0.0003556231451802887\n",
      "\n",
      "VALIDATION LOSS:\n",
      "total Loss = 0.007224565831944346\n",
      "heatmap Loss = 0.006874895313754677\n",
      "tag Loss = 0.0003496705136494711\n",
      "\n",
      "\n",
      "\n"
     ]
    },
    {
     "name": "stderr",
     "output_type": "stream",
     "text": [
      "100%|██████████| 250/250 [00:36<00:00,  6.80it/s]\n",
      "100%|██████████| 250/250 [00:23<00:00, 10.52it/s]\n"
     ]
    },
    {
     "name": "stdout",
     "output_type": "stream",
     "text": [
      "epoch #66 \n",
      "\n",
      "TRAINING LOSS:\n",
      "total Loss = 0.007362388670444488\n",
      "heatmap Loss = 0.007014893436804414\n",
      "tag Loss = 0.0003474952321848832\n",
      "\n",
      "VALIDATION LOSS:\n",
      "total Loss = 0.007247053638100624\n",
      "heatmap Loss = 0.006898694942705333\n",
      "tag Loss = 0.00034835868637310343\n",
      "\n",
      "\n",
      "\n"
     ]
    },
    {
     "name": "stderr",
     "output_type": "stream",
     "text": [
      "100%|██████████| 250/250 [00:36<00:00,  6.83it/s]\n",
      "100%|██████████| 250/250 [00:23<00:00, 10.76it/s]\n"
     ]
    },
    {
     "name": "stdout",
     "output_type": "stream",
     "text": [
      "epoch #67 \n",
      "\n",
      "TRAINING LOSS:\n",
      "total Loss = 0.007289497844874859\n",
      "heatmap Loss = 0.006942987784743309\n",
      "tag Loss = 0.0003465100390603766\n",
      "\n",
      "VALIDATION LOSS:\n",
      "total Loss = 0.007271578317508101\n",
      "heatmap Loss = 0.006927351647987962\n",
      "tag Loss = 0.00034422664926387367\n",
      "\n",
      "\n",
      "\n"
     ]
    },
    {
     "name": "stderr",
     "output_type": "stream",
     "text": [
      "100%|██████████| 250/250 [00:36<00:00,  6.79it/s]\n",
      "100%|██████████| 250/250 [00:23<00:00, 10.62it/s]\n"
     ]
    },
    {
     "name": "stdout",
     "output_type": "stream",
     "text": [
      "epoch #68 \n",
      "\n",
      "TRAINING LOSS:\n",
      "total Loss = 0.007163191011175513\n",
      "heatmap Loss = 0.006819513790309429\n",
      "tag Loss = 0.0003436772125423886\n",
      "\n",
      "VALIDATION LOSS:\n",
      "total Loss = 0.007165203826501965\n",
      "heatmap Loss = 0.006823096554726362\n",
      "tag Loss = 0.0003421072888304479\n",
      "\n",
      "\n",
      "\n"
     ]
    },
    {
     "name": "stderr",
     "output_type": "stream",
     "text": [
      "100%|██████████| 250/250 [00:36<00:00,  6.83it/s]\n",
      "100%|██████████| 250/250 [00:23<00:00, 10.49it/s]\n"
     ]
    },
    {
     "name": "stdout",
     "output_type": "stream",
     "text": [
      "epoch #69 \n",
      "\n",
      "TRAINING LOSS:\n",
      "total Loss = 0.0072265195716172455\n",
      "heatmap Loss = 0.006884385894984007\n",
      "tag Loss = 0.0003421336524770595\n",
      "\n",
      "VALIDATION LOSS:\n",
      "total Loss = 0.007192501825280488\n",
      "heatmap Loss = 0.006854450276121497\n",
      "tag Loss = 0.000338051536353305\n",
      "\n",
      "\n",
      "\n"
     ]
    },
    {
     "name": "stderr",
     "output_type": "stream",
     "text": [
      "100%|██████████| 250/250 [00:37<00:00,  6.69it/s]\n",
      "100%|██████████| 250/250 [00:23<00:00, 10.54it/s]\n"
     ]
    },
    {
     "name": "stdout",
     "output_type": "stream",
     "text": [
      "epoch #70 \n",
      "\n",
      "TRAINING LOSS:\n",
      "total Loss = 0.007173436962999403\n",
      "heatmap Loss = 0.0068320429092273115\n",
      "tag Loss = 0.00034139405051246283\n",
      "\n",
      "VALIDATION LOSS:\n",
      "total Loss = 0.0070861587971448895\n",
      "heatmap Loss = 0.006747790887951851\n",
      "tag Loss = 0.0003383679114631377\n",
      "\n",
      "\n",
      "\n"
     ]
    },
    {
     "name": "stderr",
     "output_type": "stream",
     "text": [
      "100%|██████████| 250/250 [00:37<00:00,  6.61it/s]\n",
      "100%|██████████| 250/250 [00:24<00:00, 10.21it/s]\n"
     ]
    },
    {
     "name": "stdout",
     "output_type": "stream",
     "text": [
      "epoch #71 \n",
      "\n",
      "TRAINING LOSS:\n",
      "total Loss = 0.007212215006351471\n",
      "heatmap Loss = 0.006876382836140693\n",
      "tag Loss = 0.00033583218703279273\n",
      "\n",
      "VALIDATION LOSS:\n",
      "total Loss = 0.007053911090828478\n",
      "heatmap Loss = 0.006721416689455509\n",
      "tag Loss = 0.00033249436551705\n",
      "\n",
      "\n",
      "\n"
     ]
    },
    {
     "name": "stderr",
     "output_type": "stream",
     "text": [
      "100%|██████████| 250/250 [00:37<00:00,  6.69it/s]\n",
      "100%|██████████| 250/250 [00:23<00:00, 10.63it/s]\n"
     ]
    },
    {
     "name": "stdout",
     "output_type": "stream",
     "text": [
      "epoch #72 \n",
      "\n",
      "TRAINING LOSS:\n",
      "total Loss = 0.007090275630354881\n",
      "heatmap Loss = 0.0067536073978990314\n",
      "tag Loss = 0.0003366682307096198\n",
      "\n",
      "VALIDATION LOSS:\n",
      "total Loss = 0.007081975508481264\n",
      "heatmap Loss = 0.006751752743497491\n",
      "tag Loss = 0.0003302227621898055\n",
      "\n",
      "\n",
      "\n"
     ]
    },
    {
     "name": "stderr",
     "output_type": "stream",
     "text": [
      "100%|██████████| 250/250 [00:37<00:00,  6.61it/s]\n",
      "100%|██████████| 250/250 [00:25<00:00,  9.93it/s]\n"
     ]
    },
    {
     "name": "stdout",
     "output_type": "stream",
     "text": [
      "epoch #73 \n",
      "\n",
      "TRAINING LOSS:\n",
      "total Loss = 0.0071482916828244925\n",
      "heatmap Loss = 0.006817351568490267\n",
      "tag Loss = 0.0003309400929720141\n",
      "\n",
      "VALIDATION LOSS:\n",
      "total Loss = 0.007012723401188851\n",
      "heatmap Loss = 0.00668361396715045\n",
      "tag Loss = 0.0003291094296146184\n",
      "\n",
      "\n",
      "\n"
     ]
    },
    {
     "name": "stderr",
     "output_type": "stream",
     "text": [
      "100%|██████████| 250/250 [00:37<00:00,  6.67it/s]\n",
      "100%|██████████| 250/250 [00:24<00:00, 10.23it/s]\n"
     ]
    },
    {
     "name": "stdout",
     "output_type": "stream",
     "text": [
      "epoch #74 \n",
      "\n",
      "TRAINING LOSS:\n",
      "total Loss = 0.00709819140471518\n",
      "heatmap Loss = 0.006767156481742859\n",
      "tag Loss = 0.0003310349185485393\n",
      "\n",
      "VALIDATION LOSS:\n",
      "total Loss = 0.006979367543011904\n",
      "heatmap Loss = 0.006650999373756349\n",
      "tag Loss = 0.00032836817036150024\n",
      "\n",
      "\n",
      "\n"
     ]
    },
    {
     "name": "stderr",
     "output_type": "stream",
     "text": [
      "100%|██████████| 250/250 [00:36<00:00,  6.82it/s]\n",
      "100%|██████████| 250/250 [00:23<00:00, 10.68it/s]\n"
     ]
    },
    {
     "name": "stdout",
     "output_type": "stream",
     "text": [
      "epoch #75 \n",
      "\n",
      "TRAINING LOSS:\n",
      "total Loss = 0.00702949280012399\n",
      "heatmap Loss = 0.006703513197600841\n",
      "tag Loss = 0.0003259795744670555\n",
      "\n",
      "VALIDATION LOSS:\n",
      "total Loss = 0.006969118971377611\n",
      "heatmap Loss = 0.006639310580678284\n",
      "tag Loss = 0.0003298084017005749\n",
      "\n",
      "\n",
      "\n"
     ]
    },
    {
     "name": "stderr",
     "output_type": "stream",
     "text": [
      "100%|██████████| 250/250 [00:37<00:00,  6.61it/s]\n",
      "100%|██████████| 250/250 [00:23<00:00, 10.52it/s]\n"
     ]
    },
    {
     "name": "stdout",
     "output_type": "stream",
     "text": [
      "epoch #76 \n",
      "\n",
      "TRAINING LOSS:\n",
      "total Loss = 0.007033588889986277\n",
      "heatmap Loss = 0.0067074551936239\n",
      "tag Loss = 0.0003261337027652189\n",
      "\n",
      "VALIDATION LOSS:\n",
      "total Loss = 0.006912361701950431\n",
      "heatmap Loss = 0.006587158878333867\n",
      "tag Loss = 0.0003252028323477134\n",
      "\n",
      "\n",
      "\n"
     ]
    },
    {
     "name": "stderr",
     "output_type": "stream",
     "text": [
      "100%|██████████| 250/250 [00:37<00:00,  6.66it/s]\n",
      "100%|██████████| 250/250 [00:22<00:00, 10.95it/s]\n"
     ]
    },
    {
     "name": "stdout",
     "output_type": "stream",
     "text": [
      "epoch #77 \n",
      "\n",
      "TRAINING LOSS:\n",
      "total Loss = 0.006994926327839494\n",
      "heatmap Loss = 0.006665809602476656\n",
      "tag Loss = 0.000329116725595668\n",
      "\n",
      "VALIDATION LOSS:\n",
      "total Loss = 0.006956514785066247\n",
      "heatmap Loss = 0.0066335028465837245\n",
      "tag Loss = 0.00032301193731836973\n",
      "\n",
      "\n",
      "\n"
     ]
    },
    {
     "name": "stderr",
     "output_type": "stream",
     "text": [
      "100%|██████████| 250/250 [00:36<00:00,  6.84it/s]\n",
      "100%|██████████| 250/250 [00:23<00:00, 10.59it/s]\n"
     ]
    },
    {
     "name": "stdout",
     "output_type": "stream",
     "text": [
      "epoch #78 \n",
      "\n",
      "TRAINING LOSS:\n",
      "total Loss = 0.006985089310444891\n",
      "heatmap Loss = 0.00666043451987207\n",
      "tag Loss = 0.000324654788535554\n",
      "\n",
      "VALIDATION LOSS:\n",
      "total Loss = 0.006940311518497765\n",
      "heatmap Loss = 0.006621367698535323\n",
      "tag Loss = 0.000318943822348956\n",
      "\n",
      "\n",
      "\n"
     ]
    },
    {
     "name": "stderr",
     "output_type": "stream",
     "text": [
      "100%|██████████| 250/250 [00:36<00:00,  6.76it/s]\n",
      "100%|██████████| 250/250 [00:23<00:00, 10.59it/s]\n"
     ]
    },
    {
     "name": "stdout",
     "output_type": "stream",
     "text": [
      "epoch #79 \n",
      "\n",
      "TRAINING LOSS:\n",
      "total Loss = 0.006968132752925157\n",
      "heatmap Loss = 0.006642765702679753\n",
      "tag Loss = 0.00032536708342377095\n",
      "\n",
      "VALIDATION LOSS:\n",
      "total Loss = 0.006953970913775265\n",
      "heatmap Loss = 0.006631348247639835\n",
      "tag Loss = 0.00032262268208432945\n",
      "\n",
      "\n",
      "\n"
     ]
    },
    {
     "name": "stderr",
     "output_type": "stream",
     "text": [
      "100%|██████████| 250/250 [00:37<00:00,  6.68it/s]\n",
      "100%|██████████| 250/250 [00:23<00:00, 10.43it/s]\n"
     ]
    },
    {
     "name": "stdout",
     "output_type": "stream",
     "text": [
      "epoch #80 \n",
      "\n",
      "TRAINING LOSS:\n",
      "total Loss = 0.006884115369990468\n",
      "heatmap Loss = 0.006559779269620776\n",
      "tag Loss = 0.00032433610275620593\n",
      "\n",
      "VALIDATION LOSS:\n",
      "total Loss = 0.0068706310847774146\n",
      "heatmap Loss = 0.0065518583040684465\n",
      "tag Loss = 0.0003187727782060392\n",
      "\n",
      "\n",
      "\n"
     ]
    },
    {
     "name": "stderr",
     "output_type": "stream",
     "text": [
      "100%|██████████| 250/250 [00:37<00:00,  6.72it/s]\n",
      "100%|██████████| 250/250 [00:23<00:00, 10.83it/s]\n"
     ]
    },
    {
     "name": "stdout",
     "output_type": "stream",
     "text": [
      "epoch #81 \n",
      "\n",
      "TRAINING LOSS:\n",
      "total Loss = 0.006948246425949037\n",
      "heatmap Loss = 0.006624286891892552\n",
      "tag Loss = 0.00032395954965613784\n",
      "\n",
      "VALIDATION LOSS:\n",
      "total Loss = 0.00687539869081229\n",
      "heatmap Loss = 0.006552848353981971\n",
      "tag Loss = 0.00032255032495595516\n",
      "\n",
      "\n",
      "\n"
     ]
    },
    {
     "name": "stderr",
     "output_type": "stream",
     "text": [
      "100%|██████████| 250/250 [00:36<00:00,  6.90it/s]\n",
      "100%|██████████| 250/250 [00:22<00:00, 10.95it/s]\n"
     ]
    },
    {
     "name": "stdout",
     "output_type": "stream",
     "text": [
      "epoch #82 \n",
      "\n",
      "TRAINING LOSS:\n",
      "total Loss = 0.006889843869954348\n",
      "heatmap Loss = 0.006570352077484131\n",
      "tag Loss = 0.0003194917906075716\n",
      "\n",
      "VALIDATION LOSS:\n",
      "total Loss = 0.006815944574773311\n",
      "heatmap Loss = 0.006496199114248156\n",
      "tag Loss = 0.0003197454616893083\n",
      "\n",
      "\n",
      "\n"
     ]
    },
    {
     "name": "stderr",
     "output_type": "stream",
     "text": [
      "100%|██████████| 250/250 [00:36<00:00,  6.88it/s]\n",
      "100%|██████████| 250/250 [00:22<00:00, 10.92it/s]\n"
     ]
    },
    {
     "name": "stdout",
     "output_type": "stream",
     "text": [
      "epoch #83 \n",
      "\n",
      "TRAINING LOSS:\n",
      "total Loss = 0.006881571859121322\n",
      "heatmap Loss = 0.006562825549393892\n",
      "tag Loss = 0.00031874630955280734\n",
      "\n",
      "VALIDATION LOSS:\n",
      "total Loss = 0.006734932583756745\n",
      "heatmap Loss = 0.006419753733091056\n",
      "tag Loss = 0.00031517888052621856\n",
      "\n",
      "\n",
      "\n"
     ]
    },
    {
     "name": "stderr",
     "output_type": "stream",
     "text": [
      "100%|██████████| 250/250 [00:36<00:00,  6.88it/s]\n",
      "100%|██████████| 250/250 [00:23<00:00, 10.69it/s]\n"
     ]
    },
    {
     "name": "stdout",
     "output_type": "stream",
     "text": [
      "epoch #84 \n",
      "\n",
      "TRAINING LOSS:\n",
      "total Loss = 0.006886778688058257\n",
      "heatmap Loss = 0.006569494217634201\n",
      "tag Loss = 0.00031728448678040877\n",
      "\n",
      "VALIDATION LOSS:\n",
      "total Loss = 0.006824926202185452\n",
      "heatmap Loss = 0.0065090435808524486\n",
      "tag Loss = 0.00031588262092554944\n",
      "\n",
      "\n",
      "\n"
     ]
    },
    {
     "name": "stderr",
     "output_type": "stream",
     "text": [
      "100%|██████████| 250/250 [00:36<00:00,  6.79it/s]\n",
      "100%|██████████| 250/250 [00:23<00:00, 10.87it/s]\n"
     ]
    },
    {
     "name": "stdout",
     "output_type": "stream",
     "text": [
      "epoch #85 \n",
      "\n",
      "TRAINING LOSS:\n",
      "total Loss = 0.006787077245302499\n",
      "heatmap Loss = 0.00646673490665853\n",
      "tag Loss = 0.00032034235051833093\n",
      "\n",
      "VALIDATION LOSS:\n",
      "total Loss = 0.006799125093966723\n",
      "heatmap Loss = 0.006485788760706782\n",
      "tag Loss = 0.0003133363397209905\n",
      "\n",
      "\n",
      "\n"
     ]
    },
    {
     "name": "stderr",
     "output_type": "stream",
     "text": [
      "100%|██████████| 250/250 [00:36<00:00,  6.89it/s]\n",
      "100%|██████████| 250/250 [00:23<00:00, 10.83it/s]\n"
     ]
    },
    {
     "name": "stdout",
     "output_type": "stream",
     "text": [
      "epoch #86 \n",
      "\n",
      "TRAINING LOSS:\n",
      "total Loss = 0.006814380625262856\n",
      "heatmap Loss = 0.006495802558027208\n",
      "tag Loss = 0.00031857805751496927\n",
      "\n",
      "VALIDATION LOSS:\n",
      "total Loss = 0.006742782026529312\n",
      "heatmap Loss = 0.006431314799934626\n",
      "tag Loss = 0.00031146723456913604\n",
      "\n",
      "\n",
      "\n"
     ]
    },
    {
     "name": "stderr",
     "output_type": "stream",
     "text": [
      "100%|██████████| 250/250 [00:37<00:00,  6.74it/s]\n",
      "100%|██████████| 250/250 [00:22<00:00, 10.88it/s]\n"
     ]
    },
    {
     "name": "stdout",
     "output_type": "stream",
     "text": [
      "epoch #87 \n",
      "\n",
      "TRAINING LOSS:\n",
      "total Loss = 0.006814732803031802\n",
      "heatmap Loss = 0.006498134773224592\n",
      "tag Loss = 0.00031659801938803867\n",
      "\n",
      "VALIDATION LOSS:\n",
      "total Loss = 0.006759771650657058\n",
      "heatmap Loss = 0.006449886662885547\n",
      "tag Loss = 0.00030988499411614614\n",
      "\n",
      "\n",
      "\n"
     ]
    },
    {
     "name": "stderr",
     "output_type": "stream",
     "text": [
      "100%|██████████| 250/250 [00:36<00:00,  6.77it/s]\n",
      "100%|██████████| 250/250 [00:25<00:00,  9.94it/s]\n"
     ]
    },
    {
     "name": "stdout",
     "output_type": "stream",
     "text": [
      "epoch #88 \n",
      "\n",
      "TRAINING LOSS:\n",
      "total Loss = 0.006785075668245554\n",
      "heatmap Loss = 0.006470022784546017\n",
      "tag Loss = 0.00031505289650522175\n",
      "\n",
      "VALIDATION LOSS:\n",
      "total Loss = 0.006711949842981994\n",
      "heatmap Loss = 0.006399558012373746\n",
      "tag Loss = 0.00031239182624267413\n",
      "\n",
      "\n",
      "\n"
     ]
    },
    {
     "name": "stderr",
     "output_type": "stream",
     "text": [
      "100%|██████████| 250/250 [00:37<00:00,  6.63it/s]\n",
      "100%|██████████| 250/250 [00:23<00:00, 10.76it/s]\n"
     ]
    },
    {
     "name": "stdout",
     "output_type": "stream",
     "text": [
      "epoch #89 \n",
      "\n",
      "TRAINING LOSS:\n",
      "total Loss = 0.00672475771792233\n",
      "heatmap Loss = 0.006412438262254\n",
      "tag Loss = 0.00031231946230400354\n",
      "\n",
      "VALIDATION LOSS:\n",
      "total Loss = 0.00669554596953094\n",
      "heatmap Loss = 0.006388132425025106\n",
      "tag Loss = 0.0003074135729111731\n",
      "\n",
      "\n",
      "\n"
     ]
    },
    {
     "name": "stderr",
     "output_type": "stream",
     "text": [
      "100%|██████████| 250/250 [00:36<00:00,  6.82it/s]\n",
      "100%|██████████| 250/250 [00:22<00:00, 10.89it/s]\n"
     ]
    },
    {
     "name": "stdout",
     "output_type": "stream",
     "text": [
      "epoch #90 \n",
      "\n",
      "TRAINING LOSS:\n",
      "total Loss = 0.00674730238225311\n",
      "heatmap Loss = 0.00643645719345659\n",
      "tag Loss = 0.0003108451814041473\n",
      "\n",
      "VALIDATION LOSS:\n",
      "total Loss = 0.006704576137475669\n",
      "heatmap Loss = 0.0063923824336379765\n",
      "tag Loss = 0.0003121936989482492\n",
      "\n",
      "\n",
      "\n"
     ]
    },
    {
     "name": "stderr",
     "output_type": "stream",
     "text": [
      "100%|██████████| 250/250 [00:36<00:00,  6.80it/s]\n",
      "100%|██████████| 250/250 [00:23<00:00, 10.52it/s]\n"
     ]
    },
    {
     "name": "stdout",
     "output_type": "stream",
     "text": [
      "epoch #91 \n",
      "\n",
      "TRAINING LOSS:\n",
      "total Loss = 0.006757657153531909\n",
      "heatmap Loss = 0.006443244319409132\n",
      "tag Loss = 0.00031441283732419834\n",
      "\n",
      "VALIDATION LOSS:\n",
      "total Loss = 0.006653803085908293\n",
      "heatmap Loss = 0.006343884596601129\n",
      "tag Loss = 0.00030991847766563297\n",
      "\n",
      "\n",
      "\n"
     ]
    },
    {
     "name": "stderr",
     "output_type": "stream",
     "text": [
      "100%|██████████| 250/250 [00:36<00:00,  6.80it/s]\n",
      "100%|██████████| 250/250 [00:24<00:00, 10.30it/s]\n"
     ]
    },
    {
     "name": "stdout",
     "output_type": "stream",
     "text": [
      "epoch #92 \n",
      "\n",
      "TRAINING LOSS:\n",
      "total Loss = 0.00672967829182744\n",
      "heatmap Loss = 0.0064166548112407325\n",
      "tag Loss = 0.0003130234951386228\n",
      "\n",
      "VALIDATION LOSS:\n",
      "total Loss = 0.006706154610961676\n",
      "heatmap Loss = 0.006399466725066304\n",
      "tag Loss = 0.00030668789421906694\n",
      "\n",
      "\n",
      "\n"
     ]
    },
    {
     "name": "stderr",
     "output_type": "stream",
     "text": [
      "100%|██████████| 250/250 [00:36<00:00,  6.78it/s]\n",
      "100%|██████████| 250/250 [00:23<00:00, 10.81it/s]\n"
     ]
    },
    {
     "name": "stdout",
     "output_type": "stream",
     "text": [
      "epoch #93 \n",
      "\n",
      "TRAINING LOSS:\n",
      "total Loss = 0.006734891753643751\n",
      "heatmap Loss = 0.006426133465021849\n",
      "tag Loss = 0.0003087582867592573\n",
      "\n",
      "VALIDATION LOSS:\n",
      "total Loss = 0.006727753491140902\n",
      "heatmap Loss = 0.006419768057763576\n",
      "tag Loss = 0.000307985435531009\n",
      "\n",
      "\n",
      "\n"
     ]
    },
    {
     "name": "stderr",
     "output_type": "stream",
     "text": [
      "100%|██████████| 250/250 [00:36<00:00,  6.86it/s]\n",
      "100%|██████████| 250/250 [00:23<00:00, 10.61it/s]\n"
     ]
    },
    {
     "name": "stdout",
     "output_type": "stream",
     "text": [
      "epoch #94 \n",
      "\n",
      "TRAINING LOSS:\n",
      "total Loss = 0.006692053467035294\n",
      "heatmap Loss = 0.00638357503246516\n",
      "tag Loss = 0.00030847844650270416\n",
      "\n",
      "VALIDATION LOSS:\n",
      "total Loss = 0.006657716996967792\n",
      "heatmap Loss = 0.006349881364963949\n",
      "tag Loss = 0.000307835643470753\n",
      "\n",
      "\n",
      "\n"
     ]
    },
    {
     "name": "stderr",
     "output_type": "stream",
     "text": [
      "100%|██████████| 250/250 [00:36<00:00,  6.84it/s]\n",
      "100%|██████████| 250/250 [00:23<00:00, 10.65it/s]\n"
     ]
    },
    {
     "name": "stdout",
     "output_type": "stream",
     "text": [
      "epoch #95 \n",
      "\n",
      "TRAINING LOSS:\n",
      "total Loss = 0.006655034668743611\n",
      "heatmap Loss = 0.0063454371951520445\n",
      "tag Loss = 0.0003095974661409855\n",
      "\n",
      "VALIDATION LOSS:\n",
      "total Loss = 0.006580238796770573\n",
      "heatmap Loss = 0.0062766852239146825\n",
      "tag Loss = 0.00030355355486972257\n",
      "\n",
      "\n",
      "\n"
     ]
    },
    {
     "name": "stderr",
     "output_type": "stream",
     "text": [
      "100%|██████████| 250/250 [00:37<00:00,  6.69it/s]\n",
      "100%|██████████| 250/250 [00:23<00:00, 10.57it/s]\n"
     ]
    },
    {
     "name": "stdout",
     "output_type": "stream",
     "text": [
      "epoch #96 \n",
      "\n",
      "TRAINING LOSS:\n",
      "total Loss = 0.006631791340187192\n",
      "heatmap Loss = 0.006324955022893846\n",
      "tag Loss = 0.0003068363096099347\n",
      "\n",
      "VALIDATION LOSS:\n",
      "total Loss = 0.006649165526032448\n",
      "heatmap Loss = 0.0063460018271580335\n",
      "tag Loss = 0.0003031637112726457\n",
      "\n",
      "\n",
      "\n"
     ]
    },
    {
     "name": "stderr",
     "output_type": "stream",
     "text": [
      "100%|██████████| 250/250 [00:37<00:00,  6.65it/s]\n",
      "100%|██████████| 250/250 [00:24<00:00, 10.17it/s]\n"
     ]
    },
    {
     "name": "stdout",
     "output_type": "stream",
     "text": [
      "epoch #97 \n",
      "\n",
      "TRAINING LOSS:\n",
      "total Loss = 0.006574742909520865\n",
      "heatmap Loss = 0.006266282766126096\n",
      "tag Loss = 0.0003084601340815425\n",
      "\n",
      "VALIDATION LOSS:\n",
      "total Loss = 0.006565460566431284\n",
      "heatmap Loss = 0.006263924676924944\n",
      "tag Loss = 0.000301535858947318\n",
      "\n",
      "\n",
      "\n"
     ]
    },
    {
     "name": "stderr",
     "output_type": "stream",
     "text": [
      "100%|██████████| 250/250 [00:38<00:00,  6.57it/s]\n",
      "100%|██████████| 250/250 [00:23<00:00, 10.68it/s]\n"
     ]
    },
    {
     "name": "stdout",
     "output_type": "stream",
     "text": [
      "epoch #98 \n",
      "\n",
      "TRAINING LOSS:\n",
      "total Loss = 0.0066194598414003845\n",
      "heatmap Loss = 0.006314729458652437\n",
      "tag Loss = 0.00030473038216587156\n",
      "\n",
      "VALIDATION LOSS:\n",
      "total Loss = 0.00656249960232526\n",
      "heatmap Loss = 0.006255554663017392\n",
      "tag Loss = 0.00030694493354531003\n",
      "\n",
      "\n",
      "\n"
     ]
    },
    {
     "name": "stderr",
     "output_type": "stream",
     "text": [
      "100%|██████████| 250/250 [00:37<00:00,  6.74it/s]\n",
      "100%|██████████| 250/250 [00:23<00:00, 10.59it/s]\n"
     ]
    },
    {
     "name": "stdout",
     "output_type": "stream",
     "text": [
      "epoch #99 \n",
      "\n",
      "TRAINING LOSS:\n",
      "total Loss = 0.006630011959001422\n",
      "heatmap Loss = 0.006326894549652934\n",
      "tag Loss = 0.00030311740998877214\n",
      "\n",
      "VALIDATION LOSS:\n",
      "total Loss = 0.006561941649764777\n",
      "heatmap Loss = 0.006260756584815681\n",
      "tag Loss = 0.0003011850668117404\n",
      "\n",
      "\n",
      "\n"
     ]
    },
    {
     "name": "stderr",
     "output_type": "stream",
     "text": [
      "100%|██████████| 250/250 [00:37<00:00,  6.68it/s]\n",
      "100%|██████████| 250/250 [00:23<00:00, 10.65it/s]\n"
     ]
    },
    {
     "name": "stdout",
     "output_type": "stream",
     "text": [
      "epoch #100 \n",
      "\n",
      "TRAINING LOSS:\n",
      "total Loss = 0.006574944386258721\n",
      "heatmap Loss = 0.0062696274295449255\n",
      "tag Loss = 0.0003053169477498159\n",
      "\n",
      "VALIDATION LOSS:\n",
      "total Loss = 0.006653859170153737\n",
      "heatmap Loss = 0.006349183859303594\n",
      "tag Loss = 0.00030467532080365346\n",
      "\n",
      "\n",
      "\n"
     ]
    },
    {
     "name": "stderr",
     "output_type": "stream",
     "text": [
      "100%|██████████| 250/250 [00:37<00:00,  6.73it/s]\n",
      "100%|██████████| 250/250 [00:23<00:00, 10.57it/s]\n"
     ]
    },
    {
     "name": "stdout",
     "output_type": "stream",
     "text": [
      "epoch #101 \n",
      "\n",
      "TRAINING LOSS:\n",
      "total Loss = 0.006646417451091111\n",
      "heatmap Loss = 0.006344067017547786\n",
      "tag Loss = 0.0003023504341254011\n",
      "\n",
      "VALIDATION LOSS:\n",
      "total Loss = 0.006671028488315642\n",
      "heatmap Loss = 0.006365144712850451\n",
      "tag Loss = 0.0003058837580610998\n",
      "\n",
      "\n",
      "\n"
     ]
    },
    {
     "name": "stderr",
     "output_type": "stream",
     "text": [
      "100%|██████████| 250/250 [00:36<00:00,  6.77it/s]\n",
      "100%|██████████| 250/250 [00:23<00:00, 10.76it/s]\n"
     ]
    },
    {
     "name": "stdout",
     "output_type": "stream",
     "text": [
      "epoch #102 \n",
      "\n",
      "TRAINING LOSS:\n",
      "total Loss = 0.0065590961491689085\n",
      "heatmap Loss = 0.00625314125791192\n",
      "tag Loss = 0.0003059549058089033\n",
      "\n",
      "VALIDATION LOSS:\n",
      "total Loss = 0.0065115074981004\n",
      "heatmap Loss = 0.006213344140909612\n",
      "tag Loss = 0.00029816333774942906\n",
      "\n",
      "\n",
      "\n"
     ]
    },
    {
     "name": "stderr",
     "output_type": "stream",
     "text": [
      "100%|██████████| 250/250 [00:36<00:00,  6.76it/s]\n",
      "100%|██████████| 250/250 [00:23<00:00, 10.81it/s]\n"
     ]
    },
    {
     "name": "stdout",
     "output_type": "stream",
     "text": [
      "epoch #103 \n",
      "\n",
      "TRAINING LOSS:\n",
      "total Loss = 0.006564352272078395\n",
      "heatmap Loss = 0.006260667500086129\n",
      "tag Loss = 0.00030368477798765523\n",
      "\n",
      "VALIDATION LOSS:\n",
      "total Loss = 0.006424822979606688\n",
      "heatmap Loss = 0.006127240134403109\n",
      "tag Loss = 0.0002975828351918608\n",
      "\n",
      "\n",
      "\n"
     ]
    },
    {
     "name": "stderr",
     "output_type": "stream",
     "text": [
      "100%|██████████| 250/250 [00:37<00:00,  6.70it/s]\n",
      "100%|██████████| 250/250 [00:23<00:00, 10.54it/s]\n"
     ]
    },
    {
     "name": "stdout",
     "output_type": "stream",
     "text": [
      "epoch #104 \n",
      "\n",
      "TRAINING LOSS:\n",
      "total Loss = 0.006607715636491775\n",
      "heatmap Loss = 0.006302726312540472\n",
      "tag Loss = 0.000304989340598695\n",
      "\n",
      "VALIDATION LOSS:\n",
      "total Loss = 0.006503083722665906\n",
      "heatmap Loss = 0.006206146054901183\n",
      "tag Loss = 0.00029693766729906203\n",
      "\n",
      "\n",
      "\n"
     ]
    },
    {
     "name": "stderr",
     "output_type": "stream",
     "text": [
      "100%|██████████| 250/250 [00:37<00:00,  6.75it/s]\n",
      "100%|██████████| 250/250 [00:23<00:00, 10.74it/s]\n"
     ]
    },
    {
     "name": "stdout",
     "output_type": "stream",
     "text": [
      "epoch #105 \n",
      "\n",
      "TRAINING LOSS:\n",
      "total Loss = 0.006612409972585737\n",
      "heatmap Loss = 0.006309620512649417\n",
      "tag Loss = 0.00030278946104226635\n",
      "\n",
      "VALIDATION LOSS:\n",
      "total Loss = 0.00648004631139338\n",
      "heatmap Loss = 0.006182244537398219\n",
      "tag Loss = 0.0002978017970453948\n",
      "\n",
      "\n",
      "\n"
     ]
    },
    {
     "name": "stderr",
     "output_type": "stream",
     "text": [
      "100%|██████████| 250/250 [00:36<00:00,  6.80it/s]\n",
      "100%|██████████| 250/250 [00:23<00:00, 10.69it/s]\n"
     ]
    },
    {
     "name": "stdout",
     "output_type": "stream",
     "text": [
      "epoch #106 \n",
      "\n",
      "TRAINING LOSS:\n",
      "total Loss = 0.006521730220876634\n",
      "heatmap Loss = 0.006223566480912268\n",
      "tag Loss = 0.0002981637353077531\n",
      "\n",
      "VALIDATION LOSS:\n",
      "total Loss = 0.006455574952997267\n",
      "heatmap Loss = 0.0061594885140657425\n",
      "tag Loss = 0.0002960864620981738\n",
      "\n",
      "\n",
      "\n"
     ]
    },
    {
     "name": "stderr",
     "output_type": "stream",
     "text": [
      "100%|██████████| 250/250 [00:36<00:00,  6.81it/s]\n",
      "100%|██████████| 250/250 [00:23<00:00, 10.64it/s]\n"
     ]
    },
    {
     "name": "stdout",
     "output_type": "stream",
     "text": [
      "epoch #107 \n",
      "\n",
      "TRAINING LOSS:\n",
      "total Loss = 0.006513629289343953\n",
      "heatmap Loss = 0.00621119740884751\n",
      "tag Loss = 0.00030243189504835756\n",
      "\n",
      "VALIDATION LOSS:\n",
      "total Loss = 0.006591401770710945\n",
      "heatmap Loss = 0.006295632147230208\n",
      "tag Loss = 0.00029576962999999524\n",
      "\n",
      "\n",
      "\n"
     ]
    },
    {
     "name": "stderr",
     "output_type": "stream",
     "text": [
      "100%|██████████| 250/250 [00:36<00:00,  6.81it/s]\n",
      "100%|██████████| 250/250 [00:23<00:00, 10.76it/s]\n"
     ]
    },
    {
     "name": "stdout",
     "output_type": "stream",
     "text": [
      "epoch #108 \n",
      "\n",
      "TRAINING LOSS:\n",
      "total Loss = 0.006517198767513037\n",
      "heatmap Loss = 0.006218089940026403\n",
      "tag Loss = 0.0002991088349954225\n",
      "\n",
      "VALIDATION LOSS:\n",
      "total Loss = 0.006390473020263016\n",
      "heatmap Loss = 0.006096603628247976\n",
      "tag Loss = 0.0002938693875912577\n",
      "\n",
      "\n",
      "\n"
     ]
    },
    {
     "name": "stderr",
     "output_type": "stream",
     "text": [
      "100%|██████████| 250/250 [00:37<00:00,  6.71it/s]\n",
      "100%|██████████| 250/250 [00:23<00:00, 10.66it/s]\n"
     ]
    },
    {
     "name": "stdout",
     "output_type": "stream",
     "text": [
      "epoch #109 \n",
      "\n",
      "TRAINING LOSS:\n",
      "total Loss = 0.00651527882181108\n",
      "heatmap Loss = 0.006216579100117087\n",
      "tag Loss = 0.00029869973851600663\n",
      "\n",
      "VALIDATION LOSS:\n",
      "total Loss = 0.006458307099528611\n",
      "heatmap Loss = 0.006162222027778625\n",
      "tag Loss = 0.0002960850800736807\n",
      "\n",
      "\n",
      "\n"
     ]
    },
    {
     "name": "stderr",
     "output_type": "stream",
     "text": [
      "100%|██████████| 250/250 [00:37<00:00,  6.69it/s]\n",
      "100%|██████████| 250/250 [00:23<00:00, 10.60it/s]\n"
     ]
    },
    {
     "name": "stdout",
     "output_type": "stream",
     "text": [
      "epoch #110 \n",
      "\n",
      "TRAINING LOSS:\n",
      "total Loss = 0.006476597113534808\n",
      "heatmap Loss = 0.0061764439055696126\n",
      "tag Loss = 0.0003001532123889774\n",
      "\n",
      "VALIDATION LOSS:\n",
      "total Loss = 0.006460861507803201\n",
      "heatmap Loss = 0.0061630591293796895\n",
      "tag Loss = 0.00029780237801605835\n",
      "\n",
      "\n",
      "\n"
     ]
    },
    {
     "name": "stderr",
     "output_type": "stream",
     "text": [
      "100%|██████████| 250/250 [00:37<00:00,  6.72it/s]\n",
      "100%|██████████| 250/250 [00:23<00:00, 10.78it/s]\n"
     ]
    },
    {
     "name": "stdout",
     "output_type": "stream",
     "text": [
      "epoch #111 \n",
      "\n",
      "TRAINING LOSS:\n",
      "total Loss = 0.00647131693456322\n",
      "heatmap Loss = 0.006170114427804947\n",
      "tag Loss = 0.00030120248883031307\n",
      "\n",
      "VALIDATION LOSS:\n",
      "total Loss = 0.006443314525298774\n",
      "heatmap Loss = 0.006151048539206385\n",
      "tag Loss = 0.00029226598871173336\n",
      "\n",
      "\n",
      "\n"
     ]
    },
    {
     "name": "stderr",
     "output_type": "stream",
     "text": [
      "100%|██████████| 250/250 [00:36<00:00,  6.80it/s]\n",
      "100%|██████████| 250/250 [00:23<00:00, 10.71it/s]\n"
     ]
    },
    {
     "name": "stdout",
     "output_type": "stream",
     "text": [
      "epoch #112 \n",
      "\n",
      "TRAINING LOSS:\n",
      "total Loss = 0.0064388632103800775\n",
      "heatmap Loss = 0.006138184578157961\n",
      "tag Loss = 0.00030067863722797484\n",
      "\n",
      "VALIDATION LOSS:\n",
      "total Loss = 0.006367677058093249\n",
      "heatmap Loss = 0.0060748489899560805\n",
      "tag Loss = 0.0002928280900232494\n",
      "\n",
      "\n",
      "\n"
     ]
    },
    {
     "name": "stderr",
     "output_type": "stream",
     "text": [
      "100%|██████████| 250/250 [00:37<00:00,  6.67it/s]\n",
      "100%|██████████| 250/250 [00:24<00:00, 10.16it/s]\n"
     ]
    },
    {
     "name": "stdout",
     "output_type": "stream",
     "text": [
      "epoch #113 \n",
      "\n",
      "TRAINING LOSS:\n",
      "total Loss = 0.006484394323080778\n",
      "heatmap Loss = 0.006185700918547809\n",
      "tag Loss = 0.0002986933995271102\n",
      "\n",
      "VALIDATION LOSS:\n",
      "total Loss = 0.006459000574424863\n",
      "heatmap Loss = 0.006166451163589954\n",
      "tag Loss = 0.00029254939273232596\n",
      "\n",
      "\n",
      "\n"
     ]
    },
    {
     "name": "stderr",
     "output_type": "stream",
     "text": [
      "100%|██████████| 250/250 [00:37<00:00,  6.76it/s]\n",
      "100%|██████████| 250/250 [00:23<00:00, 10.66it/s]\n"
     ]
    },
    {
     "name": "stdout",
     "output_type": "stream",
     "text": [
      "epoch #114 \n",
      "\n",
      "TRAINING LOSS:\n",
      "total Loss = 0.006410533194430173\n",
      "heatmap Loss = 0.006112997869029641\n",
      "tag Loss = 0.000297535331628751\n",
      "\n",
      "VALIDATION LOSS:\n",
      "total Loss = 0.0064157193154096605\n",
      "heatmap Loss = 0.006121281135827303\n",
      "tag Loss = 0.00029443818051367996\n",
      "\n",
      "\n",
      "\n"
     ]
    },
    {
     "name": "stderr",
     "output_type": "stream",
     "text": [
      "100%|██████████| 250/250 [00:36<00:00,  6.80it/s]\n",
      "100%|██████████| 250/250 [00:23<00:00, 10.64it/s]\n"
     ]
    },
    {
     "name": "stdout",
     "output_type": "stream",
     "text": [
      "epoch #115 \n",
      "\n",
      "TRAINING LOSS:\n",
      "total Loss = 0.006408581624738872\n",
      "heatmap Loss = 0.006110929510556162\n",
      "tag Loss = 0.0002976521112141199\n",
      "\n",
      "VALIDATION LOSS:\n",
      "total Loss = 0.006429675134830177\n",
      "heatmap Loss = 0.006137247831560671\n",
      "tag Loss = 0.0002924273042008281\n",
      "\n",
      "\n",
      "\n"
     ]
    },
    {
     "name": "stderr",
     "output_type": "stream",
     "text": [
      "100%|██████████| 250/250 [00:36<00:00,  6.80it/s]\n",
      "100%|██████████| 250/250 [00:23<00:00, 10.75it/s]\n"
     ]
    },
    {
     "name": "stdout",
     "output_type": "stream",
     "text": [
      "epoch #116 \n",
      "\n",
      "TRAINING LOSS:\n",
      "total Loss = 0.006427428813651204\n",
      "heatmap Loss = 0.006131351978518069\n",
      "tag Loss = 0.0002960768603370525\n",
      "\n",
      "VALIDATION LOSS:\n",
      "total Loss = 0.006436225702986121\n",
      "heatmap Loss = 0.006143643175251782\n",
      "tag Loss = 0.00029258254211163146\n",
      "\n",
      "\n",
      "\n"
     ]
    },
    {
     "name": "stderr",
     "output_type": "stream",
     "text": [
      "100%|██████████| 250/250 [00:36<00:00,  6.91it/s]\n",
      "100%|██████████| 250/250 [00:22<00:00, 10.88it/s]\n"
     ]
    },
    {
     "name": "stdout",
     "output_type": "stream",
     "text": [
      "epoch #117 \n",
      "\n",
      "TRAINING LOSS:\n",
      "total Loss = 0.00640476010646671\n",
      "heatmap Loss = 0.006108526615425944\n",
      "tag Loss = 0.0002962334940675646\n",
      "\n",
      "VALIDATION LOSS:\n",
      "total Loss = 0.006460474163293838\n",
      "heatmap Loss = 0.006170313635841012\n",
      "tag Loss = 0.00029016052681254224\n",
      "\n",
      "\n",
      "\n"
     ]
    },
    {
     "name": "stderr",
     "output_type": "stream",
     "text": [
      "100%|██████████| 250/250 [00:36<00:00,  6.82it/s]\n",
      "100%|██████████| 250/250 [00:24<00:00, 10.02it/s]\n"
     ]
    },
    {
     "name": "stdout",
     "output_type": "stream",
     "text": [
      "epoch #118 \n",
      "\n",
      "TRAINING LOSS:\n",
      "total Loss = 0.0064288529474288226\n",
      "heatmap Loss = 0.0061342216767370705\n",
      "tag Loss = 0.0002946312632993795\n",
      "\n",
      "VALIDATION LOSS:\n",
      "total Loss = 0.006322787718847394\n",
      "heatmap Loss = 0.0060317888027057055\n",
      "tag Loss = 0.00029099892789963635\n",
      "\n",
      "\n",
      "\n"
     ]
    },
    {
     "name": "stderr",
     "output_type": "stream",
     "text": [
      "100%|██████████| 250/250 [00:37<00:00,  6.74it/s]\n",
      "100%|██████████| 250/250 [00:23<00:00, 10.75it/s]\n"
     ]
    },
    {
     "name": "stdout",
     "output_type": "stream",
     "text": [
      "epoch #119 \n",
      "\n",
      "TRAINING LOSS:\n",
      "total Loss = 0.0063946950351819395\n",
      "heatmap Loss = 0.006097202867269516\n",
      "tag Loss = 0.0002974921728600748\n",
      "\n",
      "VALIDATION LOSS:\n",
      "total Loss = 0.006418366729281842\n",
      "heatmap Loss = 0.0061270073065534236\n",
      "tag Loss = 0.00029135941370623186\n",
      "\n",
      "\n",
      "\n"
     ]
    },
    {
     "name": "stderr",
     "output_type": "stream",
     "text": [
      "100%|██████████| 250/250 [00:35<00:00,  6.96it/s]\n",
      "100%|██████████| 250/250 [00:24<00:00, 10.22it/s]\n"
     ]
    },
    {
     "name": "stdout",
     "output_type": "stream",
     "text": [
      "epoch #120 \n",
      "\n",
      "TRAINING LOSS:\n",
      "total Loss = 0.0063631353192031385\n",
      "heatmap Loss = 0.006069070087745786\n",
      "tag Loss = 0.00029406525060767305\n",
      "\n",
      "VALIDATION LOSS:\n",
      "total Loss = 0.0063404391705989835\n",
      "heatmap Loss = 0.006052332505583763\n",
      "tag Loss = 0.0002881066424306482\n",
      "\n",
      "\n",
      "\n"
     ]
    },
    {
     "name": "stderr",
     "output_type": "stream",
     "text": [
      "100%|██████████| 250/250 [00:37<00:00,  6.68it/s]\n",
      "100%|██████████| 250/250 [00:23<00:00, 10.63it/s]\n"
     ]
    },
    {
     "name": "stdout",
     "output_type": "stream",
     "text": [
      "epoch #121 \n",
      "\n",
      "TRAINING LOSS:\n",
      "total Loss = 0.006376299657858908\n",
      "heatmap Loss = 0.006080437115393579\n",
      "tag Loss = 0.0002958625298924744\n",
      "\n",
      "VALIDATION LOSS:\n",
      "total Loss = 0.006344074588268995\n",
      "heatmap Loss = 0.006054983177222311\n",
      "tag Loss = 0.0002890914112213068\n",
      "\n",
      "\n",
      "\n"
     ]
    },
    {
     "name": "stderr",
     "output_type": "stream",
     "text": [
      "100%|██████████| 250/250 [00:37<00:00,  6.75it/s]\n",
      "100%|██████████| 250/250 [00:23<00:00, 10.55it/s]\n"
     ]
    },
    {
     "name": "stdout",
     "output_type": "stream",
     "text": [
      "epoch #122 \n",
      "\n",
      "TRAINING LOSS:\n",
      "total Loss = 0.0063549723718315364\n",
      "heatmap Loss = 0.00606369705311954\n",
      "tag Loss = 0.0002912753255222924\n",
      "\n",
      "VALIDATION LOSS:\n",
      "total Loss = 0.0063052614973858\n",
      "heatmap Loss = 0.006015116491355002\n",
      "tag Loss = 0.0002901450038771145\n",
      "\n",
      "\n",
      "\n"
     ]
    },
    {
     "name": "stderr",
     "output_type": "stream",
     "text": [
      "100%|██████████| 250/250 [00:36<00:00,  6.85it/s]\n",
      "100%|██████████| 250/250 [00:23<00:00, 10.47it/s]\n"
     ]
    },
    {
     "name": "stdout",
     "output_type": "stream",
     "text": [
      "epoch #123 \n",
      "\n",
      "TRAINING LOSS:\n",
      "total Loss = 0.006383145625703037\n",
      "heatmap Loss = 0.006091285894624889\n",
      "tag Loss = 0.0002918597348034382\n",
      "\n",
      "VALIDATION LOSS:\n",
      "total Loss = 0.006329650491476059\n",
      "heatmap Loss = 0.006043268295004964\n",
      "tag Loss = 0.0002863822113140486\n",
      "\n",
      "\n",
      "\n"
     ]
    },
    {
     "name": "stderr",
     "output_type": "stream",
     "text": [
      "100%|██████████| 250/250 [00:37<00:00,  6.74it/s]\n",
      "100%|██████████| 250/250 [00:23<00:00, 10.57it/s]\n"
     ]
    },
    {
     "name": "stdout",
     "output_type": "stream",
     "text": [
      "epoch #124 \n",
      "\n",
      "TRAINING LOSS:\n",
      "total Loss = 0.006353672112338245\n",
      "heatmap Loss = 0.006062117534689606\n",
      "tag Loss = 0.0002915545791038312\n",
      "\n",
      "VALIDATION LOSS:\n",
      "total Loss = 0.006304522733204067\n",
      "heatmap Loss = 0.006018158242106437\n",
      "tag Loss = 0.0002863644861499779\n",
      "\n",
      "\n",
      "\n"
     ]
    },
    {
     "name": "stderr",
     "output_type": "stream",
     "text": [
      "100%|██████████| 250/250 [00:36<00:00,  6.84it/s]\n",
      "100%|██████████| 250/250 [00:23<00:00, 10.69it/s]\n"
     ]
    },
    {
     "name": "stdout",
     "output_type": "stream",
     "text": [
      "epoch #125 \n",
      "\n",
      "TRAINING LOSS:\n",
      "total Loss = 0.006355358246713877\n",
      "heatmap Loss = 0.006063566342927516\n",
      "tag Loss = 0.00029179191688308493\n",
      "\n",
      "VALIDATION LOSS:\n",
      "total Loss = 0.0062773684365674855\n",
      "heatmap Loss = 0.00599143492244184\n",
      "tag Loss = 0.0002859334999229759\n",
      "\n",
      "\n",
      "\n"
     ]
    },
    {
     "name": "stderr",
     "output_type": "stream",
     "text": [
      "100%|██████████| 250/250 [00:37<00:00,  6.73it/s]\n",
      "100%|██████████| 250/250 [00:23<00:00, 10.48it/s]\n"
     ]
    },
    {
     "name": "stdout",
     "output_type": "stream",
     "text": [
      "epoch #126 \n",
      "\n",
      "TRAINING LOSS:\n",
      "total Loss = 0.006355941051617265\n",
      "heatmap Loss = 0.006064928492531181\n",
      "tag Loss = 0.0002910125508205965\n",
      "\n",
      "VALIDATION LOSS:\n",
      "total Loss = 0.006304043803364038\n",
      "heatmap Loss = 0.006016683405265212\n",
      "tag Loss = 0.00028736041486263276\n",
      "\n",
      "\n",
      "\n"
     ]
    },
    {
     "name": "stderr",
     "output_type": "stream",
     "text": [
      "100%|██████████| 250/250 [00:36<00:00,  6.79it/s]\n",
      "100%|██████████| 250/250 [00:23<00:00, 10.66it/s]\n"
     ]
    },
    {
     "name": "stdout",
     "output_type": "stream",
     "text": [
      "epoch #127 \n",
      "\n",
      "TRAINING LOSS:\n",
      "total Loss = 0.0063156933123245836\n",
      "heatmap Loss = 0.006027371847070754\n",
      "tag Loss = 0.0002883214601315558\n",
      "\n",
      "VALIDATION LOSS:\n",
      "total Loss = 0.006347952528856695\n",
      "heatmap Loss = 0.006060816603712738\n",
      "tag Loss = 0.00028713591519044713\n",
      "\n",
      "\n",
      "\n"
     ]
    },
    {
     "name": "stderr",
     "output_type": "stream",
     "text": [
      "100%|██████████| 250/250 [00:36<00:00,  6.89it/s]\n",
      "100%|██████████| 250/250 [00:23<00:00, 10.67it/s]\n"
     ]
    },
    {
     "name": "stdout",
     "output_type": "stream",
     "text": [
      "epoch #128 \n",
      "\n",
      "TRAINING LOSS:\n",
      "total Loss = 0.006311611903831363\n",
      "heatmap Loss = 0.006020085602067411\n",
      "tag Loss = 0.00029152629157761114\n",
      "\n",
      "VALIDATION LOSS:\n",
      "total Loss = 0.00631531620863825\n",
      "heatmap Loss = 0.00602806268632412\n",
      "tag Loss = 0.0002872535302303731\n",
      "\n",
      "\n",
      "\n"
     ]
    },
    {
     "name": "stderr",
     "output_type": "stream",
     "text": [
      "100%|██████████| 250/250 [00:36<00:00,  6.82it/s]\n",
      "100%|██████████| 250/250 [00:24<00:00, 10.22it/s]\n"
     ]
    },
    {
     "name": "stdout",
     "output_type": "stream",
     "text": [
      "epoch #129 \n",
      "\n",
      "TRAINING LOSS:\n",
      "total Loss = 0.006298706755042076\n",
      "heatmap Loss = 0.006012326393276453\n",
      "tag Loss = 0.00028638037532800807\n",
      "\n",
      "VALIDATION LOSS:\n",
      "total Loss = 0.006299851486459374\n",
      "heatmap Loss = 0.006013930385001004\n",
      "tag Loss = 0.00028592110733734443\n",
      "\n",
      "\n",
      "\n"
     ]
    },
    {
     "name": "stderr",
     "output_type": "stream",
     "text": [
      "100%|██████████| 250/250 [00:38<00:00,  6.45it/s]\n",
      "100%|██████████| 250/250 [00:24<00:00, 10.21it/s]\n"
     ]
    },
    {
     "name": "stdout",
     "output_type": "stream",
     "text": [
      "epoch #130 \n",
      "\n",
      "TRAINING LOSS:\n",
      "total Loss = 0.006250386803410947\n",
      "heatmap Loss = 0.005961950151249767\n",
      "tag Loss = 0.00028843665460590273\n",
      "\n",
      "VALIDATION LOSS:\n",
      "total Loss = 0.006300133085809648\n",
      "heatmap Loss = 0.0060149635095149276\n",
      "tag Loss = 0.0002851695647696033\n",
      "\n",
      "\n",
      "\n"
     ]
    },
    {
     "name": "stderr",
     "output_type": "stream",
     "text": [
      "100%|██████████| 250/250 [00:37<00:00,  6.60it/s]\n",
      "100%|██████████| 250/250 [00:23<00:00, 10.47it/s]\n"
     ]
    },
    {
     "name": "stdout",
     "output_type": "stream",
     "text": [
      "epoch #131 \n",
      "\n",
      "TRAINING LOSS:\n",
      "total Loss = 0.006276164944283664\n",
      "heatmap Loss = 0.005986556582152844\n",
      "tag Loss = 0.00028960836143232885\n",
      "\n",
      "VALIDATION LOSS:\n",
      "total Loss = 0.0062191519681364296\n",
      "heatmap Loss = 0.005932639669626951\n",
      "tag Loss = 0.0002865122893708758\n",
      "\n",
      "\n",
      "\n"
     ]
    },
    {
     "name": "stderr",
     "output_type": "stream",
     "text": [
      "100%|██████████| 250/250 [00:36<00:00,  6.79it/s]\n",
      "100%|██████████| 250/250 [00:22<00:00, 10.95it/s]\n"
     ]
    },
    {
     "name": "stdout",
     "output_type": "stream",
     "text": [
      "epoch #132 \n",
      "\n",
      "TRAINING LOSS:\n",
      "total Loss = 0.0062681664396077395\n",
      "heatmap Loss = 0.005984448815695941\n",
      "tag Loss = 0.0002837176317698322\n",
      "\n",
      "VALIDATION LOSS:\n",
      "total Loss = 0.00626366425305605\n",
      "heatmap Loss = 0.005976998337544501\n",
      "tag Loss = 0.0002866659181308933\n",
      "\n",
      "\n",
      "\n"
     ]
    },
    {
     "name": "stderr",
     "output_type": "stream",
     "text": [
      "100%|██████████| 250/250 [00:37<00:00,  6.58it/s]\n",
      "100%|██████████| 250/250 [00:23<00:00, 10.60it/s]\n"
     ]
    },
    {
     "name": "stdout",
     "output_type": "stream",
     "text": [
      "epoch #133 \n",
      "\n",
      "TRAINING LOSS:\n",
      "total Loss = 0.006304262833669781\n",
      "heatmap Loss = 0.006017386127263308\n",
      "tag Loss = 0.000286876710888464\n",
      "\n",
      "VALIDATION LOSS:\n",
      "total Loss = 0.006183493008837104\n",
      "heatmap Loss = 0.005902305040508509\n",
      "tag Loss = 0.0002811879825894721\n",
      "\n",
      "\n",
      "\n"
     ]
    },
    {
     "name": "stderr",
     "output_type": "stream",
     "text": [
      "100%|██████████| 250/250 [00:36<00:00,  6.77it/s]\n",
      "100%|██████████| 250/250 [00:24<00:00, 10.27it/s]\n"
     ]
    },
    {
     "name": "stdout",
     "output_type": "stream",
     "text": [
      "epoch #134 \n",
      "\n",
      "TRAINING LOSS:\n",
      "total Loss = 0.006259984065778553\n",
      "heatmap Loss = 0.00597271566465497\n",
      "tag Loss = 0.0002872684065951034\n",
      "\n",
      "VALIDATION LOSS:\n",
      "total Loss = 0.006198781878687441\n",
      "heatmap Loss = 0.005915186489932239\n",
      "tag Loss = 0.0002835954008041881\n",
      "\n",
      "\n",
      "\n"
     ]
    },
    {
     "name": "stderr",
     "output_type": "stream",
     "text": [
      "100%|██████████| 250/250 [00:37<00:00,  6.73it/s]\n",
      "100%|██████████| 250/250 [00:23<00:00, 10.51it/s]\n"
     ]
    },
    {
     "name": "stdout",
     "output_type": "stream",
     "text": [
      "epoch #135 \n",
      "\n",
      "TRAINING LOSS:\n",
      "total Loss = 0.006199394340626895\n",
      "heatmap Loss = 0.005914182174950838\n",
      "tag Loss = 0.0002852121730102226\n",
      "\n",
      "VALIDATION LOSS:\n",
      "total Loss = 0.006179211689159274\n",
      "heatmap Loss = 0.0058914980571717025\n",
      "tag Loss = 0.00028771363582927735\n",
      "\n",
      "\n",
      "\n"
     ]
    },
    {
     "name": "stderr",
     "output_type": "stream",
     "text": [
      "100%|██████████| 250/250 [00:36<00:00,  6.76it/s]\n",
      "100%|██████████| 250/250 [00:23<00:00, 10.72it/s]\n"
     ]
    },
    {
     "name": "stdout",
     "output_type": "stream",
     "text": [
      "epoch #136 \n",
      "\n",
      "TRAINING LOSS:\n",
      "total Loss = 0.006233842765912413\n",
      "heatmap Loss = 0.005947639741934836\n",
      "tag Loss = 0.0002862030186224729\n",
      "\n",
      "VALIDATION LOSS:\n",
      "total Loss = 0.006198944889008999\n",
      "heatmap Loss = 0.005915148039348423\n",
      "tag Loss = 0.0002837968432577327\n",
      "\n",
      "\n",
      "\n"
     ]
    },
    {
     "name": "stderr",
     "output_type": "stream",
     "text": [
      "100%|██████████| 250/250 [00:37<00:00,  6.76it/s]\n",
      "100%|██████████| 250/250 [00:23<00:00, 10.64it/s]\n"
     ]
    },
    {
     "name": "stdout",
     "output_type": "stream",
     "text": [
      "epoch #137 \n",
      "\n",
      "TRAINING LOSS:\n",
      "total Loss = 0.006203296627849341\n",
      "heatmap Loss = 0.0059171511186286805\n",
      "tag Loss = 0.0002861455025849864\n",
      "\n",
      "VALIDATION LOSS:\n",
      "total Loss = 0.0062282165884971616\n",
      "heatmap Loss = 0.005947929185815155\n",
      "tag Loss = 0.00028028740745503455\n",
      "\n",
      "\n",
      "\n"
     ]
    },
    {
     "name": "stderr",
     "output_type": "stream",
     "text": [
      "100%|██████████| 250/250 [00:36<00:00,  6.81it/s]\n",
      "100%|██████████| 250/250 [00:23<00:00, 10.58it/s]\n"
     ]
    },
    {
     "name": "stdout",
     "output_type": "stream",
     "text": [
      "epoch #138 \n",
      "\n",
      "TRAINING LOSS:\n",
      "total Loss = 0.006232069558463991\n",
      "heatmap Loss = 0.005945303129032254\n",
      "tag Loss = 0.0002867664211662486\n",
      "\n",
      "VALIDATION LOSS:\n",
      "total Loss = 0.006122957012616098\n",
      "heatmap Loss = 0.00583857019431889\n",
      "tag Loss = 0.00028438681620173155\n",
      "\n",
      "\n",
      "\n"
     ]
    },
    {
     "name": "stderr",
     "output_type": "stream",
     "text": [
      "100%|██████████| 250/250 [00:37<00:00,  6.75it/s]\n",
      "100%|██████████| 250/250 [00:23<00:00, 10.64it/s]\n"
     ]
    },
    {
     "name": "stdout",
     "output_type": "stream",
     "text": [
      "epoch #139 \n",
      "\n",
      "TRAINING LOSS:\n",
      "total Loss = 0.0062333446778357025\n",
      "heatmap Loss = 0.005944374230690301\n",
      "tag Loss = 0.0002889704411500134\n",
      "\n",
      "VALIDATION LOSS:\n",
      "total Loss = 0.0061234357059001925\n",
      "heatmap Loss = 0.0058423692062497135\n",
      "tag Loss = 0.0002810665181023069\n",
      "\n",
      "\n",
      "\n"
     ]
    },
    {
     "name": "stderr",
     "output_type": "stream",
     "text": [
      "100%|██████████| 250/250 [00:36<00:00,  6.93it/s]\n",
      "100%|██████████| 250/250 [00:23<00:00, 10.62it/s]\n"
     ]
    },
    {
     "name": "stdout",
     "output_type": "stream",
     "text": [
      "epoch #140 \n",
      "\n",
      "TRAINING LOSS:\n",
      "total Loss = 0.006179929349571466\n",
      "heatmap Loss = 0.005895006935112178\n",
      "tag Loss = 0.00028492240846389905\n",
      "\n",
      "VALIDATION LOSS:\n",
      "total Loss = 0.0062080387184396384\n",
      "heatmap Loss = 0.005917648747563362\n",
      "tag Loss = 0.000290389986068476\n",
      "\n",
      "\n",
      "\n"
     ]
    },
    {
     "name": "stderr",
     "output_type": "stream",
     "text": [
      "100%|██████████| 250/250 [00:36<00:00,  6.80it/s]\n",
      "100%|██████████| 250/250 [00:22<00:00, 10.87it/s]\n"
     ]
    },
    {
     "name": "stdout",
     "output_type": "stream",
     "text": [
      "epoch #141 \n",
      "\n",
      "TRAINING LOSS:\n",
      "total Loss = 0.006185665987432003\n",
      "heatmap Loss = 0.00590188579261303\n",
      "tag Loss = 0.0002837801997666247\n",
      "\n",
      "VALIDATION LOSS:\n",
      "total Loss = 0.0061181821636855606\n",
      "heatmap Loss = 0.005838845404796302\n",
      "tag Loss = 0.0002793367493432015\n",
      "\n",
      "\n",
      "\n"
     ]
    },
    {
     "name": "stderr",
     "output_type": "stream",
     "text": [
      "100%|██████████| 250/250 [00:36<00:00,  6.91it/s]\n",
      "100%|██████████| 250/250 [00:22<00:00, 11.05it/s]\n"
     ]
    },
    {
     "name": "stdout",
     "output_type": "stream",
     "text": [
      "epoch #142 \n",
      "\n",
      "TRAINING LOSS:\n",
      "total Loss = 0.006160709003917873\n",
      "heatmap Loss = 0.005878296750597656\n",
      "tag Loss = 0.0002824122653109953\n",
      "\n",
      "VALIDATION LOSS:\n",
      "total Loss = 0.006167064487934112\n",
      "heatmap Loss = 0.00588486691005528\n",
      "tag Loss = 0.0002821975935366936\n",
      "\n",
      "\n",
      "\n"
     ]
    },
    {
     "name": "stderr",
     "output_type": "stream",
     "text": [
      "100%|██████████| 250/250 [00:36<00:00,  6.93it/s]\n",
      "100%|██████████| 250/250 [00:22<00:00, 11.01it/s]\n"
     ]
    },
    {
     "name": "stdout",
     "output_type": "stream",
     "text": [
      "epoch #143 \n",
      "\n",
      "TRAINING LOSS:\n",
      "total Loss = 0.006195543494075537\n",
      "heatmap Loss = 0.005911266789771616\n",
      "tag Loss = 0.0002842766928952187\n",
      "\n",
      "VALIDATION LOSS:\n",
      "total Loss = 0.006155193100683391\n",
      "heatmap Loss = 0.005873042126186192\n",
      "tag Loss = 0.00028215097519569096\n",
      "\n",
      "\n",
      "\n"
     ]
    },
    {
     "name": "stderr",
     "output_type": "stream",
     "text": [
      "100%|██████████| 250/250 [00:36<00:00,  6.91it/s]\n",
      "100%|██████████| 250/250 [00:23<00:00, 10.85it/s]\n"
     ]
    },
    {
     "name": "stdout",
     "output_type": "stream",
     "text": [
      "epoch #144 \n",
      "\n",
      "TRAINING LOSS:\n",
      "total Loss = 0.0061812856011092664\n",
      "heatmap Loss = 0.0058980919467285274\n",
      "tag Loss = 0.00028319365996867416\n",
      "\n",
      "VALIDATION LOSS:\n",
      "total Loss = 0.006128451065160334\n",
      "heatmap Loss = 0.005845495756715536\n",
      "tag Loss = 0.00028295532253105193\n",
      "\n",
      "\n",
      "\n"
     ]
    },
    {
     "name": "stderr",
     "output_type": "stream",
     "text": [
      "100%|██████████| 250/250 [00:36<00:00,  6.80it/s]\n",
      "100%|██████████| 250/250 [00:22<00:00, 11.08it/s]\n"
     ]
    },
    {
     "name": "stdout",
     "output_type": "stream",
     "text": [
      "epoch #145 \n",
      "\n",
      "TRAINING LOSS:\n",
      "total Loss = 0.006165877364575863\n",
      "heatmap Loss = 0.005880825452506542\n",
      "tag Loss = 0.0002850519172498025\n",
      "\n",
      "VALIDATION LOSS:\n",
      "total Loss = 0.0062329671252518894\n",
      "heatmap Loss = 0.005950968900695443\n",
      "tag Loss = 0.0002819982092187274\n",
      "\n",
      "\n",
      "\n"
     ]
    },
    {
     "name": "stderr",
     "output_type": "stream",
     "text": [
      "100%|██████████| 250/250 [00:36<00:00,  6.82it/s]\n",
      "100%|██████████| 250/250 [00:23<00:00, 10.78it/s]\n"
     ]
    },
    {
     "name": "stdout",
     "output_type": "stream",
     "text": [
      "epoch #146 \n",
      "\n",
      "TRAINING LOSS:\n",
      "total Loss = 0.006167599720880389\n",
      "heatmap Loss = 0.005884729475714267\n",
      "tag Loss = 0.0002828702482511289\n",
      "\n",
      "VALIDATION LOSS:\n",
      "total Loss = 0.006110060969367623\n",
      "heatmap Loss = 0.005830147151835263\n",
      "tag Loss = 0.00027991381561150776\n",
      "\n",
      "\n",
      "\n"
     ]
    },
    {
     "name": "stderr",
     "output_type": "stream",
     "text": [
      "100%|██████████| 250/250 [00:35<00:00,  6.95it/s]\n",
      "100%|██████████| 250/250 [00:22<00:00, 10.94it/s]\n"
     ]
    },
    {
     "name": "stdout",
     "output_type": "stream",
     "text": [
      "epoch #147 \n",
      "\n",
      "TRAINING LOSS:\n",
      "total Loss = 0.006173067921772599\n",
      "heatmap Loss = 0.005890209859237075\n",
      "tag Loss = 0.00028285805141786116\n",
      "\n",
      "VALIDATION LOSS:\n",
      "total Loss = 0.006118716849014163\n",
      "heatmap Loss = 0.005841833990067244\n",
      "tag Loss = 0.0002768828680273145\n",
      "\n",
      "\n",
      "\n"
     ]
    },
    {
     "name": "stderr",
     "output_type": "stream",
     "text": [
      "100%|██████████| 250/250 [00:36<00:00,  6.86it/s]\n",
      "100%|██████████| 250/250 [00:22<00:00, 11.21it/s]\n"
     ]
    },
    {
     "name": "stdout",
     "output_type": "stream",
     "text": [
      "epoch #148 \n",
      "\n",
      "TRAINING LOSS:\n",
      "total Loss = 0.0061340120974928145\n",
      "heatmap Loss = 0.005851098408922553\n",
      "tag Loss = 0.0002829136958462186\n",
      "\n",
      "VALIDATION LOSS:\n",
      "total Loss = 0.006092545002698898\n",
      "heatmap Loss = 0.005815717235207558\n",
      "tag Loss = 0.0002768277794239111\n",
      "\n",
      "\n",
      "\n"
     ]
    },
    {
     "name": "stderr",
     "output_type": "stream",
     "text": [
      "100%|██████████| 250/250 [00:35<00:00,  6.94it/s]\n",
      "100%|██████████| 250/250 [00:22<00:00, 10.90it/s]\n"
     ]
    },
    {
     "name": "stdout",
     "output_type": "stream",
     "text": [
      "epoch #149 \n",
      "\n",
      "TRAINING LOSS:\n",
      "total Loss = 0.006160368302837014\n",
      "heatmap Loss = 0.005879080046899617\n",
      "tag Loss = 0.0002812882600701414\n",
      "\n",
      "VALIDATION LOSS:\n",
      "total Loss = 0.006081531293690204\n",
      "heatmap Loss = 0.0058006145237013695\n",
      "tag Loss = 0.0002809167670784518\n",
      "\n",
      "\n",
      "\n"
     ]
    },
    {
     "name": "stderr",
     "output_type": "stream",
     "text": [
      "100%|██████████| 250/250 [00:36<00:00,  6.84it/s]\n",
      "100%|██████████| 250/250 [00:22<00:00, 10.94it/s]\n"
     ]
    },
    {
     "name": "stdout",
     "output_type": "stream",
     "text": [
      "epoch #150 \n",
      "\n",
      "TRAINING LOSS:\n",
      "total Loss = 0.006151883855462074\n",
      "heatmap Loss = 0.005869644190184772\n",
      "tag Loss = 0.00028223967290250584\n",
      "\n",
      "VALIDATION LOSS:\n",
      "total Loss = 0.006165750470943749\n",
      "heatmap Loss = 0.005885181204415858\n",
      "tag Loss = 0.000280569264490623\n",
      "\n",
      "\n",
      "\n"
     ]
    },
    {
     "name": "stderr",
     "output_type": "stream",
     "text": [
      "100%|██████████| 250/250 [00:36<00:00,  6.87it/s]\n",
      "100%|██████████| 250/250 [00:22<00:00, 10.92it/s]\n"
     ]
    },
    {
     "name": "stdout",
     "output_type": "stream",
     "text": [
      "epoch #151 \n",
      "\n",
      "TRAINING LOSS:\n",
      "total Loss = 0.006125237088650465\n",
      "heatmap Loss = 0.00584515268355608\n",
      "tag Loss = 0.00028008441475685684\n",
      "\n",
      "VALIDATION LOSS:\n",
      "total Loss = 0.006100209291093051\n",
      "heatmap Loss = 0.005823622667230665\n",
      "tag Loss = 0.00027658662374597045\n",
      "\n",
      "\n",
      "\n"
     ]
    },
    {
     "name": "stderr",
     "output_type": "stream",
     "text": [
      "100%|██████████| 250/250 [00:36<00:00,  6.80it/s]\n",
      "100%|██████████| 250/250 [00:22<00:00, 11.05it/s]\n"
     ]
    },
    {
     "name": "stdout",
     "output_type": "stream",
     "text": [
      "epoch #152 \n",
      "\n",
      "TRAINING LOSS:\n",
      "total Loss = 0.006141570205800235\n",
      "heatmap Loss = 0.00585961427539587\n",
      "tag Loss = 0.00028195591748226434\n",
      "\n",
      "VALIDATION LOSS:\n",
      "total Loss = 0.0060837542405352\n",
      "heatmap Loss = 0.00580689290445298\n",
      "tag Loss = 0.0002768613504595123\n",
      "\n",
      "\n",
      "\n"
     ]
    },
    {
     "name": "stderr",
     "output_type": "stream",
     "text": [
      "100%|██████████| 250/250 [00:36<00:00,  6.87it/s]\n",
      "100%|██████████| 250/250 [00:22<00:00, 11.11it/s]\n"
     ]
    },
    {
     "name": "stdout",
     "output_type": "stream",
     "text": [
      "epoch #153 \n",
      "\n",
      "TRAINING LOSS:\n",
      "total Loss = 0.00610986038018018\n",
      "heatmap Loss = 0.005830908783711493\n",
      "tag Loss = 0.0002789516122429632\n",
      "\n",
      "VALIDATION LOSS:\n",
      "total Loss = 0.006057591452263296\n",
      "heatmap Loss = 0.0057841867925599215\n",
      "tag Loss = 0.0002734046687546652\n",
      "\n",
      "\n",
      "\n"
     ]
    },
    {
     "name": "stderr",
     "output_type": "stream",
     "text": [
      "100%|██████████| 250/250 [00:36<00:00,  6.94it/s]\n",
      "100%|██████████| 250/250 [00:22<00:00, 11.00it/s]\n"
     ]
    },
    {
     "name": "stdout",
     "output_type": "stream",
     "text": [
      "epoch #154 \n",
      "\n",
      "TRAINING LOSS:\n",
      "total Loss = 0.00610316361207515\n",
      "heatmap Loss = 0.0058211334384977815\n",
      "tag Loss = 0.000282030152680818\n",
      "\n",
      "VALIDATION LOSS:\n",
      "total Loss = 0.006107642115093768\n",
      "heatmap Loss = 0.0058310026312246915\n",
      "tag Loss = 0.00027663949300767854\n",
      "\n",
      "\n",
      "\n"
     ]
    },
    {
     "name": "stderr",
     "output_type": "stream",
     "text": [
      "100%|██████████| 250/250 [00:35<00:00,  6.98it/s]\n",
      "100%|██████████| 250/250 [00:22<00:00, 10.98it/s]\n"
     ]
    },
    {
     "name": "stdout",
     "output_type": "stream",
     "text": [
      "epoch #155 \n",
      "\n",
      "TRAINING LOSS:\n",
      "total Loss = 0.006117901047691703\n",
      "heatmap Loss = 0.005838096798397601\n",
      "tag Loss = 0.0002798042499925941\n",
      "\n",
      "VALIDATION LOSS:\n",
      "total Loss = 0.00609209390450269\n",
      "heatmap Loss = 0.005816092954948545\n",
      "tag Loss = 0.0002760009472258389\n",
      "\n",
      "\n",
      "\n"
     ]
    },
    {
     "name": "stderr",
     "output_type": "stream",
     "text": [
      "100%|██████████| 250/250 [00:36<00:00,  6.87it/s]\n",
      "100%|██████████| 250/250 [00:22<00:00, 11.11it/s]\n"
     ]
    },
    {
     "name": "stdout",
     "output_type": "stream",
     "text": [
      "epoch #156 \n",
      "\n",
      "TRAINING LOSS:\n",
      "total Loss = 0.006043312848545611\n",
      "heatmap Loss = 0.0057633316842839125\n",
      "tag Loss = 0.00027998115681111813\n",
      "\n",
      "VALIDATION LOSS:\n",
      "total Loss = 0.006047214460559189\n",
      "heatmap Loss = 0.00577458889503032\n",
      "tag Loss = 0.0002726255772868171\n",
      "\n",
      "\n",
      "\n"
     ]
    },
    {
     "name": "stderr",
     "output_type": "stream",
     "text": [
      "100%|██████████| 250/250 [00:36<00:00,  6.88it/s]\n",
      "100%|██████████| 250/250 [00:23<00:00, 10.83it/s]\n"
     ]
    },
    {
     "name": "stdout",
     "output_type": "stream",
     "text": [
      "epoch #157 \n",
      "\n",
      "TRAINING LOSS:\n",
      "total Loss = 0.006059925028122961\n",
      "heatmap Loss = 0.00577926726359874\n",
      "tag Loss = 0.0002806577634182759\n",
      "\n",
      "VALIDATION LOSS:\n",
      "total Loss = 0.006028002638369799\n",
      "heatmap Loss = 0.005752879257313907\n",
      "tag Loss = 0.0002751233839080669\n",
      "\n",
      "\n",
      "\n"
     ]
    },
    {
     "name": "stderr",
     "output_type": "stream",
     "text": [
      "100%|██████████| 250/250 [00:36<00:00,  6.81it/s]\n",
      "100%|██████████| 250/250 [00:23<00:00, 10.83it/s]\n"
     ]
    },
    {
     "name": "stdout",
     "output_type": "stream",
     "text": [
      "epoch #158 \n",
      "\n",
      "TRAINING LOSS:\n",
      "total Loss = 0.006095841181464493\n",
      "heatmap Loss = 0.005813619506545365\n",
      "tag Loss = 0.0002822216713684611\n",
      "\n",
      "VALIDATION LOSS:\n",
      "total Loss = 0.006028883115388453\n",
      "heatmap Loss = 0.005751945758238435\n",
      "tag Loss = 0.00027693735295906665\n",
      "\n",
      "\n",
      "\n"
     ]
    },
    {
     "name": "stderr",
     "output_type": "stream",
     "text": [
      "100%|██████████| 250/250 [00:36<00:00,  6.91it/s]\n",
      "100%|██████████| 250/250 [00:22<00:00, 10.97it/s]\n"
     ]
    },
    {
     "name": "stdout",
     "output_type": "stream",
     "text": [
      "epoch #159 \n",
      "\n",
      "TRAINING LOSS:\n",
      "total Loss = 0.006081236238591373\n",
      "heatmap Loss = 0.005800843631848693\n",
      "tag Loss = 0.000280392607615795\n",
      "\n",
      "VALIDATION LOSS:\n",
      "total Loss = 0.006045597675256431\n",
      "heatmap Loss = 0.005770781829021871\n",
      "tag Loss = 0.00027481584146153183\n",
      "\n",
      "\n",
      "\n"
     ]
    },
    {
     "name": "stderr",
     "output_type": "stream",
     "text": [
      "100%|██████████| 250/250 [00:35<00:00,  6.96it/s]\n",
      "100%|██████████| 250/250 [00:23<00:00, 10.81it/s]\n"
     ]
    },
    {
     "name": "stdout",
     "output_type": "stream",
     "text": [
      "epoch #160 \n",
      "\n",
      "TRAINING LOSS:\n",
      "total Loss = 0.006039859919808805\n",
      "heatmap Loss = 0.005759048994630575\n",
      "tag Loss = 0.0002808109217439778\n",
      "\n",
      "VALIDATION LOSS:\n",
      "total Loss = 0.006021394495852292\n",
      "heatmap Loss = 0.005743208535015583\n",
      "tag Loss = 0.0002781859474489465\n",
      "\n",
      "\n",
      "\n"
     ]
    },
    {
     "name": "stderr",
     "output_type": "stream",
     "text": [
      "100%|██████████| 250/250 [00:36<00:00,  6.83it/s]\n",
      "100%|██████████| 250/250 [00:22<00:00, 10.88it/s]\n"
     ]
    },
    {
     "name": "stdout",
     "output_type": "stream",
     "text": [
      "epoch #161 \n",
      "\n",
      "TRAINING LOSS:\n",
      "total Loss = 0.006089182821102441\n",
      "heatmap Loss = 0.0058082911856472495\n",
      "tag Loss = 0.00028089163755066695\n",
      "\n",
      "VALIDATION LOSS:\n",
      "total Loss = 0.0060652255117893215\n",
      "heatmap Loss = 0.005787433464080095\n",
      "tag Loss = 0.0002777920480584726\n",
      "\n",
      "\n",
      "\n"
     ]
    },
    {
     "name": "stderr",
     "output_type": "stream",
     "text": [
      "100%|██████████| 250/250 [00:36<00:00,  6.84it/s]\n",
      "100%|██████████| 250/250 [00:23<00:00, 10.79it/s]\n"
     ]
    },
    {
     "name": "stdout",
     "output_type": "stream",
     "text": [
      "epoch #162 \n",
      "\n",
      "TRAINING LOSS:\n",
      "total Loss = 0.006051376380957663\n",
      "heatmap Loss = 0.005774750772863627\n",
      "tag Loss = 0.00027662561426404866\n",
      "\n",
      "VALIDATION LOSS:\n",
      "total Loss = 0.006041230471804738\n",
      "heatmap Loss = 0.005765952165238559\n",
      "tag Loss = 0.00027527831721818076\n",
      "\n",
      "\n",
      "\n"
     ]
    },
    {
     "name": "stderr",
     "output_type": "stream",
     "text": [
      "100%|██████████| 250/250 [00:36<00:00,  6.83it/s]\n",
      "100%|██████████| 250/250 [00:22<00:00, 11.03it/s]\n"
     ]
    },
    {
     "name": "stdout",
     "output_type": "stream",
     "text": [
      "epoch #163 \n",
      "\n",
      "TRAINING LOSS:\n",
      "total Loss = 0.006029233151115477\n",
      "heatmap Loss = 0.005749744278378785\n",
      "tag Loss = 0.00027948885480873285\n",
      "\n",
      "VALIDATION LOSS:\n",
      "total Loss = 0.006109879438765347\n",
      "heatmap Loss = 0.0058356466898694635\n",
      "tag Loss = 0.0002742327591404319\n",
      "\n",
      "\n",
      "\n"
     ]
    },
    {
     "name": "stderr",
     "output_type": "stream",
     "text": [
      "100%|██████████| 250/250 [00:36<00:00,  6.91it/s]\n",
      "100%|██████████| 250/250 [00:22<00:00, 11.00it/s]\n"
     ]
    },
    {
     "name": "stdout",
     "output_type": "stream",
     "text": [
      "epoch #164 \n",
      "\n",
      "TRAINING LOSS:\n",
      "total Loss = 0.006056080739945173\n",
      "heatmap Loss = 0.005776764707639813\n",
      "tag Loss = 0.00027931603277102113\n",
      "\n",
      "VALIDATION LOSS:\n",
      "total Loss = 0.005992138305678964\n",
      "heatmap Loss = 0.005718932238407433\n",
      "tag Loss = 0.00027320608112495394\n",
      "\n",
      "\n",
      "\n"
     ]
    },
    {
     "name": "stderr",
     "output_type": "stream",
     "text": [
      "100%|██████████| 250/250 [00:36<00:00,  6.88it/s]\n",
      "100%|██████████| 250/250 [00:24<00:00, 10.21it/s]\n"
     ]
    },
    {
     "name": "stdout",
     "output_type": "stream",
     "text": [
      "epoch #165 \n",
      "\n",
      "TRAINING LOSS:\n",
      "total Loss = 0.006020169706083834\n",
      "heatmap Loss = 0.005741596486419439\n",
      "tag Loss = 0.00027857321914052593\n",
      "\n",
      "VALIDATION LOSS:\n",
      "total Loss = 0.005952182572335005\n",
      "heatmap Loss = 0.0056780307497829195\n",
      "tag Loss = 0.0002741518245311454\n",
      "\n",
      "\n",
      "\n"
     ]
    },
    {
     "name": "stderr",
     "output_type": "stream",
     "text": [
      "100%|██████████| 250/250 [00:37<00:00,  6.71it/s]\n",
      "100%|██████████| 250/250 [00:23<00:00, 10.85it/s]\n"
     ]
    },
    {
     "name": "stdout",
     "output_type": "stream",
     "text": [
      "epoch #166 \n",
      "\n",
      "TRAINING LOSS:\n",
      "total Loss = 0.0059981681667268276\n",
      "heatmap Loss = 0.005722517712973058\n",
      "tag Loss = 0.0002756504598073661\n",
      "\n",
      "VALIDATION LOSS:\n",
      "total Loss = 0.005968132399953902\n",
      "heatmap Loss = 0.005691786558367312\n",
      "tag Loss = 0.0002763458413537592\n",
      "\n",
      "\n",
      "\n"
     ]
    },
    {
     "name": "stderr",
     "output_type": "stream",
     "text": [
      "100%|██████████| 250/250 [00:36<00:00,  6.81it/s]\n",
      "100%|██████████| 250/250 [00:23<00:00, 10.75it/s]\n"
     ]
    },
    {
     "name": "stdout",
     "output_type": "stream",
     "text": [
      "epoch #167 \n",
      "\n",
      "TRAINING LOSS:\n",
      "total Loss = 0.00595113295596093\n",
      "heatmap Loss = 0.005675883807241917\n",
      "tag Loss = 0.0002752491476130672\n",
      "\n",
      "VALIDATION LOSS:\n",
      "total Loss = 0.005960603042505681\n",
      "heatmap Loss = 0.005687623573467135\n",
      "tag Loss = 0.00027297947625629603\n",
      "\n",
      "\n",
      "\n"
     ]
    },
    {
     "name": "stderr",
     "output_type": "stream",
     "text": [
      "100%|██████████| 250/250 [00:36<00:00,  6.83it/s]\n",
      "100%|██████████| 250/250 [00:23<00:00, 10.67it/s]\n"
     ]
    },
    {
     "name": "stdout",
     "output_type": "stream",
     "text": [
      "epoch #168 \n",
      "\n",
      "TRAINING LOSS:\n",
      "total Loss = 0.006063096049241721\n",
      "heatmap Loss = 0.005785007989034057\n",
      "tag Loss = 0.0002780880680074915\n",
      "\n",
      "VALIDATION LOSS:\n",
      "total Loss = 0.0059522640584036704\n",
      "heatmap Loss = 0.005679828361608088\n",
      "tag Loss = 0.0002724356845137663\n",
      "\n",
      "\n",
      "\n"
     ]
    },
    {
     "name": "stderr",
     "output_type": "stream",
     "text": [
      "100%|██████████| 250/250 [00:37<00:00,  6.71it/s]\n",
      "100%|██████████| 250/250 [00:23<00:00, 10.67it/s]\n"
     ]
    },
    {
     "name": "stdout",
     "output_type": "stream",
     "text": [
      "epoch #169 \n",
      "\n",
      "TRAINING LOSS:\n",
      "total Loss = 0.006010241268202663\n",
      "heatmap Loss = 0.005732798575423658\n",
      "tag Loss = 0.0002774427168769762\n",
      "\n",
      "VALIDATION LOSS:\n",
      "total Loss = 0.005972461551427841\n",
      "heatmap Loss = 0.00569672124274075\n",
      "tag Loss = 0.00027574032091069967\n",
      "\n",
      "\n",
      "\n"
     ]
    },
    {
     "name": "stderr",
     "output_type": "stream",
     "text": [
      "100%|██████████| 250/250 [00:36<00:00,  6.79it/s]\n",
      "100%|██████████| 250/250 [00:23<00:00, 10.57it/s]\n"
     ]
    },
    {
     "name": "stdout",
     "output_type": "stream",
     "text": [
      "epoch #170 \n",
      "\n",
      "TRAINING LOSS:\n",
      "total Loss = 0.005981158232316375\n",
      "heatmap Loss = 0.005706278865225613\n",
      "tag Loss = 0.00027487936249235645\n",
      "\n",
      "VALIDATION LOSS:\n",
      "total Loss = 0.00597903726156801\n",
      "heatmap Loss = 0.005703711739741266\n",
      "tag Loss = 0.00027532551635522397\n",
      "\n",
      "\n",
      "\n"
     ]
    },
    {
     "name": "stderr",
     "output_type": "stream",
     "text": [
      "100%|██████████| 250/250 [00:36<00:00,  6.86it/s]\n",
      "100%|██████████| 250/250 [00:23<00:00, 10.73it/s]\n"
     ]
    },
    {
     "name": "stdout",
     "output_type": "stream",
     "text": [
      "epoch #171 \n",
      "\n",
      "TRAINING LOSS:\n",
      "total Loss = 0.006004200850613415\n",
      "heatmap Loss = 0.005726444217376411\n",
      "tag Loss = 0.00027775663865031676\n",
      "\n",
      "VALIDATION LOSS:\n",
      "total Loss = 0.005963386462070048\n",
      "heatmap Loss = 0.005690085212700069\n",
      "tag Loss = 0.0002733012614189647\n",
      "\n",
      "\n",
      "\n"
     ]
    },
    {
     "name": "stderr",
     "output_type": "stream",
     "text": [
      "100%|██████████| 250/250 [00:36<00:00,  6.86it/s]\n",
      "100%|██████████| 250/250 [00:23<00:00, 10.78it/s]\n"
     ]
    },
    {
     "name": "stdout",
     "output_type": "stream",
     "text": [
      "epoch #172 \n",
      "\n",
      "TRAINING LOSS:\n",
      "total Loss = 0.0059950039722025394\n",
      "heatmap Loss = 0.005720186761580408\n",
      "tag Loss = 0.0002748172063147649\n",
      "\n",
      "VALIDATION LOSS:\n",
      "total Loss = 0.006006145952269435\n",
      "heatmap Loss = 0.00573335100337863\n",
      "tag Loss = 0.0002727949440595694\n",
      "\n",
      "\n",
      "\n"
     ]
    },
    {
     "name": "stderr",
     "output_type": "stream",
     "text": [
      "100%|██████████| 250/250 [00:36<00:00,  6.90it/s]\n",
      "100%|██████████| 250/250 [00:22<00:00, 11.05it/s]\n"
     ]
    },
    {
     "name": "stdout",
     "output_type": "stream",
     "text": [
      "epoch #173 \n",
      "\n",
      "TRAINING LOSS:\n",
      "total Loss = 0.0059617316778749225\n",
      "heatmap Loss = 0.005688920297659933\n",
      "tag Loss = 0.00027281138248508795\n",
      "\n",
      "VALIDATION LOSS:\n",
      "total Loss = 0.005942461002618075\n",
      "heatmap Loss = 0.005673436148092151\n",
      "tag Loss = 0.0002690248749568127\n",
      "\n",
      "\n",
      "\n"
     ]
    },
    {
     "name": "stderr",
     "output_type": "stream",
     "text": [
      "100%|██████████| 250/250 [00:35<00:00,  6.99it/s]\n",
      "100%|██████████| 250/250 [00:22<00:00, 10.88it/s]\n"
     ]
    },
    {
     "name": "stdout",
     "output_type": "stream",
     "text": [
      "epoch #174 \n",
      "\n",
      "TRAINING LOSS:\n",
      "total Loss = 0.005961754481308162\n",
      "heatmap Loss = 0.00568430479709059\n",
      "tag Loss = 0.0002774496989441104\n",
      "\n",
      "VALIDATION LOSS:\n",
      "total Loss = 0.005952671742066741\n",
      "heatmap Loss = 0.005679379082284868\n",
      "tag Loss = 0.0002732926526805386\n",
      "\n",
      "\n",
      "\n"
     ]
    },
    {
     "name": "stderr",
     "output_type": "stream",
     "text": [
      "100%|██████████| 250/250 [00:36<00:00,  6.91it/s]\n",
      "100%|██████████| 250/250 [00:23<00:00, 10.68it/s]\n"
     ]
    },
    {
     "name": "stdout",
     "output_type": "stream",
     "text": [
      "epoch #175 \n",
      "\n",
      "TRAINING LOSS:\n",
      "total Loss = 0.005942029559984803\n",
      "heatmap Loss = 0.00566641706880182\n",
      "tag Loss = 0.0002756124814040959\n",
      "\n",
      "VALIDATION LOSS:\n",
      "total Loss = 0.006006763252429664\n",
      "heatmap Loss = 0.005735808909870684\n",
      "tag Loss = 0.000270954339124728\n",
      "\n",
      "\n",
      "\n"
     ]
    },
    {
     "name": "stderr",
     "output_type": "stream",
     "text": [
      "100%|██████████| 250/250 [00:36<00:00,  6.92it/s]\n",
      "100%|██████████| 250/250 [00:22<00:00, 10.95it/s]\n"
     ]
    },
    {
     "name": "stdout",
     "output_type": "stream",
     "text": [
      "epoch #176 \n",
      "\n",
      "TRAINING LOSS:\n",
      "total Loss = 0.0059752972368150945\n",
      "heatmap Loss = 0.005702132315374911\n",
      "tag Loss = 0.00027316492557292804\n",
      "\n",
      "VALIDATION LOSS:\n",
      "total Loss = 0.005927344209514559\n",
      "heatmap Loss = 0.005654684021137655\n",
      "tag Loss = 0.00027266021101968364\n",
      "\n",
      "\n",
      "\n"
     ]
    },
    {
     "name": "stderr",
     "output_type": "stream",
     "text": [
      "100%|██████████| 250/250 [00:35<00:00,  6.97it/s]\n",
      "100%|██████████| 250/250 [00:22<00:00, 10.95it/s]\n"
     ]
    },
    {
     "name": "stdout",
     "output_type": "stream",
     "text": [
      "epoch #177 \n",
      "\n",
      "TRAINING LOSS:\n",
      "total Loss = 0.005910309039987623\n",
      "heatmap Loss = 0.0056337847327813505\n",
      "tag Loss = 0.00027652431558817625\n",
      "\n",
      "VALIDATION LOSS:\n",
      "total Loss = 0.005912343001924455\n",
      "heatmap Loss = 0.005644342606887221\n",
      "tag Loss = 0.0002680003818240948\n",
      "\n",
      "\n",
      "\n"
     ]
    },
    {
     "name": "stderr",
     "output_type": "stream",
     "text": [
      "100%|██████████| 250/250 [00:36<00:00,  6.78it/s]\n",
      "100%|██████████| 250/250 [00:22<00:00, 10.98it/s]\n"
     ]
    },
    {
     "name": "stdout",
     "output_type": "stream",
     "text": [
      "epoch #178 \n",
      "\n",
      "TRAINING LOSS:\n",
      "total Loss = 0.0059216581070795655\n",
      "heatmap Loss = 0.005646194736473262\n",
      "tag Loss = 0.00027546336740488184\n",
      "\n",
      "VALIDATION LOSS:\n",
      "total Loss = 0.005923037596978247\n",
      "heatmap Loss = 0.00565342996455729\n",
      "tag Loss = 0.0002696076359716244\n",
      "\n",
      "\n",
      "\n"
     ]
    },
    {
     "name": "stderr",
     "output_type": "stream",
     "text": [
      "100%|██████████| 250/250 [00:36<00:00,  6.86it/s]\n",
      "100%|██████████| 250/250 [00:22<00:00, 10.87it/s]\n"
     ]
    },
    {
     "name": "stdout",
     "output_type": "stream",
     "text": [
      "epoch #179 \n",
      "\n",
      "TRAINING LOSS:\n",
      "total Loss = 0.005929659607820213\n",
      "heatmap Loss = 0.0056577815990895034\n",
      "tag Loss = 0.00027187798108207063\n",
      "\n",
      "VALIDATION LOSS:\n",
      "total Loss = 0.005949407109059394\n",
      "heatmap Loss = 0.005676794619299472\n",
      "tag Loss = 0.00027261247875867413\n",
      "\n",
      "\n",
      "\n"
     ]
    },
    {
     "name": "stderr",
     "output_type": "stream",
     "text": [
      "100%|██████████| 250/250 [00:36<00:00,  6.90it/s]\n",
      "100%|██████████| 250/250 [00:23<00:00, 10.77it/s]\n"
     ]
    },
    {
     "name": "stdout",
     "output_type": "stream",
     "text": [
      "epoch #180 \n",
      "\n",
      "TRAINING LOSS:\n",
      "total Loss = 0.005954176600091159\n",
      "heatmap Loss = 0.005678999681957066\n",
      "tag Loss = 0.0002751769265742041\n",
      "\n",
      "VALIDATION LOSS:\n",
      "total Loss = 0.005932148545049131\n",
      "heatmap Loss = 0.005655672625638545\n",
      "tag Loss = 0.000276475916209165\n",
      "\n",
      "\n",
      "\n"
     ]
    },
    {
     "name": "stderr",
     "output_type": "stream",
     "text": [
      "100%|██████████| 250/250 [00:36<00:00,  6.84it/s]\n",
      "100%|██████████| 250/250 [00:22<00:00, 11.05it/s]\n"
     ]
    },
    {
     "name": "stdout",
     "output_type": "stream",
     "text": [
      "epoch #181 \n",
      "\n",
      "TRAINING LOSS:\n",
      "total Loss = 0.00588960593380034\n",
      "heatmap Loss = 0.005616688198409975\n",
      "tag Loss = 0.00027291774662444366\n",
      "\n",
      "VALIDATION LOSS:\n",
      "total Loss = 0.005918244514614344\n",
      "heatmap Loss = 0.005651411193422973\n",
      "tag Loss = 0.0002668333187466487\n",
      "\n",
      "\n",
      "\n"
     ]
    },
    {
     "name": "stderr",
     "output_type": "stream",
     "text": [
      "100%|██████████| 250/250 [00:36<00:00,  6.83it/s]\n",
      "100%|██████████| 250/250 [00:23<00:00, 10.72it/s]\n"
     ]
    },
    {
     "name": "stdout",
     "output_type": "stream",
     "text": [
      "epoch #182 \n",
      "\n",
      "TRAINING LOSS:\n",
      "total Loss = 0.005905785983428359\n",
      "heatmap Loss = 0.005632378120906651\n",
      "tag Loss = 0.00027340784744592385\n",
      "\n",
      "VALIDATION LOSS:\n",
      "total Loss = 0.0059031180283054705\n",
      "heatmap Loss = 0.005631388152949512\n",
      "tag Loss = 0.0002717298766365275\n",
      "\n",
      "\n",
      "\n"
     ]
    },
    {
     "name": "stderr",
     "output_type": "stream",
     "text": [
      "100%|██████████| 250/250 [00:36<00:00,  6.92it/s]\n",
      "100%|██████████| 250/250 [00:22<00:00, 11.22it/s]\n"
     ]
    },
    {
     "name": "stdout",
     "output_type": "stream",
     "text": [
      "epoch #183 \n",
      "\n",
      "TRAINING LOSS:\n",
      "total Loss = 0.005942601435817778\n",
      "heatmap Loss = 0.005668028106912971\n",
      "tag Loss = 0.0002745733430492692\n",
      "\n",
      "VALIDATION LOSS:\n",
      "total Loss = 0.005842705969698727\n",
      "heatmap Loss = 0.005570548764429986\n",
      "tag Loss = 0.0002721572146983817\n",
      "\n",
      "\n",
      "\n"
     ]
    },
    {
     "name": "stderr",
     "output_type": "stream",
     "text": [
      "100%|██████████| 250/250 [00:36<00:00,  6.81it/s]\n",
      "100%|██████████| 250/250 [00:23<00:00, 10.81it/s]\n"
     ]
    },
    {
     "name": "stdout",
     "output_type": "stream",
     "text": [
      "epoch #184 \n",
      "\n",
      "TRAINING LOSS:\n",
      "total Loss = 0.00591400623973459\n",
      "heatmap Loss = 0.00563866884354502\n",
      "tag Loss = 0.0002753374013118446\n",
      "\n",
      "VALIDATION LOSS:\n",
      "total Loss = 0.005889264685101807\n",
      "heatmap Loss = 0.0056214316226541996\n",
      "tag Loss = 0.00026783305604476484\n",
      "\n",
      "\n",
      "\n"
     ]
    },
    {
     "name": "stderr",
     "output_type": "stream",
     "text": [
      "100%|██████████| 250/250 [00:36<00:00,  6.85it/s]\n",
      "100%|██████████| 250/250 [00:22<00:00, 10.97it/s]\n"
     ]
    },
    {
     "name": "stdout",
     "output_type": "stream",
     "text": [
      "epoch #185 \n",
      "\n",
      "TRAINING LOSS:\n",
      "total Loss = 0.005881249061785638\n",
      "heatmap Loss = 0.005608236500062048\n",
      "tag Loss = 0.0002730125460657291\n",
      "\n",
      "VALIDATION LOSS:\n",
      "total Loss = 0.005911971175111831\n",
      "heatmap Loss = 0.005639754867181182\n",
      "tag Loss = 0.0002722163072321564\n",
      "\n",
      "\n",
      "\n"
     ]
    },
    {
     "name": "stderr",
     "output_type": "stream",
     "text": [
      "100%|██████████| 250/250 [00:36<00:00,  6.92it/s]\n",
      "100%|██████████| 250/250 [00:22<00:00, 11.08it/s]\n"
     ]
    },
    {
     "name": "stdout",
     "output_type": "stream",
     "text": [
      "epoch #186 \n",
      "\n",
      "TRAINING LOSS:\n",
      "total Loss = 0.005896290019154549\n",
      "heatmap Loss = 0.0056247345013543965\n",
      "tag Loss = 0.00027155551768373695\n",
      "\n",
      "VALIDATION LOSS:\n",
      "total Loss = 0.005857203902676702\n",
      "heatmap Loss = 0.00558739712741226\n",
      "tag Loss = 0.00026980676810489966\n",
      "\n",
      "\n",
      "\n"
     ]
    },
    {
     "name": "stderr",
     "output_type": "stream",
     "text": [
      "100%|██████████| 250/250 [00:36<00:00,  6.93it/s]\n",
      "100%|██████████| 250/250 [00:22<00:00, 11.14it/s]\n"
     ]
    },
    {
     "name": "stdout",
     "output_type": "stream",
     "text": [
      "epoch #187 \n",
      "\n",
      "TRAINING LOSS:\n",
      "total Loss = 0.005923184083774686\n",
      "heatmap Loss = 0.005651713430881501\n",
      "tag Loss = 0.0002714706544647925\n",
      "\n",
      "VALIDATION LOSS:\n",
      "total Loss = 0.005920117515139282\n",
      "heatmap Loss = 0.005652083607390523\n",
      "tag Loss = 0.0002680338971549645\n",
      "\n",
      "\n",
      "\n"
     ]
    },
    {
     "name": "stderr",
     "output_type": "stream",
     "text": [
      "100%|██████████| 250/250 [00:36<00:00,  6.91it/s]\n",
      "100%|██████████| 250/250 [00:23<00:00, 10.67it/s]\n"
     ]
    },
    {
     "name": "stdout",
     "output_type": "stream",
     "text": [
      "epoch #188 \n",
      "\n",
      "TRAINING LOSS:\n",
      "total Loss = 0.0058618365535512565\n",
      "heatmap Loss = 0.0055919792875647545\n",
      "tag Loss = 0.00026985725353006275\n",
      "\n",
      "VALIDATION LOSS:\n",
      "total Loss = 0.0059177038259804245\n",
      "heatmap Loss = 0.005646340564824641\n",
      "tag Loss = 0.0002713632739032619\n",
      "\n",
      "\n",
      "\n"
     ]
    },
    {
     "name": "stderr",
     "output_type": "stream",
     "text": [
      "100%|██████████| 250/250 [00:36<00:00,  6.84it/s]\n",
      "100%|██████████| 250/250 [00:22<00:00, 10.99it/s]\n"
     ]
    },
    {
     "name": "stdout",
     "output_type": "stream",
     "text": [
      "epoch #189 \n",
      "\n",
      "TRAINING LOSS:\n",
      "total Loss = 0.005865281969308853\n",
      "heatmap Loss = 0.005596765737049282\n",
      "tag Loss = 0.00026851623330730945\n",
      "\n",
      "VALIDATION LOSS:\n",
      "total Loss = 0.00577021910622716\n",
      "heatmap Loss = 0.0055001493757590655\n",
      "tag Loss = 0.000270069710444659\n",
      "\n",
      "\n",
      "\n"
     ]
    },
    {
     "name": "stderr",
     "output_type": "stream",
     "text": [
      "100%|██████████| 250/250 [00:36<00:00,  6.78it/s]\n",
      "100%|██████████| 250/250 [00:22<00:00, 10.99it/s]\n"
     ]
    },
    {
     "name": "stdout",
     "output_type": "stream",
     "text": [
      "epoch #190 \n",
      "\n",
      "TRAINING LOSS:\n",
      "total Loss = 0.0058738541686907415\n",
      "heatmap Loss = 0.005601453967392445\n",
      "tag Loss = 0.00027240020374301823\n",
      "\n",
      "VALIDATION LOSS:\n",
      "total Loss = 0.0058444960098713635\n",
      "heatmap Loss = 0.005576783905737102\n",
      "tag Loss = 0.0002677121065207757\n",
      "\n",
      "\n",
      "\n"
     ]
    },
    {
     "name": "stderr",
     "output_type": "stream",
     "text": [
      "100%|██████████| 250/250 [00:36<00:00,  6.83it/s]\n",
      "100%|██████████| 250/250 [00:22<00:00, 11.04it/s]\n"
     ]
    },
    {
     "name": "stdout",
     "output_type": "stream",
     "text": [
      "epoch #191 \n",
      "\n",
      "TRAINING LOSS:\n",
      "total Loss = 0.005895682578906417\n",
      "heatmap Loss = 0.005623975506983697\n",
      "tag Loss = 0.0002717070679645985\n",
      "\n",
      "VALIDATION LOSS:\n",
      "total Loss = 0.005870731917209923\n",
      "heatmap Loss = 0.00559965322073549\n",
      "tag Loss = 0.00027107870538020505\n",
      "\n",
      "\n",
      "\n"
     ]
    },
    {
     "name": "stderr",
     "output_type": "stream",
     "text": [
      "100%|██████████| 250/250 [00:36<00:00,  6.90it/s]\n",
      "100%|██████████| 250/250 [00:22<00:00, 11.03it/s]\n"
     ]
    },
    {
     "name": "stdout",
     "output_type": "stream",
     "text": [
      "epoch #192 \n",
      "\n",
      "TRAINING LOSS:\n",
      "total Loss = 0.00589854518789798\n",
      "heatmap Loss = 0.005627097280696034\n",
      "tag Loss = 0.0002714479088317603\n",
      "\n",
      "VALIDATION LOSS:\n",
      "total Loss = 0.005825509340502322\n",
      "heatmap Loss = 0.00555592708196491\n",
      "tag Loss = 0.0002695822506211698\n",
      "\n",
      "\n",
      "\n"
     ]
    },
    {
     "name": "stderr",
     "output_type": "stream",
     "text": [
      "100%|██████████| 250/250 [00:35<00:00,  7.00it/s]\n",
      "100%|██████████| 250/250 [00:23<00:00, 10.79it/s]\n"
     ]
    },
    {
     "name": "stdout",
     "output_type": "stream",
     "text": [
      "epoch #193 \n",
      "\n",
      "TRAINING LOSS:\n",
      "total Loss = 0.005847673038952053\n",
      "heatmap Loss = 0.00557960566598922\n",
      "tag Loss = 0.00026806737092556433\n",
      "\n",
      "VALIDATION LOSS:\n",
      "total Loss = 0.005818472462706268\n",
      "heatmap Loss = 0.005551654566079378\n",
      "tag Loss = 0.0002668179063475691\n",
      "\n",
      "\n",
      "\n"
     ]
    },
    {
     "name": "stderr",
     "output_type": "stream",
     "text": [
      "100%|██████████| 250/250 [00:35<00:00,  6.98it/s]\n",
      "100%|██████████| 250/250 [00:23<00:00, 10.78it/s]\n"
     ]
    },
    {
     "name": "stdout",
     "output_type": "stream",
     "text": [
      "epoch #194 \n",
      "\n",
      "TRAINING LOSS:\n",
      "total Loss = 0.00586692559439689\n",
      "heatmap Loss = 0.005597570941783488\n",
      "tag Loss = 0.00026935465319547804\n",
      "\n",
      "VALIDATION LOSS:\n",
      "total Loss = 0.005834281744435429\n",
      "heatmap Loss = 0.005568127401173115\n",
      "tag Loss = 0.0002661543329013512\n",
      "\n",
      "\n",
      "\n"
     ]
    },
    {
     "name": "stderr",
     "output_type": "stream",
     "text": [
      "100%|██████████| 250/250 [00:36<00:00,  6.86it/s]\n",
      "100%|██████████| 250/250 [00:22<00:00, 11.17it/s]\n"
     ]
    },
    {
     "name": "stdout",
     "output_type": "stream",
     "text": [
      "epoch #195 \n",
      "\n",
      "TRAINING LOSS:\n",
      "total Loss = 0.005862003607675434\n",
      "heatmap Loss = 0.0055908273449167606\n",
      "tag Loss = 0.0002711762700928375\n",
      "\n",
      "VALIDATION LOSS:\n",
      "total Loss = 0.005771058056503534\n",
      "heatmap Loss = 0.005500728636048734\n",
      "tag Loss = 0.00027032942307414487\n",
      "\n",
      "\n",
      "\n"
     ]
    },
    {
     "name": "stderr",
     "output_type": "stream",
     "text": [
      "100%|██████████| 250/250 [00:36<00:00,  6.88it/s]\n",
      "100%|██████████| 250/250 [00:23<00:00, 10.68it/s]\n"
     ]
    },
    {
     "name": "stdout",
     "output_type": "stream",
     "text": [
      "epoch #196 \n",
      "\n",
      "TRAINING LOSS:\n",
      "total Loss = 0.005860954756848514\n",
      "heatmap Loss = 0.005591240432113409\n",
      "tag Loss = 0.000269714318739716\n",
      "\n",
      "VALIDATION LOSS:\n",
      "total Loss = 0.005830740993842482\n",
      "heatmap Loss = 0.0055620934236794714\n",
      "tag Loss = 0.00026864757086150347\n",
      "\n",
      "\n",
      "\n"
     ]
    },
    {
     "name": "stderr",
     "output_type": "stream",
     "text": [
      "100%|██████████| 250/250 [00:36<00:00,  6.86it/s]\n",
      "100%|██████████| 250/250 [00:23<00:00, 10.78it/s]\n"
     ]
    },
    {
     "name": "stdout",
     "output_type": "stream",
     "text": [
      "epoch #197 \n",
      "\n",
      "TRAINING LOSS:\n",
      "total Loss = 0.005821276003494859\n",
      "heatmap Loss = 0.005552753589116037\n",
      "tag Loss = 0.00026852240378502754\n",
      "\n",
      "VALIDATION LOSS:\n",
      "total Loss = 0.00588785233348608\n",
      "heatmap Loss = 0.005619577812962234\n",
      "tag Loss = 0.0002682745179918129\n",
      "\n",
      "\n",
      "\n"
     ]
    },
    {
     "name": "stderr",
     "output_type": "stream",
     "text": [
      "100%|██████████| 250/250 [00:36<00:00,  6.89it/s]\n",
      "100%|██████████| 250/250 [00:23<00:00, 10.86it/s]\n"
     ]
    },
    {
     "name": "stdout",
     "output_type": "stream",
     "text": [
      "epoch #198 \n",
      "\n",
      "TRAINING LOSS:\n",
      "total Loss = 0.005886817715130746\n",
      "heatmap Loss = 0.005616611158475279\n",
      "tag Loss = 0.00027020656672539187\n",
      "\n",
      "VALIDATION LOSS:\n",
      "total Loss = 0.005825847988948226\n",
      "heatmap Loss = 0.0055597203979268674\n",
      "tag Loss = 0.00026612760324496777\n",
      "\n",
      "\n",
      "\n",
      "end training, exec time: 11896.716822385788\n"
     ]
    }
   ],
   "source": [
    "train(cc.config[\"batch_size\"])"
   ]
  },
  {
   "attachments": {},
   "cell_type": "markdown",
   "metadata": {},
   "source": [
    "# Inference\n",
    "Unfotunately OpenCV method `imshow()` has a well known bug with python notebooks."
   ]
  },
  {
   "cell_type": "code",
   "execution_count": 2,
   "metadata": {},
   "outputs": [
    {
     "name": "stdout",
     "output_type": "stream",
     "text": [
      "loading annotations into memory...\n",
      "Done (t=0.18s)\n",
      "creating index...\n",
      "index created!\n"
     ]
    }
   ],
   "source": [
    "import cv2\n",
    "import random\n",
    "\n",
    "import torch.nn.functional as F\n",
    "\n",
    "\n",
    "model = LitePose().to(cc.config[\"device\"])\n",
    "model.load_state_dict(torch.load(\"lp_trained_models/definitive\"))\n",
    "\n",
    "ds = getDatasetProcessed(\"validation\")\n",
    "\n",
    "data_loader = torch.utils.data.DataLoader(\n",
    "    ds,\n",
    "    batch_size=8\n",
    ")\n",
    "it = iter(data_loader)\n",
    "next(it)\n",
    "next(it)\n",
    "\n",
    "row = next(it)\n",
    "images = row[0].to(cc.config[\"device\"])\n",
    "\n",
    "gthm = row[1]\n",
    "output, keypoints = inference(model, images)"
   ]
  },
  {
   "cell_type": "code",
   "execution_count": 14,
   "metadata": {},
   "outputs": [],
   "source": [
    "embedding = assocEmbedding(keypoints)"
   ]
  },
  {
   "cell_type": "code",
   "execution_count": 3,
   "metadata": {},
   "outputs": [],
   "source": [
    "jointsHeatmap = output[1][2][:cc.config[\"num_joints\"]]\n",
    "\n",
    "img, finalHm, superimposed = drawHeatmap(images[2], jointsHeatmap)\n",
    "img, gtfinalHm, gtsuperimposed = drawHeatmap(images[2], gthm[1][2])\n",
    "cv2.imshow(\"Image\", img)\n",
    "cv2.imshow(\"Final heatmap\", finalHm)\n",
    "cv2.imshow(\"Superimposed\", superimposed)\n",
    "\n",
    "cv2.imshow(\"Ground Truth heatmap\", gtfinalHm)\n",
    "cv2.imshow(\"Ground Truth Superimposed\", gtsuperimposed)\n",
    "cv2.waitKey()\n",
    "cv2.destroyAllWindows()"
   ]
  },
  {
   "cell_type": "code",
   "execution_count": 15,
   "metadata": {},
   "outputs": [],
   "source": [
    "import lp_utils.lp_image_processing as ip\n",
    "import numpy as np\n",
    "\n",
    "img = images[1]\n",
    "\n",
    "tj = output[1][1]\n",
    "\n",
    "for t in range(14,28):\n",
    "    tagJoints = tj[t]\n",
    "    scaled = ip.scaleImage(tagJoints.unsqueeze(0), img.shape[1]).cpu().numpy()\n",
    "    scaled = scaled[0]\n",
    "    scaled = ip.normalizeImage(scaled)\n",
    "    finalHm = cv2.applyColorMap(np.uint8(scaled), cv2.COLORMAP_JET)\n",
    "    cv2.imshow(str(t), finalHm)\n",
    "    cv2.waitKey()\n",
    "cv2.destroyAllWindows()\n"
   ]
  },
  {
   "cell_type": "code",
   "execution_count": 3,
   "metadata": {},
   "outputs": [
    {
     "name": "stdout",
     "output_type": "stream",
     "text": [
      "tensor(0., device='cuda:0')\n"
     ]
    }
   ],
   "source": [
    "tagJoints = output[1][2][cc.config[\"num_joints\"]:]\n",
    "\n",
    "print(tagJoints[0].max())\n",
    "\n",
    "img, finalHm, superimposed = drawHeatmap(images[2], tagJoints)\n",
    "cv2.imshow(\"Image\", img)\n",
    "cv2.imshow(\"Final heatmap\", finalHm)\n",
    "cv2.imshow(\"Superimposed\", superimposed)\n",
    "\n",
    "cv2.waitKey()\n",
    "cv2.destroyAllWindows()"
   ]
  },
  {
   "cell_type": "code",
   "execution_count": 16,
   "metadata": {},
   "outputs": [],
   "source": [
    "img = drawKeypoints(images[5], keypoints[5])\n",
    "cv2.imshow(\"Image Keypoints\", img)\n",
    "cv2.waitKey()\n",
    "cv2.destroyAllWindows()"
   ]
  },
  {
   "cell_type": "code",
   "execution_count": 25,
   "metadata": {},
   "outputs": [],
   "source": [
    "idx = 5\n",
    "img = drawSkeleton(images[idx], embedding[idx])\n",
    "cv2.imshow(\"Image Keypoints\", img)\n",
    "cv2.waitKey()\n",
    "cv2.destroyAllWindows()"
   ]
  },
  {
   "cell_type": "code",
   "execution_count": 3,
   "metadata": {},
   "outputs": [],
   "source": [
    "import cv2 \n",
    "import torch\n",
    "import numpy as np\n",
    "from lp_config.lp_common_config import config\n",
    "\n",
    "@torch.no_grad()\n",
    "def keypointOnCam(model, savePath, confidenceThreshold = 0):\n",
    "    cap = cv2.VideoCapture(0, cv2.CAP_V4L2)\n",
    "    if (cap.isOpened() == False):\n",
    "        print('Error while trying to open webcam')\n",
    "        return\n",
    "    \n",
    "    frame_width = int(cap.get(3))\n",
    "    frame_height = int(cap.get(4))\n",
    "\n",
    "    out = cv2.VideoWriter(f\"{savePath}\", \n",
    "                      cv2.VideoWriter_fourcc(*'mp4v'), 20, \n",
    "                      (frame_width, frame_height))\n",
    "\n",
    "    while(cap.isOpened()):\n",
    "    # capture each frame of the video\n",
    "        ret, frame = cap.read()\n",
    "        if ret == True:\n",
    "\n",
    "            image = frame\n",
    "            image = cv2.resize(image, (256, 256))\n",
    "            orig_frame = image.copy()\n",
    "            image = cv2.cvtColor(image, cv2.COLOR_BGR2RGB)\n",
    "            image = image / 255.0\n",
    "            image = np.transpose(image, (2, 0, 1))\n",
    "            image = torch.tensor(image, dtype=torch.float)\n",
    "            image = image.unsqueeze(0).to(config[\"device\"])\n",
    "            kps = inference(model, image)\n",
    "            skel = assocEmbedding(kps)\n",
    "\n",
    "            orig_frame = drawSkeleton(orig_frame, skel)\n",
    "            \n",
    "            orig_frame = cv2.resize(orig_frame, (frame_width, frame_height))\n",
    "            cv2.imshow('Keypoint Frame', orig_frame)\n",
    "            out.write(orig_frame)\n",
    "\n",
    "            if cv2.waitKey(27) & 0xFF == ord('q'):\n",
    "                break\n",
    "    \n",
    "        else: \n",
    "            break\n",
    "        \n",
    "    cap.release()\n",
    "    cv2.destroyAllWindows()\n",
    "\n"
   ]
  },
  {
   "cell_type": "code",
   "execution_count": 4,
   "metadata": {},
   "outputs": [
    {
     "ename": "IndexError",
     "evalue": "list index out of range",
     "output_type": "error",
     "traceback": [
      "\u001b[0;31m---------------------------------------------------------------------------\u001b[0m",
      "\u001b[0;31mIndexError\u001b[0m                                Traceback (most recent call last)",
      "Cell \u001b[0;32mIn[4], line 1\u001b[0m\n\u001b[0;32m----> 1\u001b[0m keypointOnCam(model\u001b[39m.\u001b[39;49mto(device\u001b[39m=\u001b[39;49mconfig[\u001b[39m\"\u001b[39;49m\u001b[39mdevice\u001b[39;49m\u001b[39m\"\u001b[39;49m]),\u001b[39m\"\u001b[39;49m\u001b[39mciao.mp4\u001b[39;49m\u001b[39m\"\u001b[39;49m)\n",
      "File \u001b[0;32m~/.local/lib/python3.10/site-packages/torch/autograd/grad_mode.py:27\u001b[0m, in \u001b[0;36m_DecoratorContextManager.__call__.<locals>.decorate_context\u001b[0;34m(*args, **kwargs)\u001b[0m\n\u001b[1;32m     24\u001b[0m \u001b[39m@functools\u001b[39m\u001b[39m.\u001b[39mwraps(func)\n\u001b[1;32m     25\u001b[0m \u001b[39mdef\u001b[39;00m \u001b[39mdecorate_context\u001b[39m(\u001b[39m*\u001b[39margs, \u001b[39m*\u001b[39m\u001b[39m*\u001b[39mkwargs):\n\u001b[1;32m     26\u001b[0m     \u001b[39mwith\u001b[39;00m \u001b[39mself\u001b[39m\u001b[39m.\u001b[39mclone():\n\u001b[0;32m---> 27\u001b[0m         \u001b[39mreturn\u001b[39;00m func(\u001b[39m*\u001b[39;49margs, \u001b[39m*\u001b[39;49m\u001b[39m*\u001b[39;49mkwargs)\n",
      "Cell \u001b[0;32mIn[3], line 34\u001b[0m, in \u001b[0;36mkeypointOnCam\u001b[0;34m(model, savePath, confidenceThreshold)\u001b[0m\n\u001b[1;32m     32\u001b[0m image \u001b[39m=\u001b[39m image\u001b[39m.\u001b[39munsqueeze(\u001b[39m0\u001b[39m)\u001b[39m.\u001b[39mto(config[\u001b[39m\"\u001b[39m\u001b[39mdevice\u001b[39m\u001b[39m\"\u001b[39m])\n\u001b[1;32m     33\u001b[0m kps \u001b[39m=\u001b[39m inference(model, image)\n\u001b[0;32m---> 34\u001b[0m skel \u001b[39m=\u001b[39m assocEmbedding(kps)\n\u001b[1;32m     36\u001b[0m orig_frame \u001b[39m=\u001b[39m drawSkeleton(orig_frame, skel)\n\u001b[1;32m     38\u001b[0m orig_frame \u001b[39m=\u001b[39m cv2\u001b[39m.\u001b[39mresize(orig_frame, (frame_width, frame_height))\n",
      "File \u001b[0;32m~/.local/lib/python3.10/site-packages/torch/autograd/grad_mode.py:27\u001b[0m, in \u001b[0;36m_DecoratorContextManager.__call__.<locals>.decorate_context\u001b[0;34m(*args, **kwargs)\u001b[0m\n\u001b[1;32m     24\u001b[0m \u001b[39m@functools\u001b[39m\u001b[39m.\u001b[39mwraps(func)\n\u001b[1;32m     25\u001b[0m \u001b[39mdef\u001b[39;00m \u001b[39mdecorate_context\u001b[39m(\u001b[39m*\u001b[39margs, \u001b[39m*\u001b[39m\u001b[39m*\u001b[39mkwargs):\n\u001b[1;32m     26\u001b[0m     \u001b[39mwith\u001b[39;00m \u001b[39mself\u001b[39m\u001b[39m.\u001b[39mclone():\n\u001b[0;32m---> 27\u001b[0m         \u001b[39mreturn\u001b[39;00m func(\u001b[39m*\u001b[39;49margs, \u001b[39m*\u001b[39;49m\u001b[39m*\u001b[39;49mkwargs)\n",
      "File \u001b[0;32m~/Uni/Neural_Networks/LitePose/litepose-keypoint-estimation/src/lp_inference/lp_inference.py:97\u001b[0m, in \u001b[0;36massocEmbedding\u001b[0;34m(kps)\u001b[0m\n\u001b[1;32m     94\u001b[0m idxa \u001b[39m=\u001b[39m ccfg\u001b[39m.\u001b[39mcrowd_pose_part_idx[a]\n\u001b[1;32m     95\u001b[0m idxb \u001b[39m=\u001b[39m ccfg\u001b[39m.\u001b[39mcrowd_pose_part_idx[b]\n\u001b[0;32m---> 97\u001b[0m bcopy \u001b[39m=\u001b[39m single[idxb]\u001b[39m.\u001b[39mcopy()\n\u001b[1;32m     98\u001b[0m \u001b[39mfor\u001b[39;00m elem \u001b[39min\u001b[39;00m single[idxa]:\n\u001b[1;32m     99\u001b[0m     distance, bestMatch, rmidx \u001b[39m=\u001b[39m getCloserElement(elem[\u001b[39m\"\u001b[39m\u001b[39mtag\u001b[39m\u001b[39m\"\u001b[39m], bcopy)\n",
      "\u001b[0;31mIndexError\u001b[0m: list index out of range"
     ]
    }
   ],
   "source": [
    "keypointOnCam(model.to(device=config[\"device\"]),\"ciao.mp4\")"
   ]
  }
 ],
 "metadata": {
  "kernelspec": {
   "display_name": "Python 3",
   "language": "python",
   "name": "python3"
  },
  "language_info": {
   "codemirror_mode": {
    "name": "ipython",
    "version": 3
   },
   "file_extension": ".py",
   "mimetype": "text/x-python",
   "name": "python",
   "nbconvert_exporter": "python",
   "pygments_lexer": "ipython3",
   "version": "3.10.6"
  },
  "orig_nbformat": 4,
  "vscode": {
   "interpreter": {
    "hash": "916dbcbb3f70747c44a77c7bcd40155683ae19c65e1c03b4aa3499c5328201f1"
   }
  }
 },
 "nbformat": 4,
 "nbformat_minor": 2
}
