{
 "cells": [
  {
   "attachments": {},
   "cell_type": "markdown",
   "metadata": {},
   "source": [
    "# Litepose \n",
    "[Litepose][1] proposes an efficient way to perform multi-person pose estimation, providing a low computationl cost, scale invariant and reliable architecture. It follows a bottom-up approach, namely it uses just one network to do both keypoints estimation and grouping. In this implementation I have also relied on two other papers (also cited by Litepose), one is [HigherHRNet][2] that proposes the main architecture and the other is [Associative Embedding][3] that introduces a way to assign identity-free keypoints to the person they belong to.\n",
    "\n",
    "Litepose modifies the HigherHRNet architecture going from a multi-branch to a single-branch one by gradual shrinking with the purpose of speeding up the inference, making it run on low computational power devices as well.\n",
    "\n",
    "The architecture uses a MobileNet backbone with **Large Kernel Convolutions** that have shown great results empirically. The backbone output is passed to multiple deconvolutional (transpose convolutional) blocks implementing the main feature of the Litepose Paper that is **Fusion Deconv Head**. This allows to obtain scale aware results by merging backbone intermediate features and refined features, in this way the network can exploit high resolution features, that help to catch close joints and small peoples, without involving a multi-branch architecture. \n",
    "\n",
    "Let $t$ be the number of convolutional blocks and $n$ be the number of the current deconvolutional block, the features fusion is implemented by summing the features of deconvolutional block in position $n$ with the features of backbone block in position $t-n-1$, refined by an additional convolutional layer. Eventually the merged features are passed to a final block for each deconvolutional layer that produces the output. The results of the network are provided in several scales, one for each deconvolutional layer. Hence the output is a $(n,j,s_i,s_i)$ tensor where $n$ is the number of scales (i.e. deconv blocks), $j$ is the number of joints that we want to detect, $s_i$ for $i\\in{1,2,...,n}$ is the size of the current scale. The image clarifies the network structure.\n",
    "\n",
    "![Network Architecture!](../assets/structure.png)\n",
    "\n",
    "The output of the network is composed by a list of scaled version of multi-channel results. Each result has $2*k$ channels, where $k$ is the number of joints for each person. The first $k$ channels have to be intended as a 2D probability distribution for each joint, since the model works also for multi-person detections, the distributions will have multiple peaks (hopefully one for each person). The last k channels, called **tags**, are used to assign identity free keypoints to each person, i.e. connect the keypoints together. The main idea behind tags is that two keypoints are connected to each other if their tag are the closer between every possible pair.\n",
    "\n",
    "\n",
    "[1]:https://openaccess.thecvf.com/content/CVPR2022/papers/Wang_Lite_Pose_Efficient_Architecture_Design_for_2D_Human_Pose_Estimation_CVPR_2022_paper.pdf\n",
    "[2]:https://arxiv.org/pdf/1908.10357.pdf\n",
    "[3]:https://papers.nips.cc/paper/2017/file/8edd72158ccd2a879f79cb2538568fdc-Paper.pdf"
   ]
  },
  {
   "attachments": {},
   "cell_type": "markdown",
   "metadata": {},
   "source": [
    "This file has to be seen only as an entry that calls wrapper functions, the implentation of those functions can be found in the subdirectories of the repository.   \n",
    "Every hyperparameter can be edited in `src/lp_config`.  \n",
    "This project is highly scalable and customizable, you can adapt the model to your problem by modifying several parameters (number of joints, max persons, confidences...), in addition you can also change the network architecture in order to handle the performances-latency tradeoff.  \n",
    "`lp_common_config.py` contains the general configurations about the dataset loading, training and inference. On the other hand `lp_model_config.py` contrains the parameters that encode the model structure."
   ]
  },
  {
   "cell_type": "code",
   "execution_count": 2,
   "metadata": {},
   "outputs": [],
   "source": [
    "from lp_coco_utils.lp_getDataset import getDatasetProcessed\n",
    "from lp_training.lp_trainer import train\n",
    "from lp_model.lp_litepose import LitePose\n",
    "from lp_inference.lp_inference import inference, assocEmbedding\n",
    "from lp_utils.lp_image_processing import drawHeatmap, drawKeypoints, drawSkeleton\n",
    "from lp_testing.lp_evaluate import evaluateModel\n",
    "\n",
    "import lp_config.lp_common_config as cc\n",
    "import torch\n",
    "import cv2"
   ]
  },
  {
   "attachments": {},
   "cell_type": "markdown",
   "metadata": {},
   "source": [
    "# Dataset \n",
    "The model has been trained and validate on CrowdPose, a dataset that contains multi-person keypoints. As preprocessing the keypoints have been turned into different scales heatmaps that allow to define a loss function based on heatmaps mean squared error. Moreover several data augmentation transformations have been applied such as rotation, scale, translation and flip."
   ]
  },
  {
   "attachments": {},
   "cell_type": "markdown",
   "metadata": {},
   "source": [
    "# Training\n",
    "\n",
    "As optimizer Adam has been used as it provided better results compared to SGD. \n",
    "The loss is made up multiple components:\n",
    "- Heatmaps Mean Squared error: the first $k$ channels are compared to the ground truth heatmaps generated during the dataset preprocessing. Hence the squared difference channel-wise, representing the estimation error, is summed up along the scale dimensions.\n",
    "- Tag aggregate component: it aims to reduce the variance among the tags associated to the joints that belongs to a single person. To define this component, it is useful to compute the joint ($K$) tag mean for each person ($n$) as $$ \\overline{h_n} = \\frac{1}{K} \\sum_{k}^{} h_k(x_{nk}) $$\n",
    "where $h_k(x)$ is the tag value at pixel location x and $x_{nk}$ is the ground truth joint position of person $n$. Finally the loss component is calculated as $$L_{aggr}=\\frac{1}{NK}\\sum_{n}^{}\\sum_{k}^{}(\\overline{h_n}-h_k(x_{nk}))^2$$\n",
    "- Tag push component: its purpose is to maximize the difference between person tag means (to discriminate different peoples). This component is formalized as $$L_{push}=\\frac{1}{N^2}\\sum_{n}^{}\\sum_{n'}^{}exp(- \\frac{1}{2}(\\overline{h_n} - \\overline{h_{n'}})^2) $$\n",
    "\n",
    "The total loss optimized by the model is $L = L_{MSE}+L_{aggr}+L_{push}$"
   ]
  },
  {
   "cell_type": "code",
   "execution_count": 2,
   "metadata": {},
   "outputs": [
    {
     "name": "stdout",
     "output_type": "stream",
     "text": [
      "loading annotations into memory...\n",
      "Done (t=0.10s)\n",
      "creating index...\n",
      "index created!\n",
      "loading annotations into memory...\n",
      "Done (t=0.04s)\n",
      "creating index...\n",
      "index created!\n"
     ]
    },
    {
     "name": "stderr",
     "output_type": "stream",
     "text": [
      "100%|██████████| 250/250 [00:52<00:00,  4.78it/s]\n",
      "100%|██████████| 250/250 [00:26<00:00,  9.39it/s]\n"
     ]
    },
    {
     "name": "stdout",
     "output_type": "stream",
     "text": [
      "epoch #1 \n",
      "\n",
      "TRAINING LOSS:\n",
      "total Loss = 0.08495823984220624\n",
      "heatmap Loss = 0.0839415304325521\n",
      "tag Loss = 0.0010167092052288354\n",
      "\n",
      "VALIDATION LOSS:\n",
      "total Loss = 0.015973335154354572\n",
      "heatmap Loss = 0.015032777719199657\n",
      "tag Loss = 0.0009405574300326406\n",
      "\n",
      "\n",
      "\n"
     ]
    },
    {
     "name": "stderr",
     "output_type": "stream",
     "text": [
      "100%|██████████| 250/250 [00:49<00:00,  5.07it/s]\n",
      "100%|██████████| 250/250 [00:28<00:00,  8.68it/s]\n"
     ]
    },
    {
     "name": "stdout",
     "output_type": "stream",
     "text": [
      "epoch #2 \n",
      "\n",
      "TRAINING LOSS:\n",
      "total Loss = 0.020706244103610515\n",
      "heatmap Loss = 0.019766294930130244\n",
      "tag Loss = 0.0009399491804651917\n",
      "\n",
      "VALIDATION LOSS:\n",
      "total Loss = 0.05758648790046573\n",
      "heatmap Loss = 0.056643148206174374\n",
      "tag Loss = 0.0009433394686784595\n",
      "\n",
      "\n",
      "\n"
     ]
    },
    {
     "name": "stderr",
     "output_type": "stream",
     "text": [
      "100%|██████████| 250/250 [00:49<00:00,  5.09it/s]\n",
      "100%|██████████| 250/250 [00:27<00:00,  9.23it/s]\n"
     ]
    },
    {
     "name": "stdout",
     "output_type": "stream",
     "text": [
      "epoch #3 \n",
      "\n",
      "TRAINING LOSS:\n",
      "total Loss = 0.014190631173551082\n",
      "heatmap Loss = 0.013256848404183983\n",
      "tag Loss = 0.0009337827921845019\n",
      "\n",
      "VALIDATION LOSS:\n",
      "total Loss = 0.01093784129433334\n",
      "heatmap Loss = 0.010005950916558504\n",
      "tag Loss = 0.000931890380103141\n",
      "\n",
      "\n",
      "\n"
     ]
    },
    {
     "name": "stderr",
     "output_type": "stream",
     "text": [
      "100%|██████████| 250/250 [00:48<00:00,  5.15it/s]\n",
      "100%|██████████| 250/250 [00:26<00:00,  9.39it/s]\n"
     ]
    },
    {
     "name": "stdout",
     "output_type": "stream",
     "text": [
      "epoch #4 \n",
      "\n",
      "TRAINING LOSS:\n",
      "total Loss = 0.011461534136906266\n",
      "heatmap Loss = 0.01052982135489583\n",
      "tag Loss = 0.0009317127522081136\n",
      "\n",
      "VALIDATION LOSS:\n",
      "total Loss = 0.010369517708197235\n",
      "heatmap Loss = 0.009436274964362383\n",
      "tag Loss = 0.0009332427147310227\n",
      "\n",
      "\n",
      "\n"
     ]
    },
    {
     "name": "stderr",
     "output_type": "stream",
     "text": [
      "100%|██████████| 250/250 [00:49<00:00,  5.08it/s]\n",
      "100%|██████████| 250/250 [00:26<00:00,  9.33it/s]\n"
     ]
    },
    {
     "name": "stdout",
     "output_type": "stream",
     "text": [
      "epoch #5 \n",
      "\n",
      "TRAINING LOSS:\n",
      "total Loss = 0.010204840870574116\n",
      "heatmap Loss = 0.009274805473163724\n",
      "tag Loss = 0.0009300353780854493\n",
      "\n",
      "VALIDATION LOSS:\n",
      "total Loss = 0.010206442447379232\n",
      "heatmap Loss = 0.009277889488264919\n",
      "tag Loss = 0.0009285529754124582\n",
      "\n",
      "\n",
      "\n"
     ]
    },
    {
     "name": "stderr",
     "output_type": "stream",
     "text": [
      "100%|██████████| 250/250 [00:49<00:00,  5.08it/s]\n",
      "100%|██████████| 250/250 [00:26<00:00,  9.27it/s]\n"
     ]
    },
    {
     "name": "stdout",
     "output_type": "stream",
     "text": [
      "epoch #6 \n",
      "\n",
      "TRAINING LOSS:\n",
      "total Loss = 0.009774018092080951\n",
      "heatmap Loss = 0.008842276899144054\n",
      "tag Loss = 0.0009317411922384054\n",
      "\n",
      "VALIDATION LOSS:\n",
      "total Loss = 0.009502811154350638\n",
      "heatmap Loss = 0.008569723820313811\n",
      "tag Loss = 0.0009330873428843915\n",
      "\n",
      "\n",
      "\n"
     ]
    },
    {
     "name": "stderr",
     "output_type": "stream",
     "text": [
      "100%|██████████| 250/250 [00:48<00:00,  5.11it/s]\n",
      "100%|██████████| 250/250 [00:26<00:00,  9.30it/s]\n"
     ]
    },
    {
     "name": "stdout",
     "output_type": "stream",
     "text": [
      "epoch #7 \n",
      "\n",
      "TRAINING LOSS:\n",
      "total Loss = 0.009522543100640178\n",
      "heatmap Loss = 0.008596303224563598\n",
      "tag Loss = 0.0009262399040162563\n",
      "\n",
      "VALIDATION LOSS:\n",
      "total Loss = 0.009496402667835354\n",
      "heatmap Loss = 0.008565025651827455\n",
      "tag Loss = 0.0009313769976142794\n",
      "\n",
      "\n",
      "\n"
     ]
    },
    {
     "name": "stderr",
     "output_type": "stream",
     "text": [
      "100%|██████████| 250/250 [00:50<00:00,  4.95it/s]\n",
      "100%|██████████| 250/250 [00:28<00:00,  8.91it/s]\n"
     ]
    },
    {
     "name": "stdout",
     "output_type": "stream",
     "text": [
      "epoch #8 \n",
      "\n",
      "TRAINING LOSS:\n",
      "total Loss = 0.009426875798031687\n",
      "heatmap Loss = 0.008495046507567168\n",
      "tag Loss = 0.000931829288834706\n",
      "\n",
      "VALIDATION LOSS:\n",
      "total Loss = 0.00932137769460678\n",
      "heatmap Loss = 0.008392092926427721\n",
      "tag Loss = 0.0009292848031036556\n",
      "\n",
      "\n",
      "\n"
     ]
    },
    {
     "name": "stderr",
     "output_type": "stream",
     "text": [
      "100%|██████████| 250/250 [00:49<00:00,  5.03it/s]\n",
      "100%|██████████| 250/250 [00:28<00:00,  8.67it/s]\n"
     ]
    },
    {
     "name": "stdout",
     "output_type": "stream",
     "text": [
      "epoch #9 \n",
      "\n",
      "TRAINING LOSS:\n",
      "total Loss = 0.009320619842037558\n",
      "heatmap Loss = 0.008390939563512802\n",
      "tag Loss = 0.0009296802545432001\n",
      "\n",
      "VALIDATION LOSS:\n",
      "total Loss = 0.009246401496231555\n",
      "heatmap Loss = 0.008314531240612268\n",
      "tag Loss = 0.0009318702712189407\n",
      "\n",
      "\n",
      "\n"
     ]
    },
    {
     "name": "stderr",
     "output_type": "stream",
     "text": [
      "100%|██████████| 250/250 [00:50<00:00,  4.92it/s]\n",
      "100%|██████████| 250/250 [00:28<00:00,  8.89it/s]\n"
     ]
    },
    {
     "name": "stdout",
     "output_type": "stream",
     "text": [
      "epoch #10 \n",
      "\n",
      "TRAINING LOSS:\n",
      "total Loss = 0.00925265846401453\n",
      "heatmap Loss = 0.008322487836703658\n",
      "tag Loss = 0.0009301706715486944\n",
      "\n",
      "VALIDATION LOSS:\n",
      "total Loss = 0.009263246381655335\n",
      "heatmap Loss = 0.008333265326917172\n",
      "tag Loss = 0.0009299810307566076\n",
      "\n",
      "\n",
      "\n"
     ]
    },
    {
     "name": "stderr",
     "output_type": "stream",
     "text": [
      "100%|██████████| 250/250 [00:50<00:00,  4.92it/s]\n",
      "100%|██████████| 250/250 [00:27<00:00,  8.99it/s]\n"
     ]
    },
    {
     "name": "stdout",
     "output_type": "stream",
     "text": [
      "epoch #11 \n",
      "\n",
      "TRAINING LOSS:\n",
      "total Loss = 0.009193644601851701\n",
      "heatmap Loss = 0.008266170537099242\n",
      "tag Loss = 0.0009274740535765887\n",
      "\n",
      "VALIDATION LOSS:\n",
      "total Loss = 0.009192478297278286\n",
      "heatmap Loss = 0.00826209595054388\n",
      "tag Loss = 0.0009303823371883482\n",
      "\n",
      "\n",
      "\n"
     ]
    },
    {
     "name": "stderr",
     "output_type": "stream",
     "text": [
      "100%|██████████| 250/250 [00:50<00:00,  4.98it/s]\n",
      "100%|██████████| 250/250 [00:27<00:00,  9.01it/s]\n"
     ]
    },
    {
     "name": "stdout",
     "output_type": "stream",
     "text": [
      "epoch #12 \n",
      "\n",
      "TRAINING LOSS:\n",
      "total Loss = 0.009216857293620706\n",
      "heatmap Loss = 0.00828657615929842\n",
      "tag Loss = 0.0009302811184898019\n",
      "\n",
      "VALIDATION LOSS:\n",
      "total Loss = 0.009150553358718753\n",
      "heatmap Loss = 0.008221876181662082\n",
      "tag Loss = 0.0009286771868355573\n",
      "\n",
      "\n",
      "\n"
     ]
    },
    {
     "name": "stderr",
     "output_type": "stream",
     "text": [
      "100%|██████████| 250/250 [00:50<00:00,  4.97it/s]\n",
      "100%|██████████| 250/250 [00:27<00:00,  9.10it/s]\n"
     ]
    },
    {
     "name": "stdout",
     "output_type": "stream",
     "text": [
      "epoch #13 \n",
      "\n",
      "TRAINING LOSS:\n",
      "total Loss = 0.009206786282360553\n",
      "heatmap Loss = 0.00827645835839212\n",
      "tag Loss = 0.0009303279337473213\n",
      "\n",
      "VALIDATION LOSS:\n",
      "total Loss = 0.00921782449260354\n",
      "heatmap Loss = 0.008288784103468061\n",
      "tag Loss = 0.0009290403751656413\n",
      "\n",
      "\n",
      "\n"
     ]
    },
    {
     "name": "stderr",
     "output_type": "stream",
     "text": [
      "100%|██████████| 250/250 [00:50<00:00,  4.92it/s]\n",
      "100%|██████████| 250/250 [00:28<00:00,  8.73it/s]\n"
     ]
    },
    {
     "name": "stdout",
     "output_type": "stream",
     "text": [
      "epoch #14 \n",
      "\n",
      "TRAINING LOSS:\n",
      "total Loss = 0.00923219416104257\n",
      "heatmap Loss = 0.00830215004272759\n",
      "tag Loss = 0.0009300441124942153\n",
      "\n",
      "VALIDATION LOSS:\n",
      "total Loss = 0.009080660415813327\n",
      "heatmap Loss = 0.008150117892771959\n",
      "tag Loss = 0.0009305425393395126\n",
      "\n",
      "\n",
      "\n"
     ]
    },
    {
     "name": "stderr",
     "output_type": "stream",
     "text": [
      "100%|██████████| 250/250 [00:50<00:00,  4.95it/s]\n",
      "100%|██████████| 250/250 [00:28<00:00,  8.80it/s]\n"
     ]
    },
    {
     "name": "stdout",
     "output_type": "stream",
     "text": [
      "epoch #15 \n",
      "\n",
      "TRAINING LOSS:\n",
      "total Loss = 0.009110934581607581\n",
      "heatmap Loss = 0.008181770365685225\n",
      "tag Loss = 0.0009291642094030976\n",
      "\n",
      "VALIDATION LOSS:\n",
      "total Loss = 0.009106131348758937\n",
      "heatmap Loss = 0.008175150537863374\n",
      "tag Loss = 0.0009309807978570461\n",
      "\n",
      "\n",
      "\n"
     ]
    },
    {
     "name": "stderr",
     "output_type": "stream",
     "text": [
      "100%|██████████| 250/250 [00:49<00:00,  5.03it/s]\n",
      "100%|██████████| 250/250 [00:27<00:00,  9.18it/s]\n"
     ]
    },
    {
     "name": "stdout",
     "output_type": "stream",
     "text": [
      "epoch #16 \n",
      "\n",
      "TRAINING LOSS:\n",
      "total Loss = 0.00902269321680069\n",
      "heatmap Loss = 0.008093572167679667\n",
      "tag Loss = 0.0009291210160590708\n",
      "\n",
      "VALIDATION LOSS:\n",
      "total Loss = 0.009134396713227034\n",
      "heatmap Loss = 0.008205089623108506\n",
      "tag Loss = 0.0009293071003630757\n",
      "\n",
      "\n",
      "\n"
     ]
    },
    {
     "name": "stderr",
     "output_type": "stream",
     "text": [
      "100%|██████████| 250/250 [00:49<00:00,  5.02it/s]\n",
      "100%|██████████| 250/250 [00:27<00:00,  9.12it/s]\n"
     ]
    },
    {
     "name": "stdout",
     "output_type": "stream",
     "text": [
      "epoch #17 \n",
      "\n",
      "TRAINING LOSS:\n",
      "total Loss = 0.009093534091487526\n",
      "heatmap Loss = 0.008164041908457875\n",
      "tag Loss = 0.0009294921760447324\n",
      "\n",
      "VALIDATION LOSS:\n",
      "total Loss = 0.008976361531764268\n",
      "heatmap Loss = 0.008047447845339775\n",
      "tag Loss = 0.0009289136943407357\n",
      "\n",
      "\n",
      "\n"
     ]
    },
    {
     "name": "stderr",
     "output_type": "stream",
     "text": [
      "100%|██████████| 250/250 [00:51<00:00,  4.89it/s]\n",
      "100%|██████████| 250/250 [00:27<00:00,  8.98it/s]\n"
     ]
    },
    {
     "name": "stdout",
     "output_type": "stream",
     "text": [
      "epoch #18 \n",
      "\n",
      "TRAINING LOSS:\n",
      "total Loss = 0.009057246632874012\n",
      "heatmap Loss = 0.008127191053703428\n",
      "tag Loss = 0.0009300555712543428\n",
      "\n",
      "VALIDATION LOSS:\n",
      "total Loss = 0.009133025238290429\n",
      "heatmap Loss = 0.00820183179154992\n",
      "tag Loss = 0.0009311934486031532\n",
      "\n",
      "\n",
      "\n"
     ]
    },
    {
     "name": "stderr",
     "output_type": "stream",
     "text": [
      "100%|██████████| 250/250 [00:49<00:00,  5.04it/s]\n",
      "100%|██████████| 250/250 [00:28<00:00,  8.86it/s]\n"
     ]
    },
    {
     "name": "stdout",
     "output_type": "stream",
     "text": [
      "epoch #19 \n",
      "\n",
      "TRAINING LOSS:\n",
      "total Loss = 0.00908568012714386\n",
      "heatmap Loss = 0.00815558898076415\n",
      "tag Loss = 0.0009300911494065076\n",
      "\n",
      "VALIDATION LOSS:\n",
      "total Loss = 0.00897861137241125\n",
      "heatmap Loss = 0.008049825696274639\n",
      "tag Loss = 0.0009287856700830162\n",
      "\n",
      "\n",
      "\n"
     ]
    },
    {
     "name": "stderr",
     "output_type": "stream",
     "text": [
      "100%|██████████| 250/250 [00:50<00:00,  4.91it/s]\n",
      "100%|██████████| 250/250 [00:28<00:00,  8.84it/s]\n"
     ]
    },
    {
     "name": "stdout",
     "output_type": "stream",
     "text": [
      "epoch #20 \n",
      "\n",
      "TRAINING LOSS:\n",
      "total Loss = 0.008981552237644791\n",
      "heatmap Loss = 0.008051780281588435\n",
      "tag Loss = 0.0009297719458118081\n",
      "\n",
      "VALIDATION LOSS:\n",
      "total Loss = 0.00892657638899982\n",
      "heatmap Loss = 0.00799480565264821\n",
      "tag Loss = 0.0009317707344889641\n",
      "\n",
      "\n",
      "\n"
     ]
    },
    {
     "name": "stderr",
     "output_type": "stream",
     "text": [
      "100%|██████████| 250/250 [00:50<00:00,  4.99it/s]\n",
      "100%|██████████| 250/250 [00:27<00:00,  9.10it/s]\n"
     ]
    },
    {
     "name": "stdout",
     "output_type": "stream",
     "text": [
      "epoch #21 \n",
      "\n",
      "TRAINING LOSS:\n",
      "total Loss = 0.008993092944845557\n",
      "heatmap Loss = 0.008063461750745774\n",
      "tag Loss = 0.0009296311985235662\n",
      "\n",
      "VALIDATION LOSS:\n",
      "total Loss = 0.008895642064511777\n",
      "heatmap Loss = 0.007967566074803471\n",
      "tag Loss = 0.0009280759547837078\n",
      "\n",
      "\n",
      "\n"
     ]
    },
    {
     "name": "stderr",
     "output_type": "stream",
     "text": [
      "100%|██████████| 250/250 [00:51<00:00,  4.86it/s]\n",
      "100%|██████████| 250/250 [00:28<00:00,  8.91it/s]\n"
     ]
    },
    {
     "name": "stdout",
     "output_type": "stream",
     "text": [
      "epoch #22 \n",
      "\n",
      "TRAINING LOSS:\n",
      "total Loss = 0.008983327580615878\n",
      "heatmap Loss = 0.008055014349520207\n",
      "tag Loss = 0.0009283132217824459\n",
      "\n",
      "VALIDATION LOSS:\n",
      "total Loss = 0.008905088990926742\n",
      "heatmap Loss = 0.007976527091115713\n",
      "tag Loss = 0.0009285619161091745\n",
      "\n",
      "\n",
      "\n"
     ]
    },
    {
     "name": "stderr",
     "output_type": "stream",
     "text": [
      "100%|██████████| 250/250 [00:49<00:00,  5.03it/s]\n",
      "100%|██████████| 250/250 [00:27<00:00,  9.13it/s]\n"
     ]
    },
    {
     "name": "stdout",
     "output_type": "stream",
     "text": [
      "epoch #23 \n",
      "\n",
      "TRAINING LOSS:\n",
      "total Loss = 0.008890653042122722\n",
      "heatmap Loss = 0.007961801117286086\n",
      "tag Loss = 0.0009288519346155226\n",
      "\n",
      "VALIDATION LOSS:\n",
      "total Loss = 0.00890772564895451\n",
      "heatmap Loss = 0.007979948185384273\n",
      "tag Loss = 0.0009277774607762694\n",
      "\n",
      "\n",
      "\n"
     ]
    },
    {
     "name": "stderr",
     "output_type": "stream",
     "text": [
      "100%|██████████| 250/250 [00:49<00:00,  5.07it/s]\n",
      "100%|██████████| 250/250 [00:27<00:00,  9.24it/s]\n"
     ]
    },
    {
     "name": "stdout",
     "output_type": "stream",
     "text": [
      "epoch #24 \n",
      "\n",
      "TRAINING LOSS:\n",
      "total Loss = 0.008862871155142784\n",
      "heatmap Loss = 0.007933282850310206\n",
      "tag Loss = 0.0009295882899314165\n",
      "\n",
      "VALIDATION LOSS:\n",
      "total Loss = 0.010893833393231035\n",
      "heatmap Loss = 0.009965664813295007\n",
      "tag Loss = 0.0009281685785390437\n",
      "\n",
      "\n",
      "\n"
     ]
    },
    {
     "name": "stderr",
     "output_type": "stream",
     "text": [
      "100%|██████████| 250/250 [00:49<00:00,  5.06it/s]\n",
      "100%|██████████| 250/250 [00:26<00:00,  9.26it/s]\n"
     ]
    },
    {
     "name": "stdout",
     "output_type": "stream",
     "text": [
      "epoch #25 \n",
      "\n",
      "TRAINING LOSS:\n",
      "total Loss = 0.008906367536634206\n",
      "heatmap Loss = 0.007979831010103225\n",
      "tag Loss = 0.0009265365167520941\n",
      "\n",
      "VALIDATION LOSS:\n",
      "total Loss = 0.008806774094700813\n",
      "heatmap Loss = 0.007877130029723048\n",
      "tag Loss = 0.0009296440617181361\n",
      "\n",
      "\n",
      "\n"
     ]
    },
    {
     "name": "stderr",
     "output_type": "stream",
     "text": [
      "100%|██████████| 250/250 [00:49<00:00,  5.05it/s]\n",
      "100%|██████████| 250/250 [00:27<00:00,  9.21it/s]\n"
     ]
    },
    {
     "name": "stdout",
     "output_type": "stream",
     "text": [
      "epoch #26 \n",
      "\n",
      "TRAINING LOSS:\n",
      "total Loss = 0.00882089432887733\n",
      "heatmap Loss = 0.00789553926885128\n",
      "tag Loss = 0.0009253550502471625\n",
      "\n",
      "VALIDATION LOSS:\n",
      "total Loss = 0.00870699206739664\n",
      "heatmap Loss = 0.007778738554567098\n",
      "tag Loss = 0.0009282535293605179\n",
      "\n",
      "\n",
      "\n"
     ]
    },
    {
     "name": "stderr",
     "output_type": "stream",
     "text": [
      "100%|██████████| 250/250 [00:48<00:00,  5.15it/s]\n",
      "100%|██████████| 250/250 [00:26<00:00,  9.42it/s]\n"
     ]
    },
    {
     "name": "stdout",
     "output_type": "stream",
     "text": [
      "epoch #27 \n",
      "\n",
      "TRAINING LOSS:\n",
      "total Loss = 0.008837125934660435\n",
      "heatmap Loss = 0.007909022480249404\n",
      "tag Loss = 0.0009281034434679895\n",
      "\n",
      "VALIDATION LOSS:\n",
      "total Loss = 0.008694730641320347\n",
      "heatmap Loss = 0.007764973223209381\n",
      "tag Loss = 0.0009297574190422893\n",
      "\n",
      "\n",
      "\n"
     ]
    },
    {
     "name": "stderr",
     "output_type": "stream",
     "text": [
      "100%|██████████| 250/250 [00:48<00:00,  5.10it/s]\n",
      "100%|██████████| 250/250 [00:26<00:00,  9.58it/s]\n"
     ]
    },
    {
     "name": "stdout",
     "output_type": "stream",
     "text": [
      "epoch #28 \n",
      "\n",
      "TRAINING LOSS:\n",
      "total Loss = 0.008810685824602843\n",
      "heatmap Loss = 0.007882360477000475\n",
      "tag Loss = 0.0009283253231551498\n",
      "\n",
      "VALIDATION LOSS:\n",
      "total Loss = 0.008719842508435249\n",
      "heatmap Loss = 0.007791083907708525\n",
      "tag Loss = 0.0009287586160935462\n",
      "\n",
      "\n",
      "\n"
     ]
    },
    {
     "name": "stderr",
     "output_type": "stream",
     "text": [
      "100%|██████████| 250/250 [00:48<00:00,  5.15it/s]\n",
      "100%|██████████| 250/250 [00:26<00:00,  9.55it/s]\n"
     ]
    },
    {
     "name": "stdout",
     "output_type": "stream",
     "text": [
      "epoch #29 \n",
      "\n",
      "TRAINING LOSS:\n",
      "total Loss = 0.008727066619321704\n",
      "heatmap Loss = 0.007798341635614633\n",
      "tag Loss = 0.0009287249955814332\n",
      "\n",
      "VALIDATION LOSS:\n",
      "total Loss = 0.008642862409353256\n",
      "heatmap Loss = 0.007710412617772818\n",
      "tag Loss = 0.000932449801824987\n",
      "\n",
      "\n",
      "\n"
     ]
    },
    {
     "name": "stderr",
     "output_type": "stream",
     "text": [
      "100%|██████████| 250/250 [00:48<00:00,  5.13it/s]\n",
      "100%|██████████| 250/250 [00:26<00:00,  9.53it/s]\n"
     ]
    },
    {
     "name": "stdout",
     "output_type": "stream",
     "text": [
      "epoch #30 \n",
      "\n",
      "TRAINING LOSS:\n",
      "total Loss = 0.008677441738545894\n",
      "heatmap Loss = 0.007746885137632489\n",
      "tag Loss = 0.000930556594626978\n",
      "\n",
      "VALIDATION LOSS:\n",
      "total Loss = 0.008543306773528457\n",
      "heatmap Loss = 0.007617306903004647\n",
      "tag Loss = 0.000925999884493649\n",
      "\n",
      "\n",
      "\n"
     ]
    },
    {
     "name": "stderr",
     "output_type": "stream",
     "text": [
      "100%|██████████| 250/250 [00:48<00:00,  5.19it/s]\n",
      "100%|██████████| 250/250 [00:26<00:00,  9.61it/s]\n"
     ]
    },
    {
     "name": "stdout",
     "output_type": "stream",
     "text": [
      "epoch #31 \n",
      "\n",
      "TRAINING LOSS:\n",
      "total Loss = 0.008633638732135296\n",
      "heatmap Loss = 0.007703880583867431\n",
      "tag Loss = 0.0009297581245191395\n",
      "\n",
      "VALIDATION LOSS:\n",
      "total Loss = 0.008502455852925778\n",
      "heatmap Loss = 0.007576683958992362\n",
      "tag Loss = 0.0009257718881126493\n",
      "\n",
      "\n",
      "\n"
     ]
    },
    {
     "name": "stderr",
     "output_type": "stream",
     "text": [
      "100%|██████████| 250/250 [00:49<00:00,  5.02it/s]\n",
      "100%|██████████| 250/250 [00:27<00:00,  9.06it/s]\n"
     ]
    },
    {
     "name": "stdout",
     "output_type": "stream",
     "text": [
      "epoch #32 \n",
      "\n",
      "TRAINING LOSS:\n",
      "total Loss = 0.008562986521050335\n",
      "heatmap Loss = 0.007636727441102266\n",
      "tag Loss = 0.0009262590752914548\n",
      "\n",
      "VALIDATION LOSS:\n",
      "total Loss = 0.008521312979981304\n",
      "heatmap Loss = 0.007593791602179408\n",
      "tag Loss = 0.000927521386416629\n",
      "\n",
      "\n",
      "\n"
     ]
    },
    {
     "name": "stderr",
     "output_type": "stream",
     "text": [
      "100%|██████████| 250/250 [00:50<00:00,  4.93it/s]\n",
      "100%|██████████| 250/250 [00:27<00:00,  9.05it/s]\n"
     ]
    },
    {
     "name": "stdout",
     "output_type": "stream",
     "text": [
      "epoch #33 \n",
      "\n",
      "TRAINING LOSS:\n",
      "total Loss = 0.008511798618361354\n",
      "heatmap Loss = 0.007583290789276362\n",
      "tag Loss = 0.0009285078539978713\n",
      "\n",
      "VALIDATION LOSS:\n",
      "total Loss = 0.008462551796808838\n",
      "heatmap Loss = 0.007534549344331026\n",
      "tag Loss = 0.0009280024794861674\n",
      "\n",
      "\n",
      "\n"
     ]
    },
    {
     "name": "stderr",
     "output_type": "stream",
     "text": [
      "100%|██████████| 250/250 [00:51<00:00,  4.84it/s]\n",
      "100%|██████████| 250/250 [00:28<00:00,  8.74it/s]\n"
     ]
    },
    {
     "name": "stdout",
     "output_type": "stream",
     "text": [
      "epoch #34 \n",
      "\n",
      "TRAINING LOSS:\n",
      "total Loss = 0.008483865983784198\n",
      "heatmap Loss = 0.007554194305092097\n",
      "tag Loss = 0.0009296716835815459\n",
      "\n",
      "VALIDATION LOSS:\n",
      "total Loss = 0.008446805004030467\n",
      "heatmap Loss = 0.007517978348769248\n",
      "tag Loss = 0.0009288266552612185\n",
      "\n",
      "\n",
      "\n"
     ]
    },
    {
     "name": "stderr",
     "output_type": "stream",
     "text": [
      "100%|██████████| 250/250 [00:50<00:00,  4.95it/s]\n",
      "100%|██████████| 250/250 [00:27<00:00,  9.12it/s]\n"
     ]
    },
    {
     "name": "stdout",
     "output_type": "stream",
     "text": [
      "epoch #35 \n",
      "\n",
      "TRAINING LOSS:\n",
      "total Loss = 0.008663443390280008\n",
      "heatmap Loss = 0.007732114799320698\n",
      "tag Loss = 0.0009313286123797298\n",
      "\n",
      "VALIDATION LOSS:\n",
      "total Loss = 0.008689231572672724\n",
      "heatmap Loss = 0.007763218875974417\n",
      "tag Loss = 0.0009260127088055014\n",
      "\n",
      "\n",
      "\n"
     ]
    },
    {
     "name": "stderr",
     "output_type": "stream",
     "text": [
      "100%|██████████| 250/250 [00:49<00:00,  5.03it/s]\n",
      "100%|██████████| 250/250 [00:26<00:00,  9.34it/s]\n"
     ]
    },
    {
     "name": "stdout",
     "output_type": "stream",
     "text": [
      "epoch #36 \n",
      "\n",
      "TRAINING LOSS:\n",
      "total Loss = 0.008552304254844784\n",
      "heatmap Loss = 0.007626035280525684\n",
      "tag Loss = 0.0009262689941097051\n",
      "\n",
      "VALIDATION LOSS:\n",
      "total Loss = 0.008391477689146996\n",
      "heatmap Loss = 0.007464518705382943\n",
      "tag Loss = 0.0009269589760806412\n",
      "\n",
      "\n",
      "\n"
     ]
    },
    {
     "name": "stderr",
     "output_type": "stream",
     "text": [
      "100%|██████████| 250/250 [00:48<00:00,  5.10it/s]\n",
      "100%|██████████| 250/250 [00:26<00:00,  9.41it/s]\n"
     ]
    },
    {
     "name": "stdout",
     "output_type": "stream",
     "text": [
      "epoch #37 \n",
      "\n",
      "TRAINING LOSS:\n",
      "total Loss = 0.008456954007968306\n",
      "heatmap Loss = 0.0075299401301890615\n",
      "tag Loss = 0.0009270138831343502\n",
      "\n",
      "VALIDATION LOSS:\n",
      "total Loss = 0.00834970679320395\n",
      "heatmap Loss = 0.007421207396313548\n",
      "tag Loss = 0.0009284993966575712\n",
      "\n",
      "\n",
      "\n"
     ]
    },
    {
     "name": "stderr",
     "output_type": "stream",
     "text": [
      "100%|██████████| 250/250 [00:49<00:00,  5.07it/s]\n",
      "100%|██████████| 250/250 [00:27<00:00,  9.10it/s]\n"
     ]
    },
    {
     "name": "stdout",
     "output_type": "stream",
     "text": [
      "epoch #38 \n",
      "\n",
      "TRAINING LOSS:\n",
      "total Loss = 0.008352762881666422\n",
      "heatmap Loss = 0.007426010224968195\n",
      "tag Loss = 0.0009267526597250253\n",
      "\n",
      "VALIDATION LOSS:\n",
      "total Loss = 0.008266713364049792\n",
      "heatmap Loss = 0.007335668223910034\n",
      "tag Loss = 0.0009310451501514762\n",
      "\n",
      "\n",
      "\n"
     ]
    },
    {
     "name": "stderr",
     "output_type": "stream",
     "text": [
      "100%|██████████| 250/250 [00:49<00:00,  5.07it/s]\n",
      "100%|██████████| 250/250 [00:27<00:00,  9.23it/s]\n"
     ]
    },
    {
     "name": "stdout",
     "output_type": "stream",
     "text": [
      "epoch #39 \n",
      "\n",
      "TRAINING LOSS:\n",
      "total Loss = 0.00835690800845623\n",
      "heatmap Loss = 0.007425152709707618\n",
      "tag Loss = 0.0009317552726715803\n",
      "\n",
      "VALIDATION LOSS:\n",
      "total Loss = 0.008218986120074987\n",
      "heatmap Loss = 0.0072899855896830556\n",
      "tag Loss = 0.0009290005380753428\n",
      "\n",
      "\n",
      "\n"
     ]
    },
    {
     "name": "stderr",
     "output_type": "stream",
     "text": [
      "100%|██████████| 250/250 [00:49<00:00,  5.04it/s]\n",
      "100%|██████████| 250/250 [00:27<00:00,  9.13it/s]\n"
     ]
    },
    {
     "name": "stdout",
     "output_type": "stream",
     "text": [
      "epoch #40 \n",
      "\n",
      "TRAINING LOSS:\n",
      "total Loss = 0.008301681889221072\n",
      "heatmap Loss = 0.007376030657440424\n",
      "tag Loss = 0.0009256512154825031\n",
      "\n",
      "VALIDATION LOSS:\n",
      "total Loss = 0.008153791150078178\n",
      "heatmap Loss = 0.00722558415401727\n",
      "tag Loss = 0.0009282069846522063\n",
      "\n",
      "\n",
      "\n"
     ]
    },
    {
     "name": "stderr",
     "output_type": "stream",
     "text": [
      "100%|██████████| 250/250 [00:50<00:00,  4.97it/s]\n",
      "100%|██████████| 250/250 [00:28<00:00,  8.92it/s]\n"
     ]
    },
    {
     "name": "stdout",
     "output_type": "stream",
     "text": [
      "epoch #41 \n",
      "\n",
      "TRAINING LOSS:\n",
      "total Loss = 0.008239746645092964\n",
      "heatmap Loss = 0.007314002972096205\n",
      "tag Loss = 0.0009257436823099851\n",
      "\n",
      "VALIDATION LOSS:\n",
      "total Loss = 0.008192965727299452\n",
      "heatmap Loss = 0.007265803406946361\n",
      "tag Loss = 0.0009271623243112117\n",
      "\n",
      "\n",
      "\n"
     ]
    },
    {
     "name": "stderr",
     "output_type": "stream",
     "text": [
      "100%|██████████| 250/250 [00:50<00:00,  4.97it/s]\n",
      "100%|██████████| 250/250 [00:27<00:00,  8.95it/s]\n"
     ]
    },
    {
     "name": "stdout",
     "output_type": "stream",
     "text": [
      "epoch #42 \n",
      "\n",
      "TRAINING LOSS:\n",
      "total Loss = 0.00828701995126903\n",
      "heatmap Loss = 0.007358184840530157\n",
      "tag Loss = 0.0009288350897841155\n",
      "\n",
      "VALIDATION LOSS:\n",
      "total Loss = 0.008247778847813607\n",
      "heatmap Loss = 0.007317057896405459\n",
      "tag Loss = 0.0009307209472171962\n",
      "\n",
      "\n",
      "\n"
     ]
    },
    {
     "name": "stderr",
     "output_type": "stream",
     "text": [
      "100%|██████████| 250/250 [00:50<00:00,  4.99it/s]\n",
      "100%|██████████| 250/250 [00:27<00:00,  8.96it/s]\n"
     ]
    },
    {
     "name": "stdout",
     "output_type": "stream",
     "text": [
      "epoch #43 \n",
      "\n",
      "TRAINING LOSS:\n",
      "total Loss = 0.0082490000333637\n",
      "heatmap Loss = 0.007319229418411851\n",
      "tag Loss = 0.0009297706151846796\n",
      "\n",
      "VALIDATION LOSS:\n",
      "total Loss = 0.00818787393718958\n",
      "heatmap Loss = 0.0072603402528911825\n",
      "tag Loss = 0.0009275336626451462\n",
      "\n",
      "\n",
      "\n"
     ]
    },
    {
     "name": "stderr",
     "output_type": "stream",
     "text": [
      "100%|██████████| 250/250 [00:50<00:00,  4.99it/s]\n",
      "100%|██████████| 250/250 [00:27<00:00,  8.97it/s]\n"
     ]
    },
    {
     "name": "stdout",
     "output_type": "stream",
     "text": [
      "epoch #44 \n",
      "\n",
      "TRAINING LOSS:\n",
      "total Loss = 0.008191947048529982\n",
      "heatmap Loss = 0.0072635753992944955\n",
      "tag Loss = 0.0009283716639038175\n",
      "\n",
      "VALIDATION LOSS:\n",
      "total Loss = 0.00811930363252759\n",
      "heatmap Loss = 0.007190119424834848\n",
      "tag Loss = 0.0009291842002421617\n",
      "\n",
      "\n",
      "\n"
     ]
    },
    {
     "name": "stderr",
     "output_type": "stream",
     "text": [
      "100%|██████████| 250/250 [00:50<00:00,  4.96it/s]\n",
      "100%|██████████| 250/250 [00:27<00:00,  8.94it/s]\n"
     ]
    },
    {
     "name": "stdout",
     "output_type": "stream",
     "text": [
      "epoch #45 \n",
      "\n",
      "TRAINING LOSS:\n",
      "total Loss = 0.008147608337923884\n",
      "heatmap Loss = 0.007216936063021422\n",
      "tag Loss = 0.000930672278162092\n",
      "\n",
      "VALIDATION LOSS:\n",
      "total Loss = 0.007945264704525471\n",
      "heatmap Loss = 0.00701474567502737\n",
      "tag Loss = 0.0009305190211161971\n",
      "\n",
      "\n",
      "\n"
     ]
    },
    {
     "name": "stderr",
     "output_type": "stream",
     "text": [
      "100%|██████████| 250/250 [00:50<00:00,  4.94it/s]\n",
      "100%|██████████| 250/250 [00:27<00:00,  9.00it/s]\n"
     ]
    },
    {
     "name": "stdout",
     "output_type": "stream",
     "text": [
      "epoch #46 \n",
      "\n",
      "TRAINING LOSS:\n",
      "total Loss = 0.008028030905872584\n",
      "heatmap Loss = 0.007100170509889722\n",
      "tag Loss = 0.0009278604129794985\n",
      "\n",
      "VALIDATION LOSS:\n",
      "total Loss = 0.007898809323087334\n",
      "heatmap Loss = 0.006969520756043493\n",
      "tag Loss = 0.0009292885558679699\n",
      "\n",
      "\n",
      "\n"
     ]
    },
    {
     "name": "stderr",
     "output_type": "stream",
     "text": [
      "100%|██████████| 250/250 [00:51<00:00,  4.87it/s]\n",
      "100%|██████████| 250/250 [00:27<00:00,  9.06it/s]\n"
     ]
    },
    {
     "name": "stdout",
     "output_type": "stream",
     "text": [
      "epoch #47 \n",
      "\n",
      "TRAINING LOSS:\n",
      "total Loss = 0.008057918706908822\n",
      "heatmap Loss = 0.007130774669349194\n",
      "tag Loss = 0.0009271440177690237\n",
      "\n",
      "VALIDATION LOSS:\n",
      "total Loss = 0.007856459148228169\n",
      "heatmap Loss = 0.006930512693710625\n",
      "tag Loss = 0.0009259464710485191\n",
      "\n",
      "\n",
      "\n"
     ]
    },
    {
     "name": "stderr",
     "output_type": "stream",
     "text": [
      "100%|██████████| 250/250 [00:49<00:00,  5.05it/s]\n",
      "100%|██████████| 250/250 [00:27<00:00,  9.05it/s]\n"
     ]
    },
    {
     "name": "stdout",
     "output_type": "stream",
     "text": [
      "epoch #48 \n",
      "\n",
      "TRAINING LOSS:\n",
      "total Loss = 0.00801218693703413\n",
      "heatmap Loss = 0.007082829311490059\n",
      "tag Loss = 0.0009293576064519584\n",
      "\n",
      "VALIDATION LOSS:\n",
      "total Loss = 0.007984677258878947\n",
      "heatmap Loss = 0.007055948648601771\n",
      "tag Loss = 0.000928728626575321\n",
      "\n",
      "\n",
      "\n"
     ]
    },
    {
     "name": "stderr",
     "output_type": "stream",
     "text": [
      "100%|██████████| 250/250 [00:50<00:00,  5.00it/s]\n",
      "100%|██████████| 250/250 [00:27<00:00,  9.04it/s]\n"
     ]
    },
    {
     "name": "stdout",
     "output_type": "stream",
     "text": [
      "epoch #49 \n",
      "\n",
      "TRAINING LOSS:\n",
      "total Loss = 0.007971823263913392\n",
      "heatmap Loss = 0.007045867970213294\n",
      "tag Loss = 0.0009259553069714457\n",
      "\n",
      "VALIDATION LOSS:\n",
      "total Loss = 0.007994873287156224\n",
      "heatmap Loss = 0.007062937302514911\n",
      "tag Loss = 0.0009319359825458377\n",
      "\n",
      "\n",
      "\n"
     ]
    },
    {
     "name": "stderr",
     "output_type": "stream",
     "text": [
      "100%|██████████| 250/250 [00:49<00:00,  5.04it/s]\n",
      "100%|██████████| 250/250 [00:27<00:00,  9.02it/s]\n"
     ]
    },
    {
     "name": "stdout",
     "output_type": "stream",
     "text": [
      "epoch #50 \n",
      "\n",
      "TRAINING LOSS:\n",
      "total Loss = 0.007865405969321728\n",
      "heatmap Loss = 0.006937715647742152\n",
      "tag Loss = 0.0009276903090067208\n",
      "\n",
      "VALIDATION LOSS:\n",
      "total Loss = 0.007849303402006626\n",
      "heatmap Loss = 0.0069252561293542386\n",
      "tag Loss = 0.0009240472486708313\n",
      "\n",
      "\n",
      "\n"
     ]
    },
    {
     "name": "stderr",
     "output_type": "stream",
     "text": [
      "100%|██████████| 250/250 [00:50<00:00,  4.91it/s]\n",
      "100%|██████████| 250/250 [00:28<00:00,  8.79it/s]\n"
     ]
    },
    {
     "name": "stdout",
     "output_type": "stream",
     "text": [
      "epoch #51 \n",
      "\n",
      "TRAINING LOSS:\n",
      "total Loss = 0.007864770015701652\n",
      "heatmap Loss = 0.006939262548461556\n",
      "tag Loss = 0.0009255074858665466\n",
      "\n",
      "VALIDATION LOSS:\n",
      "total Loss = 0.007749474212527275\n",
      "heatmap Loss = 0.006820936499163509\n",
      "tag Loss = 0.0009285377014894039\n",
      "\n",
      "\n",
      "\n"
     ]
    },
    {
     "name": "stderr",
     "output_type": "stream",
     "text": [
      "100%|██████████| 250/250 [00:54<00:00,  4.60it/s]\n",
      "100%|██████████| 250/250 [00:28<00:00,  8.70it/s]\n"
     ]
    },
    {
     "name": "stdout",
     "output_type": "stream",
     "text": [
      "epoch #52 \n",
      "\n",
      "TRAINING LOSS:\n",
      "total Loss = 0.007871682727709413\n",
      "heatmap Loss = 0.006944520972669125\n",
      "tag Loss = 0.0009271617466583848\n",
      "\n",
      "VALIDATION LOSS:\n",
      "total Loss = 0.0077404392175376415\n",
      "heatmap Loss = 0.006814468318596482\n",
      "tag Loss = 0.0009259708884637803\n",
      "\n",
      "\n",
      "\n"
     ]
    },
    {
     "name": "stderr",
     "output_type": "stream",
     "text": [
      "100%|██████████| 250/250 [00:50<00:00,  4.91it/s]\n",
      "100%|██████████| 250/250 [00:28<00:00,  8.74it/s]\n"
     ]
    },
    {
     "name": "stdout",
     "output_type": "stream",
     "text": [
      "epoch #53 \n",
      "\n",
      "TRAINING LOSS:\n",
      "total Loss = 0.007839064406231045\n",
      "heatmap Loss = 0.006911884836852551\n",
      "tag Loss = 0.000927179577993229\n",
      "\n",
      "VALIDATION LOSS:\n",
      "total Loss = 0.007733912955969572\n",
      "heatmap Loss = 0.006811081328429282\n",
      "tag Loss = 0.0009228316133376211\n",
      "\n",
      "\n",
      "\n"
     ]
    },
    {
     "name": "stderr",
     "output_type": "stream",
     "text": [
      "100%|██████████| 250/250 [00:51<00:00,  4.90it/s]\n",
      "100%|██████████| 250/250 [00:27<00:00,  9.00it/s]\n"
     ]
    },
    {
     "name": "stdout",
     "output_type": "stream",
     "text": [
      "epoch #54 \n",
      "\n",
      "TRAINING LOSS:\n",
      "total Loss = 0.007803450725972653\n",
      "heatmap Loss = 0.006879400134086609\n",
      "tag Loss = 0.0009240505925845355\n",
      "\n",
      "VALIDATION LOSS:\n",
      "total Loss = 0.007661171635612846\n",
      "heatmap Loss = 0.00673714601341635\n",
      "tag Loss = 0.0009240255877375603\n",
      "\n",
      "\n",
      "\n"
     ]
    },
    {
     "name": "stderr",
     "output_type": "stream",
     "text": [
      "100%|██████████| 250/250 [00:51<00:00,  4.83it/s]\n",
      "100%|██████████| 250/250 [00:28<00:00,  8.75it/s]\n"
     ]
    },
    {
     "name": "stdout",
     "output_type": "stream",
     "text": [
      "epoch #55 \n",
      "\n",
      "TRAINING LOSS:\n",
      "total Loss = 0.007759004367515445\n",
      "heatmap Loss = 0.006834839778020978\n",
      "tag Loss = 0.0009241646120790393\n",
      "\n",
      "VALIDATION LOSS:\n",
      "total Loss = 0.007758835876360536\n",
      "heatmap Loss = 0.006795530621893704\n",
      "tag Loss = 0.000963305247714743\n",
      "\n",
      "\n",
      "\n"
     ]
    },
    {
     "name": "stderr",
     "output_type": "stream",
     "text": [
      "100%|██████████| 250/250 [00:50<00:00,  4.93it/s]\n",
      "100%|██████████| 250/250 [00:29<00:00,  8.52it/s]\n"
     ]
    },
    {
     "name": "stdout",
     "output_type": "stream",
     "text": [
      "epoch #56 \n",
      "\n",
      "TRAINING LOSS:\n",
      "total Loss = 0.0077477674521505835\n",
      "heatmap Loss = 0.006823351809754968\n",
      "tag Loss = 0.0009244156365748495\n",
      "\n",
      "VALIDATION LOSS:\n",
      "total Loss = 0.007717030333355069\n",
      "heatmap Loss = 0.00677956970129162\n",
      "tag Loss = 0.0009374606164637953\n",
      "\n",
      "\n",
      "\n"
     ]
    },
    {
     "name": "stderr",
     "output_type": "stream",
     "text": [
      "100%|██████████| 250/250 [00:50<00:00,  4.93it/s]\n",
      "100%|██████████| 250/250 [00:28<00:00,  8.90it/s]\n"
     ]
    },
    {
     "name": "stdout",
     "output_type": "stream",
     "text": [
      "epoch #57 \n",
      "\n",
      "TRAINING LOSS:\n",
      "total Loss = 0.007720624662935734\n",
      "heatmap Loss = 0.006798154613003135\n",
      "tag Loss = 0.0009224700471386313\n",
      "\n",
      "VALIDATION LOSS:\n",
      "total Loss = 0.0075724948365241285\n",
      "heatmap Loss = 0.006645046968944371\n",
      "tag Loss = 0.0009274479004088789\n",
      "\n",
      "\n",
      "\n"
     ]
    },
    {
     "name": "stderr",
     "output_type": "stream",
     "text": [
      "100%|██████████| 250/250 [00:50<00:00,  4.95it/s]\n",
      "100%|██████████| 250/250 [00:28<00:00,  8.72it/s]\n"
     ]
    },
    {
     "name": "stdout",
     "output_type": "stream",
     "text": [
      "epoch #58 \n",
      "\n",
      "TRAINING LOSS:\n",
      "total Loss = 0.007684283677488565\n",
      "heatmap Loss = 0.006760535722598433\n",
      "tag Loss = 0.0009237479520961642\n",
      "\n",
      "VALIDATION LOSS:\n",
      "total Loss = 0.007575124008581042\n",
      "heatmap Loss = 0.006650881119072438\n",
      "tag Loss = 0.0009242428776342422\n",
      "\n",
      "\n",
      "\n"
     ]
    },
    {
     "name": "stderr",
     "output_type": "stream",
     "text": [
      "100%|██████████| 250/250 [00:50<00:00,  4.98it/s]\n",
      "100%|██████████| 250/250 [00:27<00:00,  9.04it/s]\n"
     ]
    },
    {
     "name": "stdout",
     "output_type": "stream",
     "text": [
      "epoch #59 \n",
      "\n",
      "TRAINING LOSS:\n",
      "total Loss = 0.007578116068616509\n",
      "heatmap Loss = 0.006657011526636779\n",
      "tag Loss = 0.0009211045063566417\n",
      "\n",
      "VALIDATION LOSS:\n",
      "total Loss = 0.0075639804359525446\n",
      "heatmap Loss = 0.006640389481559396\n",
      "tag Loss = 0.0009235909413546323\n",
      "\n",
      "\n",
      "\n"
     ]
    },
    {
     "name": "stderr",
     "output_type": "stream",
     "text": [
      "100%|██████████| 250/250 [00:49<00:00,  5.04it/s]\n",
      "100%|██████████| 250/250 [00:27<00:00,  9.10it/s]\n"
     ]
    },
    {
     "name": "stdout",
     "output_type": "stream",
     "text": [
      "epoch #60 \n",
      "\n",
      "TRAINING LOSS:\n",
      "total Loss = 0.007576323505491018\n",
      "heatmap Loss = 0.006650509130209684\n",
      "tag Loss = 0.0009258143620099873\n",
      "\n",
      "VALIDATION LOSS:\n",
      "total Loss = 0.007435646614059806\n",
      "heatmap Loss = 0.006518395751714707\n",
      "tag Loss = 0.0009172508495394141\n",
      "\n",
      "\n",
      "\n"
     ]
    },
    {
     "name": "stderr",
     "output_type": "stream",
     "text": [
      "100%|██████████| 250/250 [00:49<00:00,  5.01it/s]\n",
      "100%|██████████| 250/250 [00:27<00:00,  8.99it/s]\n"
     ]
    },
    {
     "name": "stdout",
     "output_type": "stream",
     "text": [
      "epoch #61 \n",
      "\n",
      "TRAINING LOSS:\n",
      "total Loss = 0.007497767588123679\n",
      "heatmap Loss = 0.0065765710221603515\n",
      "tag Loss = 0.0009211965827271342\n",
      "\n",
      "VALIDATION LOSS:\n",
      "total Loss = 0.007429127745330334\n",
      "heatmap Loss = 0.006507962337695062\n",
      "tag Loss = 0.0009211653820239007\n",
      "\n",
      "\n",
      "\n"
     ]
    },
    {
     "name": "stderr",
     "output_type": "stream",
     "text": [
      "100%|██████████| 250/250 [00:50<00:00,  4.96it/s]\n",
      "100%|██████████| 250/250 [00:27<00:00,  9.21it/s]\n"
     ]
    },
    {
     "name": "stdout",
     "output_type": "stream",
     "text": [
      "epoch #62 \n",
      "\n",
      "TRAINING LOSS:\n",
      "total Loss = 0.007545951429754495\n",
      "heatmap Loss = 0.006624548790976405\n",
      "tag Loss = 0.0009214026548434049\n",
      "\n",
      "VALIDATION LOSS:\n",
      "total Loss = 0.0075238616038113834\n",
      "heatmap Loss = 0.0065991201000288125\n",
      "tag Loss = 0.0009247415182180703\n",
      "\n",
      "\n",
      "\n"
     ]
    },
    {
     "name": "stderr",
     "output_type": "stream",
     "text": [
      "100%|██████████| 250/250 [00:49<00:00,  5.02it/s]\n",
      "100%|██████████| 250/250 [00:26<00:00,  9.35it/s]\n"
     ]
    },
    {
     "name": "stdout",
     "output_type": "stream",
     "text": [
      "epoch #63 \n",
      "\n",
      "TRAINING LOSS:\n",
      "total Loss = 0.007501401884481311\n",
      "heatmap Loss = 0.00657726801559329\n",
      "tag Loss = 0.0009241338626015932\n",
      "\n",
      "VALIDATION LOSS:\n",
      "total Loss = 0.0074562441539019345\n",
      "heatmap Loss = 0.006533581152558326\n",
      "tag Loss = 0.0009226630122866482\n",
      "\n",
      "\n",
      "\n"
     ]
    },
    {
     "name": "stderr",
     "output_type": "stream",
     "text": [
      "100%|██████████| 250/250 [00:50<00:00,  4.97it/s]\n",
      "100%|██████████| 250/250 [00:27<00:00,  9.05it/s]\n"
     ]
    },
    {
     "name": "stdout",
     "output_type": "stream",
     "text": [
      "epoch #64 \n",
      "\n",
      "TRAINING LOSS:\n",
      "total Loss = 0.007499972915276885\n",
      "heatmap Loss = 0.006579560090787709\n",
      "tag Loss = 0.0009204128202982246\n",
      "\n",
      "VALIDATION LOSS:\n",
      "total Loss = 0.007376676751300692\n",
      "heatmap Loss = 0.006452271811664105\n",
      "tag Loss = 0.0009244049419648945\n",
      "\n",
      "\n",
      "\n"
     ]
    },
    {
     "name": "stderr",
     "output_type": "stream",
     "text": [
      "100%|██████████| 250/250 [00:49<00:00,  5.03it/s]\n",
      "100%|██████████| 250/250 [00:28<00:00,  8.86it/s]\n"
     ]
    },
    {
     "name": "stdout",
     "output_type": "stream",
     "text": [
      "epoch #65 \n",
      "\n",
      "TRAINING LOSS:\n",
      "total Loss = 0.007438866058364511\n",
      "heatmap Loss = 0.006517039839178324\n",
      "tag Loss = 0.0009218262059148401\n",
      "\n",
      "VALIDATION LOSS:\n",
      "total Loss = 0.007373054679483175\n",
      "heatmap Loss = 0.00644984763674438\n",
      "tag Loss = 0.0009232070557773114\n",
      "\n",
      "\n",
      "\n"
     ]
    },
    {
     "name": "stderr",
     "output_type": "stream",
     "text": [
      "100%|██████████| 250/250 [00:50<00:00,  4.99it/s]\n",
      "100%|██████████| 250/250 [00:28<00:00,  8.85it/s]\n"
     ]
    },
    {
     "name": "stdout",
     "output_type": "stream",
     "text": [
      "epoch #66 \n",
      "\n",
      "TRAINING LOSS:\n",
      "total Loss = 0.007441541817039252\n",
      "heatmap Loss = 0.0065219256058335305\n",
      "tag Loss = 0.0009196162177249789\n",
      "\n",
      "VALIDATION LOSS:\n",
      "total Loss = 0.007316624393686653\n",
      "heatmap Loss = 0.006397900685667992\n",
      "tag Loss = 0.0009187237010337412\n",
      "\n",
      "\n",
      "\n"
     ]
    },
    {
     "name": "stderr",
     "output_type": "stream",
     "text": [
      "100%|██████████| 250/250 [00:50<00:00,  4.94it/s]\n",
      "100%|██████████| 250/250 [00:29<00:00,  8.49it/s]\n"
     ]
    },
    {
     "name": "stdout",
     "output_type": "stream",
     "text": [
      "epoch #67 \n",
      "\n",
      "TRAINING LOSS:\n",
      "total Loss = 0.007460956333205104\n",
      "heatmap Loss = 0.0065405525527894495\n",
      "tag Loss = 0.0009204037811141461\n",
      "\n",
      "VALIDATION LOSS:\n",
      "total Loss = 0.00734099205583334\n",
      "heatmap Loss = 0.0064242618735879655\n",
      "tag Loss = 0.0009167301687411964\n",
      "\n",
      "\n",
      "\n"
     ]
    },
    {
     "name": "stderr",
     "output_type": "stream",
     "text": [
      "100%|██████████| 250/250 [00:50<00:00,  4.95it/s]\n",
      "100%|██████████| 250/250 [00:28<00:00,  8.77it/s]\n"
     ]
    },
    {
     "name": "stdout",
     "output_type": "stream",
     "text": [
      "epoch #68 \n",
      "\n",
      "TRAINING LOSS:\n",
      "total Loss = 0.007349599409848451\n",
      "heatmap Loss = 0.006433395924046636\n",
      "tag Loss = 0.0009162034888286144\n",
      "\n",
      "VALIDATION LOSS:\n",
      "total Loss = 0.00728521391376853\n",
      "heatmap Loss = 0.006363831971772015\n",
      "tag Loss = 0.0009213819412980229\n",
      "\n",
      "\n",
      "\n"
     ]
    },
    {
     "name": "stderr",
     "output_type": "stream",
     "text": [
      "100%|██████████| 250/250 [00:50<00:00,  4.95it/s]\n",
      "100%|██████████| 250/250 [00:28<00:00,  8.90it/s]\n"
     ]
    },
    {
     "name": "stdout",
     "output_type": "stream",
     "text": [
      "epoch #69 \n",
      "\n",
      "TRAINING LOSS:\n",
      "total Loss = 0.007319963935762644\n",
      "heatmap Loss = 0.006402538914233446\n",
      "tag Loss = 0.0009174250289797782\n",
      "\n",
      "VALIDATION LOSS:\n",
      "total Loss = 0.007421860028058291\n",
      "heatmap Loss = 0.006500062274746597\n",
      "tag Loss = 0.000921797742601484\n",
      "\n",
      "\n",
      "\n"
     ]
    },
    {
     "name": "stderr",
     "output_type": "stream",
     "text": [
      "100%|██████████| 250/250 [00:50<00:00,  4.97it/s]\n",
      "100%|██████████| 250/250 [00:28<00:00,  8.74it/s]\n"
     ]
    },
    {
     "name": "stdout",
     "output_type": "stream",
     "text": [
      "epoch #70 \n",
      "\n",
      "TRAINING LOSS:\n",
      "total Loss = 0.0074245706629008056\n",
      "heatmap Loss = 0.0065054622627794744\n",
      "tag Loss = 0.0009191084171179682\n",
      "\n",
      "VALIDATION LOSS:\n",
      "total Loss = 0.007325426764786243\n",
      "heatmap Loss = 0.006404866186901927\n",
      "tag Loss = 0.000920560569036752\n",
      "\n",
      "\n",
      "\n"
     ]
    },
    {
     "name": "stderr",
     "output_type": "stream",
     "text": [
      "100%|██████████| 250/250 [00:51<00:00,  4.89it/s]\n",
      "100%|██████████| 250/250 [00:28<00:00,  8.74it/s]\n"
     ]
    },
    {
     "name": "stdout",
     "output_type": "stream",
     "text": [
      "epoch #71 \n",
      "\n",
      "TRAINING LOSS:\n",
      "total Loss = 0.007288360636681319\n",
      "heatmap Loss = 0.006370920374058187\n",
      "tag Loss = 0.0009174402724020183\n",
      "\n",
      "VALIDATION LOSS:\n",
      "total Loss = 0.0072490930017083885\n",
      "heatmap Loss = 0.0063372264271602035\n",
      "tag Loss = 0.0009118665854912252\n",
      "\n",
      "\n",
      "\n"
     ]
    },
    {
     "name": "stderr",
     "output_type": "stream",
     "text": [
      "100%|██████████| 250/250 [00:51<00:00,  4.89it/s]\n",
      "100%|██████████| 250/250 [00:28<00:00,  8.88it/s]\n"
     ]
    },
    {
     "name": "stdout",
     "output_type": "stream",
     "text": [
      "epoch #72 \n",
      "\n",
      "TRAINING LOSS:\n",
      "total Loss = 0.007401163894683122\n",
      "heatmap Loss = 0.006483989587984979\n",
      "tag Loss = 0.0009171742931939662\n",
      "\n",
      "VALIDATION LOSS:\n",
      "total Loss = 0.007349415678530932\n",
      "heatmap Loss = 0.006433594699949026\n",
      "tag Loss = 0.0009158209590241313\n",
      "\n",
      "\n",
      "\n"
     ]
    },
    {
     "name": "stderr",
     "output_type": "stream",
     "text": [
      "100%|██████████| 250/250 [00:50<00:00,  4.96it/s]\n",
      "100%|██████████| 250/250 [00:28<00:00,  8.73it/s]\n"
     ]
    },
    {
     "name": "stdout",
     "output_type": "stream",
     "text": [
      "epoch #73 \n",
      "\n",
      "TRAINING LOSS:\n",
      "total Loss = 0.0073169192839413885\n",
      "heatmap Loss = 0.006406114041805268\n",
      "tag Loss = 0.0009108052453957498\n",
      "\n",
      "VALIDATION LOSS:\n",
      "total Loss = 0.007186421474441886\n",
      "heatmap Loss = 0.006271063226275146\n",
      "tag Loss = 0.0009153582509607076\n",
      "\n",
      "\n",
      "\n"
     ]
    },
    {
     "name": "stderr",
     "output_type": "stream",
     "text": [
      "100%|██████████| 250/250 [00:51<00:00,  4.89it/s]\n",
      "100%|██████████| 250/250 [00:28<00:00,  8.73it/s]\n"
     ]
    },
    {
     "name": "stdout",
     "output_type": "stream",
     "text": [
      "epoch #74 \n",
      "\n",
      "TRAINING LOSS:\n",
      "total Loss = 0.007244835268706083\n",
      "heatmap Loss = 0.006333648849278688\n",
      "tag Loss = 0.0009111864264123141\n",
      "\n",
      "VALIDATION LOSS:\n",
      "total Loss = 0.007208852393552661\n",
      "heatmap Loss = 0.006296263901516795\n",
      "tag Loss = 0.0009125884925015271\n",
      "\n",
      "\n",
      "\n"
     ]
    },
    {
     "name": "stderr",
     "output_type": "stream",
     "text": [
      "100%|██████████| 250/250 [00:50<00:00,  4.94it/s]\n",
      "100%|██████████| 250/250 [00:29<00:00,  8.41it/s]\n"
     ]
    },
    {
     "name": "stdout",
     "output_type": "stream",
     "text": [
      "epoch #75 \n",
      "\n",
      "TRAINING LOSS:\n",
      "total Loss = 0.0072141555193811656\n",
      "heatmap Loss = 0.006300106164067984\n",
      "tag Loss = 0.0009140493557788431\n",
      "\n",
      "VALIDATION LOSS:\n",
      "total Loss = 0.007088644377887249\n",
      "heatmap Loss = 0.006177878195419907\n",
      "tag Loss = 0.0009107661917805671\n",
      "\n",
      "\n",
      "\n"
     ]
    },
    {
     "name": "stderr",
     "output_type": "stream",
     "text": [
      "100%|██████████| 250/250 [00:53<00:00,  4.63it/s]\n",
      "100%|██████████| 250/250 [00:29<00:00,  8.36it/s]\n"
     ]
    },
    {
     "name": "stdout",
     "output_type": "stream",
     "text": [
      "epoch #76 \n",
      "\n",
      "TRAINING LOSS:\n",
      "total Loss = 0.007151802610605955\n",
      "heatmap Loss = 0.006243508910760283\n",
      "tag Loss = 0.0009082937168423086\n",
      "\n",
      "VALIDATION LOSS:\n",
      "total Loss = 0.007161174222826958\n",
      "heatmap Loss = 0.006251815291121602\n",
      "tag Loss = 0.0009093589256517589\n",
      "\n",
      "\n",
      "\n"
     ]
    },
    {
     "name": "stderr",
     "output_type": "stream",
     "text": [
      "100%|██████████| 250/250 [00:50<00:00,  4.96it/s]\n",
      "100%|██████████| 250/250 [00:27<00:00,  8.94it/s]\n"
     ]
    },
    {
     "name": "stdout",
     "output_type": "stream",
     "text": [
      "epoch #77 \n",
      "\n",
      "TRAINING LOSS:\n",
      "total Loss = 0.007220092376694083\n",
      "heatmap Loss = 0.006312502990476787\n",
      "tag Loss = 0.0009075893857516348\n",
      "\n",
      "VALIDATION LOSS:\n",
      "total Loss = 0.00730642369762063\n",
      "heatmap Loss = 0.0063998505724594\n",
      "tag Loss = 0.0009065731551963836\n",
      "\n",
      "\n",
      "\n"
     ]
    },
    {
     "name": "stderr",
     "output_type": "stream",
     "text": [
      "100%|██████████| 250/250 [00:50<00:00,  4.98it/s]\n",
      "100%|██████████| 250/250 [00:27<00:00,  9.08it/s]\n"
     ]
    },
    {
     "name": "stdout",
     "output_type": "stream",
     "text": [
      "epoch #78 \n",
      "\n",
      "TRAINING LOSS:\n",
      "total Loss = 0.007126223981380462\n",
      "heatmap Loss = 0.006219995350576937\n",
      "tag Loss = 0.0009062286261469126\n",
      "\n",
      "VALIDATION LOSS:\n",
      "total Loss = 0.007136360183358193\n",
      "heatmap Loss = 0.006229439415968954\n",
      "tag Loss = 0.0009069207811262459\n",
      "\n",
      "\n",
      "\n"
     ]
    },
    {
     "name": "stderr",
     "output_type": "stream",
     "text": [
      "100%|██████████| 250/250 [00:50<00:00,  4.98it/s]\n",
      "100%|██████████| 250/250 [00:27<00:00,  9.10it/s]\n"
     ]
    },
    {
     "name": "stdout",
     "output_type": "stream",
     "text": [
      "epoch #79 \n",
      "\n",
      "TRAINING LOSS:\n",
      "total Loss = 0.007177126973867416\n",
      "heatmap Loss = 0.006270226268097759\n",
      "tag Loss = 0.0009069006978534162\n",
      "\n",
      "VALIDATION LOSS:\n",
      "total Loss = 0.007266801543533802\n",
      "heatmap Loss = 0.0063597116898745296\n",
      "tag Loss = 0.0009070898636709899\n",
      "\n",
      "\n",
      "\n"
     ]
    },
    {
     "name": "stderr",
     "output_type": "stream",
     "text": [
      "100%|██████████| 250/250 [00:50<00:00,  5.00it/s]\n",
      "100%|██████████| 250/250 [00:27<00:00,  9.01it/s]\n"
     ]
    },
    {
     "name": "stdout",
     "output_type": "stream",
     "text": [
      "epoch #80 \n",
      "\n",
      "TRAINING LOSS:\n",
      "total Loss = 0.007170830193907023\n",
      "heatmap Loss = 0.006261484119109809\n",
      "tag Loss = 0.000909346065716818\n",
      "\n",
      "VALIDATION LOSS:\n",
      "total Loss = 0.00706764848344028\n",
      "heatmap Loss = 0.00616153612639755\n",
      "tag Loss = 0.000906112365424633\n",
      "\n",
      "\n",
      "\n"
     ]
    },
    {
     "name": "stderr",
     "output_type": "stream",
     "text": [
      "100%|██████████| 250/250 [00:49<00:00,  5.02it/s]\n",
      "100%|██████████| 250/250 [00:26<00:00,  9.33it/s]\n"
     ]
    },
    {
     "name": "stdout",
     "output_type": "stream",
     "text": [
      "epoch #81 \n",
      "\n",
      "TRAINING LOSS:\n",
      "total Loss = 0.007134972374886275\n",
      "heatmap Loss = 0.006231945631094277\n",
      "tag Loss = 0.0009030267475172878\n",
      "\n",
      "VALIDATION LOSS:\n",
      "total Loss = 0.007123214388266206\n",
      "heatmap Loss = 0.006218866346403957\n",
      "tag Loss = 0.0009043480267282575\n",
      "\n",
      "\n",
      "\n"
     ]
    },
    {
     "name": "stderr",
     "output_type": "stream",
     "text": [
      "100%|██████████| 250/250 [00:49<00:00,  5.10it/s]\n",
      "100%|██████████| 250/250 [00:29<00:00,  8.41it/s]\n"
     ]
    },
    {
     "name": "stdout",
     "output_type": "stream",
     "text": [
      "epoch #82 \n",
      "\n",
      "TRAINING LOSS:\n",
      "total Loss = 0.007070953114889562\n",
      "heatmap Loss = 0.006174829460680485\n",
      "tag Loss = 0.0008961236496688798\n",
      "\n",
      "VALIDATION LOSS:\n",
      "total Loss = 0.007071353774517774\n",
      "heatmap Loss = 0.006170388487167657\n",
      "tag Loss = 0.0009009652768727392\n",
      "\n",
      "\n",
      "\n"
     ]
    },
    {
     "name": "stderr",
     "output_type": "stream",
     "text": [
      "100%|██████████| 250/250 [00:50<00:00,  4.96it/s]\n",
      "100%|██████████| 250/250 [00:28<00:00,  8.73it/s]\n"
     ]
    },
    {
     "name": "stdout",
     "output_type": "stream",
     "text": [
      "epoch #83 \n",
      "\n",
      "TRAINING LOSS:\n",
      "total Loss = 0.0073104459326714276\n",
      "heatmap Loss = 0.0063998129926621915\n",
      "tag Loss = 0.0009106329274363816\n",
      "\n",
      "VALIDATION LOSS:\n",
      "total Loss = 0.007222828375175595\n",
      "heatmap Loss = 0.006315187055617571\n",
      "tag Loss = 0.0009076413111761213\n",
      "\n",
      "\n",
      "\n"
     ]
    },
    {
     "name": "stderr",
     "output_type": "stream",
     "text": [
      "100%|██████████| 250/250 [00:50<00:00,  4.93it/s]\n",
      "100%|██████████| 250/250 [00:29<00:00,  8.58it/s]\n"
     ]
    },
    {
     "name": "stdout",
     "output_type": "stream",
     "text": [
      "epoch #84 \n",
      "\n",
      "TRAINING LOSS:\n",
      "total Loss = 0.007195482487790287\n",
      "heatmap Loss = 0.006291535166092217\n",
      "tag Loss = 0.0009039473186712712\n",
      "\n",
      "VALIDATION LOSS:\n",
      "total Loss = 0.007028453072533011\n",
      "heatmap Loss = 0.0061286761546507475\n",
      "tag Loss = 0.0008997769069392234\n",
      "\n",
      "\n",
      "\n"
     ]
    },
    {
     "name": "stderr",
     "output_type": "stream",
     "text": [
      "100%|██████████| 250/250 [00:49<00:00,  5.05it/s]\n",
      "100%|██████████| 250/250 [00:27<00:00,  9.18it/s]\n"
     ]
    },
    {
     "name": "stdout",
     "output_type": "stream",
     "text": [
      "epoch #85 \n",
      "\n",
      "TRAINING LOSS:\n",
      "total Loss = 0.007085055410861969\n",
      "heatmap Loss = 0.006182941631413997\n",
      "tag Loss = 0.0009021137757226824\n",
      "\n",
      "VALIDATION LOSS:\n",
      "total Loss = 0.007049645459279418\n",
      "heatmap Loss = 0.006148635272867978\n",
      "tag Loss = 0.0009010101982858032\n",
      "\n",
      "\n",
      "\n"
     ]
    },
    {
     "name": "stderr",
     "output_type": "stream",
     "text": [
      "100%|██████████| 250/250 [00:49<00:00,  5.02it/s]\n",
      "100%|██████████| 250/250 [00:27<00:00,  9.16it/s]\n"
     ]
    },
    {
     "name": "stdout",
     "output_type": "stream",
     "text": [
      "epoch #86 \n",
      "\n",
      "TRAINING LOSS:\n",
      "total Loss = 0.007050877684727311\n",
      "heatmap Loss = 0.006149103758856654\n",
      "tag Loss = 0.0009017739109694957\n",
      "\n",
      "VALIDATION LOSS:\n",
      "total Loss = 0.007040743332356215\n",
      "heatmap Loss = 0.006142367951571941\n",
      "tag Loss = 0.0008983753870707006\n",
      "\n",
      "\n",
      "\n"
     ]
    },
    {
     "name": "stderr",
     "output_type": "stream",
     "text": [
      "100%|██████████| 250/250 [00:49<00:00,  5.07it/s]\n",
      "100%|██████████| 250/250 [00:26<00:00,  9.27it/s]\n"
     ]
    },
    {
     "name": "stdout",
     "output_type": "stream",
     "text": [
      "epoch #87 \n",
      "\n",
      "TRAINING LOSS:\n",
      "total Loss = 0.007044821931049228\n",
      "heatmap Loss = 0.006150976449251175\n",
      "tag Loss = 0.0008938454857561738\n",
      "\n",
      "VALIDATION LOSS:\n",
      "total Loss = 0.006950297044590116\n",
      "heatmap Loss = 0.0060578792467713355\n",
      "tag Loss = 0.0008924177831504494\n",
      "\n",
      "\n",
      "\n"
     ]
    },
    {
     "name": "stderr",
     "output_type": "stream",
     "text": [
      "100%|██████████| 250/250 [00:49<00:00,  5.03it/s]\n",
      "100%|██████████| 250/250 [00:27<00:00,  9.22it/s]\n"
     ]
    },
    {
     "name": "stdout",
     "output_type": "stream",
     "text": [
      "epoch #88 \n",
      "\n",
      "TRAINING LOSS:\n",
      "total Loss = 0.007016532542183995\n",
      "heatmap Loss = 0.006118665101006627\n",
      "tag Loss = 0.0008978674295358359\n",
      "\n",
      "VALIDATION LOSS:\n",
      "total Loss = 0.006985295766964555\n",
      "heatmap Loss = 0.006084952744655311\n",
      "tag Loss = 0.0009003430416341872\n",
      "\n",
      "\n",
      "\n"
     ]
    },
    {
     "name": "stderr",
     "output_type": "stream",
     "text": [
      "100%|██████████| 250/250 [00:49<00:00,  5.07it/s]\n",
      "100%|██████████| 250/250 [00:26<00:00,  9.38it/s]\n"
     ]
    },
    {
     "name": "stdout",
     "output_type": "stream",
     "text": [
      "epoch #89 \n",
      "\n",
      "TRAINING LOSS:\n",
      "total Loss = 0.006970381313934923\n",
      "heatmap Loss = 0.0060766773596405985\n",
      "tag Loss = 0.0008937039615120739\n",
      "\n",
      "VALIDATION LOSS:\n",
      "total Loss = 0.006980916809290648\n",
      "heatmap Loss = 0.006086457381024956\n",
      "tag Loss = 0.0008944594298955053\n",
      "\n",
      "\n",
      "\n"
     ]
    },
    {
     "name": "stderr",
     "output_type": "stream",
     "text": [
      "100%|██████████| 250/250 [00:49<00:00,  5.06it/s]\n",
      "100%|██████████| 250/250 [00:26<00:00,  9.52it/s]\n"
     ]
    },
    {
     "name": "stdout",
     "output_type": "stream",
     "text": [
      "epoch #90 \n",
      "\n",
      "TRAINING LOSS:\n",
      "total Loss = 0.0070667842105031015\n",
      "heatmap Loss = 0.006169937776401639\n",
      "tag Loss = 0.0008968464450445026\n",
      "\n",
      "VALIDATION LOSS:\n",
      "total Loss = 0.006981166880577803\n",
      "heatmap Loss = 0.0060854695942252875\n",
      "tag Loss = 0.000895697277970612\n",
      "\n",
      "\n",
      "\n"
     ]
    },
    {
     "name": "stderr",
     "output_type": "stream",
     "text": [
      "100%|██████████| 250/250 [00:49<00:00,  5.07it/s]\n",
      "100%|██████████| 250/250 [00:26<00:00,  9.42it/s]\n"
     ]
    },
    {
     "name": "stdout",
     "output_type": "stream",
     "text": [
      "epoch #91 \n",
      "\n",
      "TRAINING LOSS:\n",
      "total Loss = 0.0070112592782825235\n",
      "heatmap Loss = 0.006119600015692413\n",
      "tag Loss = 0.0008916592511814087\n",
      "\n",
      "VALIDATION LOSS:\n",
      "total Loss = 0.006911296717822551\n",
      "heatmap Loss = 0.00601405266020447\n",
      "tag Loss = 0.000897244062507525\n",
      "\n",
      "\n",
      "\n"
     ]
    },
    {
     "name": "stderr",
     "output_type": "stream",
     "text": [
      "100%|██████████| 250/250 [00:48<00:00,  5.14it/s]\n",
      "100%|██████████| 250/250 [00:26<00:00,  9.46it/s]\n"
     ]
    },
    {
     "name": "stdout",
     "output_type": "stream",
     "text": [
      "epoch #92 \n",
      "\n",
      "TRAINING LOSS:\n",
      "total Loss = 0.006985543815419078\n",
      "heatmap Loss = 0.006094851202331483\n",
      "tag Loss = 0.0008906926191411912\n",
      "\n",
      "VALIDATION LOSS:\n",
      "total Loss = 0.006926344402134419\n",
      "heatmap Loss = 0.006037484991364181\n",
      "tag Loss = 0.0008888594028539956\n",
      "\n",
      "\n",
      "\n"
     ]
    },
    {
     "name": "stderr",
     "output_type": "stream",
     "text": [
      "100%|██████████| 250/250 [00:48<00:00,  5.12it/s]\n",
      "100%|██████████| 250/250 [00:26<00:00,  9.28it/s]\n"
     ]
    },
    {
     "name": "stdout",
     "output_type": "stream",
     "text": [
      "epoch #93 \n",
      "\n",
      "TRAINING LOSS:\n",
      "total Loss = 0.00693005789630115\n",
      "heatmap Loss = 0.006041198805905879\n",
      "tag Loss = 0.0008888590871356428\n",
      "\n",
      "VALIDATION LOSS:\n",
      "total Loss = 0.006888950162567198\n",
      "heatmap Loss = 0.006001282615587115\n",
      "tag Loss = 0.0008876675437204539\n",
      "\n",
      "\n",
      "\n"
     ]
    },
    {
     "name": "stderr",
     "output_type": "stream",
     "text": [
      "100%|██████████| 250/250 [00:48<00:00,  5.12it/s]\n",
      "100%|██████████| 250/250 [00:26<00:00,  9.47it/s]\n"
     ]
    },
    {
     "name": "stdout",
     "output_type": "stream",
     "text": [
      "epoch #94 \n",
      "\n",
      "TRAINING LOSS:\n",
      "total Loss = 0.0069671185109764335\n",
      "heatmap Loss = 0.006078291499055922\n",
      "tag Loss = 0.0008888269707094878\n",
      "\n",
      "VALIDATION LOSS:\n",
      "total Loss = 0.00684979142062366\n",
      "heatmap Loss = 0.005965411213226616\n",
      "tag Loss = 0.0008843802015762776\n",
      "\n",
      "\n",
      "\n"
     ]
    },
    {
     "name": "stderr",
     "output_type": "stream",
     "text": [
      "100%|██████████| 250/250 [00:49<00:00,  5.10it/s]\n",
      "100%|██████████| 250/250 [00:26<00:00,  9.43it/s]\n"
     ]
    },
    {
     "name": "stdout",
     "output_type": "stream",
     "text": [
      "epoch #95 \n",
      "\n",
      "TRAINING LOSS:\n",
      "total Loss = 0.006967826483771205\n",
      "heatmap Loss = 0.006082097424194217\n",
      "tag Loss = 0.0008857290741289035\n",
      "\n",
      "VALIDATION LOSS:\n",
      "total Loss = 0.006880244953557849\n",
      "heatmap Loss = 0.006003382250666618\n",
      "tag Loss = 0.0008768627061508596\n",
      "\n",
      "\n",
      "\n"
     ]
    },
    {
     "name": "stderr",
     "output_type": "stream",
     "text": [
      "100%|██████████| 250/250 [00:49<00:00,  5.09it/s]\n",
      "100%|██████████| 250/250 [00:26<00:00,  9.61it/s]\n"
     ]
    },
    {
     "name": "stdout",
     "output_type": "stream",
     "text": [
      "epoch #96 \n",
      "\n",
      "TRAINING LOSS:\n",
      "total Loss = 0.0069682663083076475\n",
      "heatmap Loss = 0.006088200053200126\n",
      "tag Loss = 0.0008800662546418608\n",
      "\n",
      "VALIDATION LOSS:\n",
      "total Loss = 0.0068455547476187345\n",
      "heatmap Loss = 0.005978405217640102\n",
      "tag Loss = 0.0008671495101880282\n",
      "\n",
      "\n",
      "\n"
     ]
    },
    {
     "name": "stderr",
     "output_type": "stream",
     "text": [
      "100%|██████████| 250/250 [00:49<00:00,  5.08it/s]\n",
      "100%|██████████| 250/250 [00:26<00:00,  9.35it/s]\n"
     ]
    },
    {
     "name": "stdout",
     "output_type": "stream",
     "text": [
      "epoch #97 \n",
      "\n",
      "TRAINING LOSS:\n",
      "total Loss = 0.006877210900187492\n",
      "heatmap Loss = 0.006028741479851305\n",
      "tag Loss = 0.0008484694184735418\n",
      "\n",
      "VALIDATION LOSS:\n",
      "total Loss = 0.0067903771521523595\n",
      "heatmap Loss = 0.0059618071177974345\n",
      "tag Loss = 0.0008285700280684978\n",
      "\n",
      "\n",
      "\n"
     ]
    },
    {
     "name": "stderr",
     "output_type": "stream",
     "text": [
      "100%|██████████| 250/250 [00:49<00:00,  5.10it/s]\n",
      "100%|██████████| 250/250 [00:26<00:00,  9.48it/s]\n"
     ]
    },
    {
     "name": "stdout",
     "output_type": "stream",
     "text": [
      "epoch #98 \n",
      "\n",
      "TRAINING LOSS:\n",
      "total Loss = 0.006804382861591875\n",
      "heatmap Loss = 0.0060103291412815455\n",
      "tag Loss = 0.0007940537296235561\n",
      "\n",
      "VALIDATION LOSS:\n",
      "total Loss = 0.006783306917175651\n",
      "heatmap Loss = 0.0060321798445656894\n",
      "tag Loss = 0.0007511270639952272\n",
      "\n",
      "\n",
      "\n"
     ]
    },
    {
     "name": "stderr",
     "output_type": "stream",
     "text": [
      "100%|██████████| 250/250 [00:49<00:00,  5.08it/s]\n",
      "100%|██████████| 250/250 [00:26<00:00,  9.33it/s]\n"
     ]
    },
    {
     "name": "stdout",
     "output_type": "stream",
     "text": [
      "epoch #99 \n",
      "\n",
      "TRAINING LOSS:\n",
      "total Loss = 0.006750471526756883\n",
      "heatmap Loss = 0.006004523537121713\n",
      "tag Loss = 0.000745947973919101\n",
      "\n",
      "VALIDATION LOSS:\n",
      "total Loss = 0.006824428221210837\n",
      "heatmap Loss = 0.006074662460945546\n",
      "tag Loss = 0.0007497657348867506\n",
      "\n",
      "\n",
      "\n"
     ]
    },
    {
     "name": "stderr",
     "output_type": "stream",
     "text": [
      "100%|██████████| 250/250 [00:48<00:00,  5.13it/s]\n",
      "100%|██████████| 250/250 [00:26<00:00,  9.48it/s]\n"
     ]
    },
    {
     "name": "stdout",
     "output_type": "stream",
     "text": [
      "epoch #100 \n",
      "\n",
      "TRAINING LOSS:\n",
      "total Loss = 0.0067262017242610455\n",
      "heatmap Loss = 0.005999124497175217\n",
      "tag Loss = 0.0007270772069459781\n",
      "\n",
      "VALIDATION LOSS:\n",
      "total Loss = 0.006736463906243444\n",
      "heatmap Loss = 0.006027675993740558\n",
      "tag Loss = 0.0007087878870079293\n",
      "\n",
      "\n",
      "\n"
     ]
    },
    {
     "name": "stderr",
     "output_type": "stream",
     "text": [
      "100%|██████████| 250/250 [00:49<00:00,  5.09it/s]\n",
      "100%|██████████| 250/250 [00:27<00:00,  9.10it/s]\n"
     ]
    },
    {
     "name": "stdout",
     "output_type": "stream",
     "text": [
      "epoch #101 \n",
      "\n",
      "TRAINING LOSS:\n",
      "total Loss = 0.006634114576503635\n",
      "heatmap Loss = 0.005925517874769867\n",
      "tag Loss = 0.0007085967063903809\n",
      "\n",
      "VALIDATION LOSS:\n",
      "total Loss = 0.006718525308184326\n",
      "heatmap Loss = 0.00601296877861023\n",
      "tag Loss = 0.0007055565253831446\n",
      "\n",
      "\n",
      "\n"
     ]
    },
    {
     "name": "stderr",
     "output_type": "stream",
     "text": [
      "100%|██████████| 250/250 [00:50<00:00,  4.97it/s]\n",
      "100%|██████████| 250/250 [00:27<00:00,  9.00it/s]\n"
     ]
    },
    {
     "name": "stdout",
     "output_type": "stream",
     "text": [
      "epoch #102 \n",
      "\n",
      "TRAINING LOSS:\n",
      "total Loss = 0.0066396196521818635\n",
      "heatmap Loss = 0.005946535537950695\n",
      "tag Loss = 0.0006930841004941612\n",
      "\n",
      "VALIDATION LOSS:\n",
      "total Loss = 0.006767129078507423\n",
      "heatmap Loss = 0.006079916739836335\n",
      "tag Loss = 0.0006872123409993946\n",
      "\n",
      "\n",
      "\n"
     ]
    },
    {
     "name": "stderr",
     "output_type": "stream",
     "text": [
      "100%|██████████| 250/250 [00:50<00:00,  4.97it/s]\n",
      "100%|██████████| 250/250 [00:27<00:00,  9.07it/s]\n"
     ]
    },
    {
     "name": "stdout",
     "output_type": "stream",
     "text": [
      "epoch #103 \n",
      "\n",
      "TRAINING LOSS:\n",
      "total Loss = 0.006674890389665961\n",
      "heatmap Loss = 0.005992188178934157\n",
      "tag Loss = 0.0006827022118959576\n",
      "\n",
      "VALIDATION LOSS:\n",
      "total Loss = 0.00667109670676291\n",
      "heatmap Loss = 0.005989864639006555\n",
      "tag Loss = 0.0006812320611206815\n",
      "\n",
      "\n",
      "\n"
     ]
    },
    {
     "name": "stderr",
     "output_type": "stream",
     "text": [
      "100%|██████████| 250/250 [00:49<00:00,  5.03it/s]\n",
      "100%|██████████| 250/250 [00:28<00:00,  8.93it/s]\n"
     ]
    },
    {
     "name": "stdout",
     "output_type": "stream",
     "text": [
      "epoch #104 \n",
      "\n",
      "TRAINING LOSS:\n",
      "total Loss = 0.00665052947588265\n",
      "heatmap Loss = 0.00597790661919862\n",
      "tag Loss = 0.0006726228689076379\n",
      "\n",
      "VALIDATION LOSS:\n",
      "total Loss = 0.006525443838909268\n",
      "heatmap Loss = 0.005866444827057421\n",
      "tag Loss = 0.0006589990248903632\n",
      "\n",
      "\n",
      "\n"
     ]
    },
    {
     "name": "stderr",
     "output_type": "stream",
     "text": [
      "100%|██████████| 250/250 [00:50<00:00,  4.98it/s]\n",
      "100%|██████████| 250/250 [00:28<00:00,  8.91it/s]\n"
     ]
    },
    {
     "name": "stdout",
     "output_type": "stream",
     "text": [
      "epoch #105 \n",
      "\n",
      "TRAINING LOSS:\n",
      "total Loss = 0.006572423914447427\n",
      "heatmap Loss = 0.0059045530147850515\n",
      "tag Loss = 0.0006678708936087788\n",
      "\n",
      "VALIDATION LOSS:\n",
      "total Loss = 0.006636582542210817\n",
      "heatmap Loss = 0.005967973303049803\n",
      "tag Loss = 0.0006686092590680346\n",
      "\n",
      "\n",
      "\n"
     ]
    },
    {
     "name": "stderr",
     "output_type": "stream",
     "text": [
      "100%|██████████| 250/250 [00:50<00:00,  5.00it/s]\n",
      "100%|██████████| 250/250 [00:26<00:00,  9.26it/s]\n"
     ]
    },
    {
     "name": "stdout",
     "output_type": "stream",
     "text": [
      "epoch #106 \n",
      "\n",
      "TRAINING LOSS:\n",
      "total Loss = 0.00656673826277256\n",
      "heatmap Loss = 0.0059031725591048596\n",
      "tag Loss = 0.0006635656970320269\n",
      "\n",
      "VALIDATION LOSS:\n",
      "total Loss = 0.006500026270747185\n",
      "heatmap Loss = 0.005850963304750621\n",
      "tag Loss = 0.0006490629805484786\n",
      "\n",
      "\n",
      "\n"
     ]
    },
    {
     "name": "stderr",
     "output_type": "stream",
     "text": [
      "100%|██████████| 250/250 [00:49<00:00,  5.03it/s]\n",
      "100%|██████████| 250/250 [00:27<00:00,  9.13it/s]\n"
     ]
    },
    {
     "name": "stdout",
     "output_type": "stream",
     "text": [
      "epoch #107 \n",
      "\n",
      "TRAINING LOSS:\n",
      "total Loss = 0.006532718878239393\n",
      "heatmap Loss = 0.005881939510814845\n",
      "tag Loss = 0.0006507793649798259\n",
      "\n",
      "VALIDATION LOSS:\n",
      "total Loss = 0.006461685977876186\n",
      "heatmap Loss = 0.005820991864427924\n",
      "tag Loss = 0.0006406941262539476\n",
      "\n",
      "\n",
      "\n"
     ]
    },
    {
     "name": "stderr",
     "output_type": "stream",
     "text": [
      "100%|██████████| 250/250 [00:49<00:00,  5.08it/s]\n",
      "100%|██████████| 250/250 [00:27<00:00,  9.10it/s]\n"
     ]
    },
    {
     "name": "stdout",
     "output_type": "stream",
     "text": [
      "epoch #108 \n",
      "\n",
      "TRAINING LOSS:\n",
      "total Loss = 0.006568700395524501\n",
      "heatmap Loss = 0.005917842859402299\n",
      "tag Loss = 0.0006508575198240578\n",
      "\n",
      "VALIDATION LOSS:\n",
      "total Loss = 0.006561127838678658\n",
      "heatmap Loss = 0.0059123131968081\n",
      "tag Loss = 0.0006488146308111027\n",
      "\n",
      "\n",
      "\n"
     ]
    },
    {
     "name": "stderr",
     "output_type": "stream",
     "text": [
      "100%|██████████| 250/250 [00:49<00:00,  5.04it/s]\n",
      "100%|██████████| 250/250 [00:27<00:00,  9.21it/s]\n"
     ]
    },
    {
     "name": "stdout",
     "output_type": "stream",
     "text": [
      "epoch #109 \n",
      "\n",
      "TRAINING LOSS:\n",
      "total Loss = 0.006574376442469656\n",
      "heatmap Loss = 0.005927066971547902\n",
      "tag Loss = 0.0006473094804678113\n",
      "\n",
      "VALIDATION LOSS:\n",
      "total Loss = 0.006429054256528616\n",
      "heatmap Loss = 0.0057896145293489095\n",
      "tag Loss = 0.0006394397224066779\n",
      "\n",
      "\n",
      "\n"
     ]
    },
    {
     "name": "stderr",
     "output_type": "stream",
     "text": [
      "100%|██████████| 250/250 [00:49<00:00,  5.08it/s]\n",
      "100%|██████████| 250/250 [00:26<00:00,  9.34it/s]\n"
     ]
    },
    {
     "name": "stdout",
     "output_type": "stream",
     "text": [
      "epoch #110 \n",
      "\n",
      "TRAINING LOSS:\n",
      "total Loss = 0.006496319467201829\n",
      "heatmap Loss = 0.005854339800775051\n",
      "tag Loss = 0.0006419796691043302\n",
      "\n",
      "VALIDATION LOSS:\n",
      "total Loss = 0.006429113963618874\n",
      "heatmap Loss = 0.005802350169979036\n",
      "tag Loss = 0.0006267637957353145\n",
      "\n",
      "\n",
      "\n"
     ]
    },
    {
     "name": "stderr",
     "output_type": "stream",
     "text": [
      "100%|██████████| 250/250 [00:49<00:00,  5.04it/s]\n",
      "100%|██████████| 250/250 [00:27<00:00,  9.09it/s]\n"
     ]
    },
    {
     "name": "stdout",
     "output_type": "stream",
     "text": [
      "epoch #111 \n",
      "\n",
      "TRAINING LOSS:\n",
      "total Loss = 0.0064785363245755435\n",
      "heatmap Loss = 0.005843136806041003\n",
      "tag Loss = 0.000635399530059658\n",
      "\n",
      "VALIDATION LOSS:\n",
      "total Loss = 0.006446997648105026\n",
      "heatmap Loss = 0.005818381442688405\n",
      "tag Loss = 0.0006286162075120955\n",
      "\n",
      "\n",
      "\n"
     ]
    },
    {
     "name": "stderr",
     "output_type": "stream",
     "text": [
      "100%|██████████| 250/250 [00:49<00:00,  5.04it/s]\n",
      "100%|██████████| 250/250 [00:27<00:00,  9.25it/s]\n"
     ]
    },
    {
     "name": "stdout",
     "output_type": "stream",
     "text": [
      "epoch #112 \n",
      "\n",
      "TRAINING LOSS:\n",
      "total Loss = 0.006465296322479844\n",
      "heatmap Loss = 0.005827660137787461\n",
      "tag Loss = 0.0006376361555885524\n",
      "\n",
      "VALIDATION LOSS:\n",
      "total Loss = 0.0063939349111169575\n",
      "heatmap Loss = 0.005765157733112574\n",
      "tag Loss = 0.0006287771991919727\n",
      "\n",
      "\n",
      "\n"
     ]
    },
    {
     "name": "stderr",
     "output_type": "stream",
     "text": [
      "100%|██████████| 250/250 [00:49<00:00,  5.09it/s]\n",
      "100%|██████████| 250/250 [00:27<00:00,  9.07it/s]\n"
     ]
    },
    {
     "name": "stdout",
     "output_type": "stream",
     "text": [
      "epoch #113 \n",
      "\n",
      "TRAINING LOSS:\n",
      "total Loss = 0.006479845409281552\n",
      "heatmap Loss = 0.005854233679361641\n",
      "tag Loss = 0.0006256117405137047\n",
      "\n",
      "VALIDATION LOSS:\n",
      "total Loss = 0.006489691731519997\n",
      "heatmap Loss = 0.0058614442339167\n",
      "tag Loss = 0.0006282475056359544\n",
      "\n",
      "\n",
      "\n"
     ]
    },
    {
     "name": "stderr",
     "output_type": "stream",
     "text": [
      "100%|██████████| 250/250 [00:49<00:00,  5.04it/s]\n",
      "100%|██████████| 250/250 [00:27<00:00,  9.21it/s]\n"
     ]
    },
    {
     "name": "stdout",
     "output_type": "stream",
     "text": [
      "epoch #114 \n",
      "\n",
      "TRAINING LOSS:\n",
      "total Loss = 0.006439916897565127\n",
      "heatmap Loss = 0.005808392519131303\n",
      "tag Loss = 0.0006315243741264567\n",
      "\n",
      "VALIDATION LOSS:\n",
      "total Loss = 0.006419517961330712\n",
      "heatmap Loss = 0.005794894441962242\n",
      "tag Loss = 0.0006246235206490382\n",
      "\n",
      "\n",
      "\n"
     ]
    },
    {
     "name": "stderr",
     "output_type": "stream",
     "text": [
      "100%|██████████| 250/250 [00:49<00:00,  5.07it/s]\n",
      "100%|██████████| 250/250 [00:26<00:00,  9.33it/s]\n"
     ]
    },
    {
     "name": "stdout",
     "output_type": "stream",
     "text": [
      "epoch #115 \n",
      "\n",
      "TRAINING LOSS:\n",
      "total Loss = 0.006443093104287982\n",
      "heatmap Loss = 0.005814047473482788\n",
      "tag Loss = 0.0006290456162532792\n",
      "\n",
      "VALIDATION LOSS:\n",
      "total Loss = 0.0064579256502911445\n",
      "heatmap Loss = 0.0058374480521306395\n",
      "tag Loss = 0.0006204776089871302\n",
      "\n",
      "\n",
      "\n"
     ]
    },
    {
     "name": "stderr",
     "output_type": "stream",
     "text": [
      "100%|██████████| 250/250 [00:49<00:00,  5.08it/s]\n",
      "100%|██████████| 250/250 [00:26<00:00,  9.31it/s]\n"
     ]
    },
    {
     "name": "stdout",
     "output_type": "stream",
     "text": [
      "epoch #116 \n",
      "\n",
      "TRAINING LOSS:\n",
      "total Loss = 0.0064558773115277295\n",
      "heatmap Loss = 0.005830683491192758\n",
      "tag Loss = 0.0006251938161440194\n",
      "\n",
      "VALIDATION LOSS:\n",
      "total Loss = 0.0064306632615625855\n",
      "heatmap Loss = 0.00581097012385726\n",
      "tag Loss = 0.0006196931522572413\n",
      "\n",
      "\n",
      "\n"
     ]
    },
    {
     "name": "stderr",
     "output_type": "stream",
     "text": [
      "100%|██████████| 250/250 [00:48<00:00,  5.13it/s]\n",
      "100%|██████████| 250/250 [00:27<00:00,  9.13it/s]\n"
     ]
    },
    {
     "name": "stdout",
     "output_type": "stream",
     "text": [
      "epoch #117 \n",
      "\n",
      "TRAINING LOSS:\n",
      "total Loss = 0.006420388584956527\n",
      "heatmap Loss = 0.005796676032245159\n",
      "tag Loss = 0.0006237125679617747\n",
      "\n",
      "VALIDATION LOSS:\n",
      "total Loss = 0.006408104427158832\n",
      "heatmap Loss = 0.005791730552911758\n",
      "tag Loss = 0.0006163738745963201\n",
      "\n",
      "\n",
      "\n"
     ]
    },
    {
     "name": "stderr",
     "output_type": "stream",
     "text": [
      "100%|██████████| 250/250 [00:49<00:00,  5.05it/s]\n",
      "100%|██████████| 250/250 [00:27<00:00,  9.07it/s]\n"
     ]
    },
    {
     "name": "stdout",
     "output_type": "stream",
     "text": [
      "epoch #118 \n",
      "\n",
      "TRAINING LOSS:\n",
      "total Loss = 0.0064356137569993735\n",
      "heatmap Loss = 0.005815887711942196\n",
      "tag Loss = 0.0006197260190965607\n",
      "\n",
      "VALIDATION LOSS:\n",
      "total Loss = 0.0063254685308784244\n",
      "heatmap Loss = 0.005704944903030992\n",
      "tag Loss = 0.0006205236265668646\n",
      "\n",
      "\n",
      "\n"
     ]
    },
    {
     "name": "stderr",
     "output_type": "stream",
     "text": [
      "100%|██████████| 250/250 [00:49<00:00,  5.09it/s]\n",
      "100%|██████████| 250/250 [00:26<00:00,  9.31it/s]\n"
     ]
    },
    {
     "name": "stdout",
     "output_type": "stream",
     "text": [
      "epoch #119 \n",
      "\n",
      "TRAINING LOSS:\n",
      "total Loss = 0.006408364800736308\n",
      "heatmap Loss = 0.005792107001878321\n",
      "tag Loss = 0.0006162577961804346\n",
      "\n",
      "VALIDATION LOSS:\n",
      "total Loss = 0.0063323529176414015\n",
      "heatmap Loss = 0.005719263426028192\n",
      "tag Loss = 0.000613089483580552\n",
      "\n",
      "\n",
      "\n"
     ]
    },
    {
     "name": "stderr",
     "output_type": "stream",
     "text": [
      "100%|██████████| 250/250 [00:49<00:00,  5.09it/s]\n",
      "100%|██████████| 250/250 [00:27<00:00,  9.21it/s]\n"
     ]
    },
    {
     "name": "stdout",
     "output_type": "stream",
     "text": [
      "epoch #120 \n",
      "\n",
      "TRAINING LOSS:\n",
      "total Loss = 0.006370552314445377\n",
      "heatmap Loss = 0.005753198086284101\n",
      "tag Loss = 0.0006173542409669608\n",
      "\n",
      "VALIDATION LOSS:\n",
      "total Loss = 0.0063870334234088656\n",
      "heatmap Loss = 0.005779287243261933\n",
      "tag Loss = 0.000607746189692989\n",
      "\n",
      "\n",
      "\n"
     ]
    },
    {
     "name": "stderr",
     "output_type": "stream",
     "text": [
      "100%|██████████| 250/250 [00:49<00:00,  5.05it/s]\n",
      "100%|██████████| 250/250 [00:27<00:00,  9.21it/s]\n"
     ]
    },
    {
     "name": "stdout",
     "output_type": "stream",
     "text": [
      "epoch #121 \n",
      "\n",
      "TRAINING LOSS:\n",
      "total Loss = 0.006382588166743517\n",
      "heatmap Loss = 0.005766361817717552\n",
      "tag Loss = 0.0006162263378500938\n",
      "\n",
      "VALIDATION LOSS:\n",
      "total Loss = 0.00636642069928348\n",
      "heatmap Loss = 0.005750557688064873\n",
      "tag Loss = 0.0006158630109857768\n",
      "\n",
      "\n",
      "\n"
     ]
    },
    {
     "name": "stderr",
     "output_type": "stream",
     "text": [
      "100%|██████████| 250/250 [00:49<00:00,  5.10it/s]\n",
      "100%|██████████| 250/250 [00:26<00:00,  9.29it/s]\n"
     ]
    },
    {
     "name": "stdout",
     "output_type": "stream",
     "text": [
      "epoch #122 \n",
      "\n",
      "TRAINING LOSS:\n",
      "total Loss = 0.00637760279327631\n",
      "heatmap Loss = 0.005765011969022453\n",
      "tag Loss = 0.0006125908317044377\n",
      "\n",
      "VALIDATION LOSS:\n",
      "total Loss = 0.006318201895803213\n",
      "heatmap Loss = 0.0057123968238011\n",
      "tag Loss = 0.0006058050692081451\n",
      "\n",
      "\n",
      "\n"
     ]
    },
    {
     "name": "stderr",
     "output_type": "stream",
     "text": [
      "100%|██████████| 250/250 [00:49<00:00,  5.05it/s]\n",
      "100%|██████████| 250/250 [00:27<00:00,  8.95it/s]\n"
     ]
    },
    {
     "name": "stdout",
     "output_type": "stream",
     "text": [
      "epoch #123 \n",
      "\n",
      "TRAINING LOSS:\n",
      "total Loss = 0.006419652782380581\n",
      "heatmap Loss = 0.0058173722745850686\n",
      "tag Loss = 0.0006022804947569966\n",
      "\n",
      "VALIDATION LOSS:\n",
      "total Loss = 0.006356957312673331\n",
      "heatmap Loss = 0.0057526725437492135\n",
      "tag Loss = 0.0006042847650824114\n",
      "\n",
      "\n",
      "\n"
     ]
    },
    {
     "name": "stderr",
     "output_type": "stream",
     "text": [
      "100%|██████████| 250/250 [00:50<00:00,  4.98it/s]\n",
      "100%|██████████| 250/250 [00:27<00:00,  8.99it/s]\n"
     ]
    },
    {
     "name": "stdout",
     "output_type": "stream",
     "text": [
      "epoch #124 \n",
      "\n",
      "TRAINING LOSS:\n",
      "total Loss = 0.006354136664420367\n",
      "heatmap Loss = 0.005745601886883378\n",
      "tag Loss = 0.0006085347851039842\n",
      "\n",
      "VALIDATION LOSS:\n",
      "total Loss = 0.006255017806775868\n",
      "heatmap Loss = 0.005654274589382112\n",
      "tag Loss = 0.0006007432237965986\n",
      "\n",
      "\n",
      "\n"
     ]
    },
    {
     "name": "stderr",
     "output_type": "stream",
     "text": [
      "100%|██████████| 250/250 [00:50<00:00,  5.00it/s]\n",
      "100%|██████████| 250/250 [00:27<00:00,  8.95it/s]\n"
     ]
    },
    {
     "name": "stdout",
     "output_type": "stream",
     "text": [
      "epoch #125 \n",
      "\n",
      "TRAINING LOSS:\n",
      "total Loss = 0.006322882415726781\n",
      "heatmap Loss = 0.0057153334263712165\n",
      "tag Loss = 0.000607548983884044\n",
      "\n",
      "VALIDATION LOSS:\n",
      "total Loss = 0.006361382612027228\n",
      "heatmap Loss = 0.0057548703216016295\n",
      "tag Loss = 0.0006065122854197397\n",
      "\n",
      "\n",
      "\n"
     ]
    },
    {
     "name": "stderr",
     "output_type": "stream",
     "text": [
      "100%|██████████| 250/250 [00:49<00:00,  5.01it/s]\n",
      "100%|██████████| 250/250 [00:28<00:00,  8.92it/s]\n"
     ]
    },
    {
     "name": "stdout",
     "output_type": "stream",
     "text": [
      "epoch #126 \n",
      "\n",
      "TRAINING LOSS:\n",
      "total Loss = 0.00636645245924592\n",
      "heatmap Loss = 0.005762020574882626\n",
      "tag Loss = 0.0006044318856438622\n",
      "\n",
      "VALIDATION LOSS:\n",
      "total Loss = 0.006269033282995224\n",
      "heatmap Loss = 0.005673689066432417\n",
      "tag Loss = 0.0005953442191239446\n",
      "\n",
      "\n",
      "\n"
     ]
    },
    {
     "name": "stderr",
     "output_type": "stream",
     "text": [
      "100%|██████████| 250/250 [00:50<00:00,  4.98it/s]\n",
      "100%|██████████| 250/250 [00:27<00:00,  9.06it/s]\n"
     ]
    },
    {
     "name": "stdout",
     "output_type": "stream",
     "text": [
      "epoch #127 \n",
      "\n",
      "TRAINING LOSS:\n",
      "total Loss = 0.006318464329466224\n",
      "heatmap Loss = 0.005712066391482949\n",
      "tag Loss = 0.000606397942872718\n",
      "\n",
      "VALIDATION LOSS:\n",
      "total Loss = 0.006262602508999408\n",
      "heatmap Loss = 0.005666007759980858\n",
      "tag Loss = 0.0005965947416843847\n",
      "\n",
      "\n",
      "\n"
     ]
    },
    {
     "name": "stderr",
     "output_type": "stream",
     "text": [
      "100%|██████████| 250/250 [00:49<00:00,  5.08it/s]\n",
      "100%|██████████| 250/250 [00:27<00:00,  9.08it/s]\n"
     ]
    },
    {
     "name": "stdout",
     "output_type": "stream",
     "text": [
      "epoch #128 \n",
      "\n",
      "TRAINING LOSS:\n",
      "total Loss = 0.006378350496292115\n",
      "heatmap Loss = 0.005778022035956383\n",
      "tag Loss = 0.0006003284454345703\n",
      "\n",
      "VALIDATION LOSS:\n",
      "total Loss = 0.006243192659690976\n",
      "heatmap Loss = 0.005652173462323844\n",
      "tag Loss = 0.0005910191927105188\n",
      "\n",
      "\n",
      "\n"
     ]
    },
    {
     "name": "stderr",
     "output_type": "stream",
     "text": [
      "100%|██████████| 250/250 [00:49<00:00,  5.03it/s]\n",
      "100%|██████████| 250/250 [00:27<00:00,  9.15it/s]\n"
     ]
    },
    {
     "name": "stdout",
     "output_type": "stream",
     "text": [
      "epoch #129 \n",
      "\n",
      "TRAINING LOSS:\n",
      "total Loss = 0.006285321365110576\n",
      "heatmap Loss = 0.00568941986747086\n",
      "tag Loss = 0.0005959014790132642\n",
      "\n",
      "VALIDATION LOSS:\n",
      "total Loss = 0.006216398305259645\n",
      "heatmap Loss = 0.005614297120831907\n",
      "tag Loss = 0.0006021011909469962\n",
      "\n",
      "\n",
      "\n"
     ]
    },
    {
     "name": "stderr",
     "output_type": "stream",
     "text": [
      "100%|██████████| 250/250 [00:49<00:00,  5.04it/s]\n",
      "100%|██████████| 250/250 [00:27<00:00,  9.21it/s]\n"
     ]
    },
    {
     "name": "stdout",
     "output_type": "stream",
     "text": [
      "epoch #130 \n",
      "\n",
      "TRAINING LOSS:\n",
      "total Loss = 0.0063047139439731835\n",
      "heatmap Loss = 0.005700307582505048\n",
      "tag Loss = 0.0006044063745066524\n",
      "\n",
      "VALIDATION LOSS:\n",
      "total Loss = 0.006242629759013653\n",
      "heatmap Loss = 0.0056468768194317814\n",
      "tag Loss = 0.0005957529505249112\n",
      "\n",
      "\n",
      "\n"
     ]
    },
    {
     "name": "stderr",
     "output_type": "stream",
     "text": [
      "100%|██████████| 250/250 [00:49<00:00,  5.05it/s]\n",
      "100%|██████████| 250/250 [00:26<00:00,  9.29it/s]\n"
     ]
    },
    {
     "name": "stdout",
     "output_type": "stream",
     "text": [
      "epoch #131 \n",
      "\n",
      "TRAINING LOSS:\n",
      "total Loss = 0.006300240334123373\n",
      "heatmap Loss = 0.005697759613394737\n",
      "tag Loss = 0.0006024807172361761\n",
      "\n",
      "VALIDATION LOSS:\n",
      "total Loss = 0.006195310980081558\n",
      "heatmap Loss = 0.005598114583641291\n",
      "tag Loss = 0.0005971964044729248\n",
      "\n",
      "\n",
      "\n"
     ]
    },
    {
     "name": "stderr",
     "output_type": "stream",
     "text": [
      "100%|██████████| 250/250 [00:49<00:00,  5.07it/s]\n",
      "100%|██████████| 250/250 [00:27<00:00,  9.18it/s]\n"
     ]
    },
    {
     "name": "stdout",
     "output_type": "stream",
     "text": [
      "epoch #132 \n",
      "\n",
      "TRAINING LOSS:\n",
      "total Loss = 0.006311061160638928\n",
      "heatmap Loss = 0.005707845862023532\n",
      "tag Loss = 0.000603215309092775\n",
      "\n",
      "VALIDATION LOSS:\n",
      "total Loss = 0.006240275119431317\n",
      "heatmap Loss = 0.005641851932741701\n",
      "tag Loss = 0.000598423202522099\n",
      "\n",
      "\n",
      "\n"
     ]
    },
    {
     "name": "stderr",
     "output_type": "stream",
     "text": [
      "100%|██████████| 250/250 [00:49<00:00,  5.04it/s]\n",
      "100%|██████████| 250/250 [00:26<00:00,  9.40it/s]\n"
     ]
    },
    {
     "name": "stdout",
     "output_type": "stream",
     "text": [
      "epoch #133 \n",
      "\n",
      "TRAINING LOSS:\n",
      "total Loss = 0.006294107208028436\n",
      "heatmap Loss = 0.005701401627622545\n",
      "tag Loss = 0.0005927055814536289\n",
      "\n",
      "VALIDATION LOSS:\n",
      "total Loss = 0.006257236236706376\n",
      "heatmap Loss = 0.005663900337181985\n",
      "tag Loss = 0.0005933359017362818\n",
      "\n",
      "\n",
      "\n"
     ]
    },
    {
     "name": "stderr",
     "output_type": "stream",
     "text": [
      "100%|██████████| 250/250 [00:48<00:00,  5.11it/s]\n",
      "100%|██████████| 250/250 [00:26<00:00,  9.31it/s]\n"
     ]
    },
    {
     "name": "stdout",
     "output_type": "stream",
     "text": [
      "epoch #134 \n",
      "\n",
      "TRAINING LOSS:\n",
      "total Loss = 0.006253834676928818\n",
      "heatmap Loss = 0.0056626578345894815\n",
      "tag Loss = 0.0005911768467631192\n",
      "\n",
      "VALIDATION LOSS:\n",
      "total Loss = 0.006233788533136248\n",
      "heatmap Loss = 0.00564841867890209\n",
      "tag Loss = 0.0005853698489954695\n",
      "\n",
      "\n",
      "\n"
     ]
    },
    {
     "name": "stderr",
     "output_type": "stream",
     "text": [
      "100%|██████████| 250/250 [00:48<00:00,  5.11it/s]\n",
      "100%|██████████| 250/250 [00:26<00:00,  9.34it/s]\n"
     ]
    },
    {
     "name": "stdout",
     "output_type": "stream",
     "text": [
      "epoch #135 \n",
      "\n",
      "TRAINING LOSS:\n",
      "total Loss = 0.006241993916220963\n",
      "heatmap Loss = 0.005646212574094534\n",
      "tag Loss = 0.0005957813293207437\n",
      "\n",
      "VALIDATION LOSS:\n",
      "total Loss = 0.006190158213488757\n",
      "heatmap Loss = 0.005604834076948464\n",
      "tag Loss = 0.0005853241367731243\n",
      "\n",
      "\n",
      "\n"
     ]
    },
    {
     "name": "stderr",
     "output_type": "stream",
     "text": [
      "100%|██████████| 250/250 [00:49<00:00,  5.09it/s]\n",
      "100%|██████████| 250/250 [00:27<00:00,  9.18it/s]\n"
     ]
    },
    {
     "name": "stdout",
     "output_type": "stream",
     "text": [
      "epoch #136 \n",
      "\n",
      "TRAINING LOSS:\n",
      "total Loss = 0.006191395261324942\n",
      "heatmap Loss = 0.005595995905809104\n",
      "tag Loss = 0.0005953993648290634\n",
      "\n",
      "VALIDATION LOSS:\n",
      "total Loss = 0.006184251010417938\n",
      "heatmap Loss = 0.005601175241172314\n",
      "tag Loss = 0.0005830757657531649\n",
      "\n",
      "\n",
      "\n"
     ]
    },
    {
     "name": "stderr",
     "output_type": "stream",
     "text": [
      "100%|██████████| 250/250 [00:49<00:00,  5.06it/s]\n",
      "100%|██████████| 250/250 [00:27<00:00,  9.07it/s]\n"
     ]
    },
    {
     "name": "stdout",
     "output_type": "stream",
     "text": [
      "epoch #137 \n",
      "\n",
      "TRAINING LOSS:\n",
      "total Loss = 0.0061881072232499714\n",
      "heatmap Loss = 0.005598402369767427\n",
      "tag Loss = 0.0005897048588376492\n",
      "\n",
      "VALIDATION LOSS:\n",
      "total Loss = 0.006218992436304688\n",
      "heatmap Loss = 0.005631611762568355\n",
      "tag Loss = 0.000587380658253096\n",
      "\n",
      "\n",
      "\n"
     ]
    },
    {
     "name": "stderr",
     "output_type": "stream",
     "text": [
      "100%|██████████| 250/250 [00:49<00:00,  5.09it/s]\n",
      "100%|██████████| 250/250 [00:27<00:00,  9.20it/s]\n"
     ]
    },
    {
     "name": "stdout",
     "output_type": "stream",
     "text": [
      "epoch #138 \n",
      "\n",
      "TRAINING LOSS:\n",
      "total Loss = 0.006160485087893903\n",
      "heatmap Loss = 0.005573261276818812\n",
      "tag Loss = 0.0005872238260926679\n",
      "\n",
      "VALIDATION LOSS:\n",
      "total Loss = 0.00614599672332406\n",
      "heatmap Loss = 0.0055647160662338135\n",
      "tag Loss = 0.0005812806478934363\n",
      "\n",
      "\n",
      "\n"
     ]
    },
    {
     "name": "stderr",
     "output_type": "stream",
     "text": [
      "100%|██████████| 250/250 [00:49<00:00,  5.04it/s]\n",
      "100%|██████████| 250/250 [00:26<00:00,  9.29it/s]\n"
     ]
    },
    {
     "name": "stdout",
     "output_type": "stream",
     "text": [
      "epoch #139 \n",
      "\n",
      "TRAINING LOSS:\n",
      "total Loss = 0.006155041439458728\n",
      "heatmap Loss = 0.0055675566541031\n",
      "tag Loss = 0.0005874847986269742\n",
      "\n",
      "VALIDATION LOSS:\n",
      "total Loss = 0.006097696146927774\n",
      "heatmap Loss = 0.005512972520664334\n",
      "tag Loss = 0.0005847236317349598\n",
      "\n",
      "\n",
      "\n"
     ]
    },
    {
     "name": "stderr",
     "output_type": "stream",
     "text": [
      "100%|██████████| 250/250 [00:49<00:00,  5.07it/s]\n",
      "100%|██████████| 250/250 [00:27<00:00,  9.15it/s]\n"
     ]
    },
    {
     "name": "stdout",
     "output_type": "stream",
     "text": [
      "epoch #140 \n",
      "\n",
      "TRAINING LOSS:\n",
      "total Loss = 0.0061705958824604746\n",
      "heatmap Loss = 0.005578618556261063\n",
      "tag Loss = 0.0005919773348141462\n",
      "\n",
      "VALIDATION LOSS:\n",
      "total Loss = 0.006138789334334433\n",
      "heatmap Loss = 0.005563352451659739\n",
      "tag Loss = 0.0005754368790658191\n",
      "\n",
      "\n",
      "\n"
     ]
    },
    {
     "name": "stderr",
     "output_type": "stream",
     "text": [
      "100%|██████████| 250/250 [00:49<00:00,  5.06it/s]\n",
      "100%|██████████| 250/250 [00:27<00:00,  9.21it/s]\n"
     ]
    },
    {
     "name": "stdout",
     "output_type": "stream",
     "text": [
      "epoch #141 \n",
      "\n",
      "TRAINING LOSS:\n",
      "total Loss = 0.006187781781889498\n",
      "heatmap Loss = 0.005600796198472381\n",
      "tag Loss = 0.0005869855895871297\n",
      "\n",
      "VALIDATION LOSS:\n",
      "total Loss = 0.0061431251615285875\n",
      "heatmap Loss = 0.005565125316381455\n",
      "tag Loss = 0.0005779998316429555\n",
      "\n",
      "\n",
      "\n"
     ]
    },
    {
     "name": "stderr",
     "output_type": "stream",
     "text": [
      "100%|██████████| 250/250 [00:49<00:00,  5.08it/s]\n",
      "100%|██████████| 250/250 [00:27<00:00,  9.20it/s]\n"
     ]
    },
    {
     "name": "stdout",
     "output_type": "stream",
     "text": [
      "epoch #142 \n",
      "\n",
      "TRAINING LOSS:\n",
      "total Loss = 0.006280423458665609\n",
      "heatmap Loss = 0.005690103916451335\n",
      "tag Loss = 0.0005903195372084156\n",
      "\n",
      "VALIDATION LOSS:\n",
      "total Loss = 0.006238896512426436\n",
      "heatmap Loss = 0.005651639878749847\n",
      "tag Loss = 0.0005872566342586651\n",
      "\n",
      "\n",
      "\n"
     ]
    },
    {
     "name": "stderr",
     "output_type": "stream",
     "text": [
      "100%|██████████| 250/250 [00:49<00:00,  5.07it/s]\n",
      "100%|██████████| 250/250 [00:27<00:00,  9.08it/s]\n"
     ]
    },
    {
     "name": "stdout",
     "output_type": "stream",
     "text": [
      "epoch #143 \n",
      "\n",
      "TRAINING LOSS:\n",
      "total Loss = 0.006180355726741254\n",
      "heatmap Loss = 0.005588015873916447\n",
      "tag Loss = 0.0005923398562008515\n",
      "\n",
      "VALIDATION LOSS:\n",
      "total Loss = 0.006154752866365016\n",
      "heatmap Loss = 0.00557352012116462\n",
      "tag Loss = 0.0005812327536987141\n",
      "\n",
      "\n",
      "\n"
     ]
    },
    {
     "name": "stderr",
     "output_type": "stream",
     "text": [
      "100%|██████████| 250/250 [00:49<00:00,  5.05it/s]\n",
      "100%|██████████| 250/250 [00:26<00:00,  9.33it/s]\n"
     ]
    },
    {
     "name": "stdout",
     "output_type": "stream",
     "text": [
      "epoch #144 \n",
      "\n",
      "TRAINING LOSS:\n",
      "total Loss = 0.006174630710855126\n",
      "heatmap Loss = 0.005593810894526542\n",
      "tag Loss = 0.0005808198138838634\n",
      "\n",
      "VALIDATION LOSS:\n",
      "total Loss = 0.006067306774668395\n",
      "heatmap Loss = 0.005488927960395813\n",
      "tag Loss = 0.000578378816950135\n",
      "\n",
      "\n",
      "\n"
     ]
    },
    {
     "name": "stderr",
     "output_type": "stream",
     "text": [
      "100%|██████████| 250/250 [00:49<00:00,  5.06it/s]\n",
      "100%|██████████| 250/250 [00:26<00:00,  9.28it/s]\n"
     ]
    },
    {
     "name": "stdout",
     "output_type": "stream",
     "text": [
      "epoch #145 \n",
      "\n",
      "TRAINING LOSS:\n",
      "total Loss = 0.006137655483558774\n",
      "heatmap Loss = 0.005552113972604275\n",
      "tag Loss = 0.0005855415238766\n",
      "\n",
      "VALIDATION LOSS:\n",
      "total Loss = 0.0061645583380013705\n",
      "heatmap Loss = 0.005590398883447051\n",
      "tag Loss = 0.0005741594673600047\n",
      "\n",
      "\n",
      "\n"
     ]
    },
    {
     "name": "stderr",
     "output_type": "stream",
     "text": [
      "100%|██████████| 250/250 [00:49<00:00,  5.07it/s]\n",
      "100%|██████████| 250/250 [00:26<00:00,  9.33it/s]\n"
     ]
    },
    {
     "name": "stdout",
     "output_type": "stream",
     "text": [
      "epoch #146 \n",
      "\n",
      "TRAINING LOSS:\n",
      "total Loss = 0.0061519195884466174\n",
      "heatmap Loss = 0.005569982158020139\n",
      "tag Loss = 0.0005819374225102365\n",
      "\n",
      "VALIDATION LOSS:\n",
      "total Loss = 0.0060697089992463584\n",
      "heatmap Loss = 0.00549687370378524\n",
      "tag Loss = 0.0005728352927835658\n",
      "\n",
      "\n",
      "\n"
     ]
    },
    {
     "name": "stderr",
     "output_type": "stream",
     "text": [
      "100%|██████████| 250/250 [00:49<00:00,  5.05it/s]\n",
      "100%|██████████| 250/250 [00:27<00:00,  9.08it/s]\n"
     ]
    },
    {
     "name": "stdout",
     "output_type": "stream",
     "text": [
      "epoch #147 \n",
      "\n",
      "TRAINING LOSS:\n",
      "total Loss = 0.006087496008723974\n",
      "heatmap Loss = 0.005509168083779514\n",
      "tag Loss = 0.0005783279237803071\n",
      "\n",
      "VALIDATION LOSS:\n",
      "total Loss = 0.006075873077847064\n",
      "heatmap Loss = 0.005506673377007246\n",
      "tag Loss = 0.0005691996946698055\n",
      "\n",
      "\n",
      "\n"
     ]
    },
    {
     "name": "stderr",
     "output_type": "stream",
     "text": [
      "100%|██████████| 250/250 [00:49<00:00,  5.09it/s]\n",
      "100%|██████████| 250/250 [00:26<00:00,  9.30it/s]\n"
     ]
    },
    {
     "name": "stdout",
     "output_type": "stream",
     "text": [
      "epoch #148 \n",
      "\n",
      "TRAINING LOSS:\n",
      "total Loss = 0.006114791728556156\n",
      "heatmap Loss = 0.005535526308231056\n",
      "tag Loss = 0.0005792654189281165\n",
      "\n",
      "VALIDATION LOSS:\n",
      "total Loss = 0.006070465612225235\n",
      "heatmap Loss = 0.005500120321288705\n",
      "tag Loss = 0.0005703452839516104\n",
      "\n",
      "\n",
      "\n"
     ]
    },
    {
     "name": "stderr",
     "output_type": "stream",
     "text": [
      "100%|██████████| 250/250 [00:49<00:00,  5.07it/s]\n",
      "100%|██████████| 250/250 [00:27<00:00,  9.16it/s]\n"
     ]
    },
    {
     "name": "stdout",
     "output_type": "stream",
     "text": [
      "epoch #149 \n",
      "\n",
      "TRAINING LOSS:\n",
      "total Loss = 0.006112097042612731\n",
      "heatmap Loss = 0.005531611352227629\n",
      "tag Loss = 0.00058048568922095\n",
      "\n",
      "VALIDATION LOSS:\n",
      "total Loss = 0.006020702486857772\n",
      "heatmap Loss = 0.005448974578641355\n",
      "tag Loss = 0.0005717279074015096\n",
      "\n",
      "\n",
      "\n"
     ]
    },
    {
     "name": "stderr",
     "output_type": "stream",
     "text": [
      "100%|██████████| 250/250 [00:49<00:00,  5.09it/s]\n",
      "100%|██████████| 250/250 [00:26<00:00,  9.30it/s]\n"
     ]
    },
    {
     "name": "stdout",
     "output_type": "stream",
     "text": [
      "epoch #150 \n",
      "\n",
      "TRAINING LOSS:\n",
      "total Loss = 0.0060974634056910875\n",
      "heatmap Loss = 0.0055151000032201405\n",
      "tag Loss = 0.0005823634135304019\n",
      "\n",
      "VALIDATION LOSS:\n",
      "total Loss = 0.006144364441744983\n",
      "heatmap Loss = 0.005568914204835892\n",
      "tag Loss = 0.0005754502444760874\n",
      "\n",
      "\n",
      "\n"
     ]
    },
    {
     "name": "stderr",
     "output_type": "stream",
     "text": [
      "100%|██████████| 250/250 [00:49<00:00,  5.04it/s]\n",
      "100%|██████████| 250/250 [00:27<00:00,  9.20it/s]\n"
     ]
    },
    {
     "name": "stdout",
     "output_type": "stream",
     "text": [
      "epoch #151 \n",
      "\n",
      "TRAINING LOSS:\n",
      "total Loss = 0.006084637844003737\n",
      "heatmap Loss = 0.005504102741368115\n",
      "tag Loss = 0.0005805350994924083\n",
      "\n",
      "VALIDATION LOSS:\n",
      "total Loss = 0.0059918733164668085\n",
      "heatmap Loss = 0.005429680408909917\n",
      "tag Loss = 0.00056219291605521\n",
      "\n",
      "\n",
      "\n"
     ]
    },
    {
     "name": "stderr",
     "output_type": "stream",
     "text": [
      "100%|██████████| 250/250 [00:49<00:00,  5.05it/s]\n",
      "100%|██████████| 250/250 [00:27<00:00,  9.21it/s]\n"
     ]
    },
    {
     "name": "stdout",
     "output_type": "stream",
     "text": [
      "epoch #152 \n",
      "\n",
      "TRAINING LOSS:\n",
      "total Loss = 0.006096021917648613\n",
      "heatmap Loss = 0.005519844500347972\n",
      "tag Loss = 0.000576177425100468\n",
      "\n",
      "VALIDATION LOSS:\n",
      "total Loss = 0.0060403043571859594\n",
      "heatmap Loss = 0.005468152931891381\n",
      "tag Loss = 0.0005721514280885457\n",
      "\n",
      "\n",
      "\n"
     ]
    },
    {
     "name": "stderr",
     "output_type": "stream",
     "text": [
      " 89%|████████▉ | 223/250 [00:45<00:05,  4.85it/s]\n"
     ]
    },
    {
     "ename": "KeyboardInterrupt",
     "evalue": "",
     "output_type": "error",
     "traceback": [
      "\u001b[0;31m---------------------------------------------------------------------------\u001b[0m",
      "\u001b[0;31mKeyboardInterrupt\u001b[0m                         Traceback (most recent call last)",
      "Cell \u001b[0;32mIn[2], line 1\u001b[0m\n\u001b[0;32m----> 1\u001b[0m train(cc\u001b[39m.\u001b[39;49mconfig[\u001b[39m\"\u001b[39;49m\u001b[39mbatch_size\u001b[39;49m\u001b[39m\"\u001b[39;49m])\n",
      "File \u001b[0;32m~/Uni/Neural_Networks/LitePose/litepose-keypoint-estimation/src/lp_training/lp_trainer.py:39\u001b[0m, in \u001b[0;36mtrain\u001b[0;34m(batch_size)\u001b[0m\n\u001b[1;32m     36\u001b[0m loss_fac \u001b[39m=\u001b[39m Lp_Loss()\n\u001b[1;32m     38\u001b[0m \u001b[39mfor\u001b[39;00m i \u001b[39min\u001b[39;00m \u001b[39mrange\u001b[39m(config[\u001b[39m\"\u001b[39m\u001b[39mepochs\u001b[39m\u001b[39m\"\u001b[39m]):\n\u001b[0;32m---> 39\u001b[0m     tot_loss, heatmap_loss, tag_loss \u001b[39m=\u001b[39m trainOneEpoch(model, data_loader, optimizer, i,loss_fac)\n\u001b[1;32m     40\u001b[0m     loss_tot_l \u001b[39m=\u001b[39m []\n\u001b[1;32m     41\u001b[0m     loss_hm_l \u001b[39m=\u001b[39m []\n",
      "File \u001b[0;32m~/Uni/Neural_Networks/LitePose/litepose-keypoint-estimation/src/lp_training/lp_trainOne.py:25\u001b[0m, in \u001b[0;36mtrainOneEpoch\u001b[0;34m(model, dataloader, optimizer, epoch, loss, testing)\u001b[0m\n\u001b[1;32m     22\u001b[0m totLoss \u001b[39m=\u001b[39m heatmapLoss\u001b[39m+\u001b[39mtagLoss\n\u001b[1;32m     24\u001b[0m totLoss\u001b[39m.\u001b[39mbackward()\n\u001b[0;32m---> 25\u001b[0m optimizer\u001b[39m.\u001b[39;49mstep()\n\u001b[1;32m     27\u001b[0m loss_tot_l\u001b[39m.\u001b[39mappend(\u001b[39mfloat\u001b[39m(totLoss))\n\u001b[1;32m     28\u001b[0m loss_hm_l\u001b[39m.\u001b[39mappend(\u001b[39mfloat\u001b[39m(heatmapLoss))\n",
      "File \u001b[0;32m~/.local/lib/python3.10/site-packages/torch/optim/optimizer.py:140\u001b[0m, in \u001b[0;36mOptimizer._hook_for_profile.<locals>.profile_hook_step.<locals>.wrapper\u001b[0;34m(*args, **kwargs)\u001b[0m\n\u001b[1;32m    138\u001b[0m profile_name \u001b[39m=\u001b[39m \u001b[39m\"\u001b[39m\u001b[39mOptimizer.step#\u001b[39m\u001b[39m{}\u001b[39;00m\u001b[39m.step\u001b[39m\u001b[39m\"\u001b[39m\u001b[39m.\u001b[39mformat(obj\u001b[39m.\u001b[39m\u001b[39m__class__\u001b[39m\u001b[39m.\u001b[39m\u001b[39m__name__\u001b[39m)\n\u001b[1;32m    139\u001b[0m \u001b[39mwith\u001b[39;00m torch\u001b[39m.\u001b[39mautograd\u001b[39m.\u001b[39mprofiler\u001b[39m.\u001b[39mrecord_function(profile_name):\n\u001b[0;32m--> 140\u001b[0m     out \u001b[39m=\u001b[39m func(\u001b[39m*\u001b[39;49margs, \u001b[39m*\u001b[39;49m\u001b[39m*\u001b[39;49mkwargs)\n\u001b[1;32m    141\u001b[0m     obj\u001b[39m.\u001b[39m_optimizer_step_code()\n\u001b[1;32m    142\u001b[0m     \u001b[39mreturn\u001b[39;00m out\n",
      "File \u001b[0;32m~/.local/lib/python3.10/site-packages/torch/optim/optimizer.py:23\u001b[0m, in \u001b[0;36m_use_grad_for_differentiable.<locals>._use_grad\u001b[0;34m(self, *args, **kwargs)\u001b[0m\n\u001b[1;32m     21\u001b[0m \u001b[39mtry\u001b[39;00m:\n\u001b[1;32m     22\u001b[0m     torch\u001b[39m.\u001b[39mset_grad_enabled(\u001b[39mself\u001b[39m\u001b[39m.\u001b[39mdefaults[\u001b[39m'\u001b[39m\u001b[39mdifferentiable\u001b[39m\u001b[39m'\u001b[39m])\n\u001b[0;32m---> 23\u001b[0m     ret \u001b[39m=\u001b[39m func(\u001b[39mself\u001b[39;49m, \u001b[39m*\u001b[39;49margs, \u001b[39m*\u001b[39;49m\u001b[39m*\u001b[39;49mkwargs)\n\u001b[1;32m     24\u001b[0m \u001b[39mfinally\u001b[39;00m:\n\u001b[1;32m     25\u001b[0m     torch\u001b[39m.\u001b[39mset_grad_enabled(prev_grad)\n",
      "File \u001b[0;32m~/.local/lib/python3.10/site-packages/torch/optim/adam.py:234\u001b[0m, in \u001b[0;36mAdam.step\u001b[0;34m(self, closure, grad_scaler)\u001b[0m\n\u001b[1;32m    231\u001b[0m                 \u001b[39mraise\u001b[39;00m \u001b[39mRuntimeError\u001b[39;00m(\u001b[39m'\u001b[39m\u001b[39m`requires_grad` is not supported for `step` in differentiable mode\u001b[39m\u001b[39m'\u001b[39m)\n\u001b[1;32m    232\u001b[0m             state_steps\u001b[39m.\u001b[39mappend(state[\u001b[39m'\u001b[39m\u001b[39mstep\u001b[39m\u001b[39m'\u001b[39m])\n\u001b[0;32m--> 234\u001b[0m     adam(params_with_grad,\n\u001b[1;32m    235\u001b[0m          grads,\n\u001b[1;32m    236\u001b[0m          exp_avgs,\n\u001b[1;32m    237\u001b[0m          exp_avg_sqs,\n\u001b[1;32m    238\u001b[0m          max_exp_avg_sqs,\n\u001b[1;32m    239\u001b[0m          state_steps,\n\u001b[1;32m    240\u001b[0m          amsgrad\u001b[39m=\u001b[39;49mgroup[\u001b[39m'\u001b[39;49m\u001b[39mamsgrad\u001b[39;49m\u001b[39m'\u001b[39;49m],\n\u001b[1;32m    241\u001b[0m          beta1\u001b[39m=\u001b[39;49mbeta1,\n\u001b[1;32m    242\u001b[0m          beta2\u001b[39m=\u001b[39;49mbeta2,\n\u001b[1;32m    243\u001b[0m          lr\u001b[39m=\u001b[39;49mgroup[\u001b[39m'\u001b[39;49m\u001b[39mlr\u001b[39;49m\u001b[39m'\u001b[39;49m],\n\u001b[1;32m    244\u001b[0m          weight_decay\u001b[39m=\u001b[39;49mgroup[\u001b[39m'\u001b[39;49m\u001b[39mweight_decay\u001b[39;49m\u001b[39m'\u001b[39;49m],\n\u001b[1;32m    245\u001b[0m          eps\u001b[39m=\u001b[39;49mgroup[\u001b[39m'\u001b[39;49m\u001b[39meps\u001b[39;49m\u001b[39m'\u001b[39;49m],\n\u001b[1;32m    246\u001b[0m          maximize\u001b[39m=\u001b[39;49mgroup[\u001b[39m'\u001b[39;49m\u001b[39mmaximize\u001b[39;49m\u001b[39m'\u001b[39;49m],\n\u001b[1;32m    247\u001b[0m          foreach\u001b[39m=\u001b[39;49mgroup[\u001b[39m'\u001b[39;49m\u001b[39mforeach\u001b[39;49m\u001b[39m'\u001b[39;49m],\n\u001b[1;32m    248\u001b[0m          capturable\u001b[39m=\u001b[39;49mgroup[\u001b[39m'\u001b[39;49m\u001b[39mcapturable\u001b[39;49m\u001b[39m'\u001b[39;49m],\n\u001b[1;32m    249\u001b[0m          differentiable\u001b[39m=\u001b[39;49mgroup[\u001b[39m'\u001b[39;49m\u001b[39mdifferentiable\u001b[39;49m\u001b[39m'\u001b[39;49m],\n\u001b[1;32m    250\u001b[0m          fused\u001b[39m=\u001b[39;49mgroup[\u001b[39m'\u001b[39;49m\u001b[39mfused\u001b[39;49m\u001b[39m'\u001b[39;49m],\n\u001b[1;32m    251\u001b[0m          grad_scale\u001b[39m=\u001b[39;49mgrad_scale,\n\u001b[1;32m    252\u001b[0m          found_inf\u001b[39m=\u001b[39;49mfound_inf)\n\u001b[1;32m    254\u001b[0m \u001b[39mreturn\u001b[39;00m loss\n",
      "File \u001b[0;32m~/.local/lib/python3.10/site-packages/torch/optim/adam.py:300\u001b[0m, in \u001b[0;36madam\u001b[0;34m(params, grads, exp_avgs, exp_avg_sqs, max_exp_avg_sqs, state_steps, foreach, capturable, differentiable, fused, grad_scale, found_inf, amsgrad, beta1, beta2, lr, weight_decay, eps, maximize)\u001b[0m\n\u001b[1;32m    297\u001b[0m \u001b[39melse\u001b[39;00m:\n\u001b[1;32m    298\u001b[0m     func \u001b[39m=\u001b[39m _single_tensor_adam\n\u001b[0;32m--> 300\u001b[0m func(params,\n\u001b[1;32m    301\u001b[0m      grads,\n\u001b[1;32m    302\u001b[0m      exp_avgs,\n\u001b[1;32m    303\u001b[0m      exp_avg_sqs,\n\u001b[1;32m    304\u001b[0m      max_exp_avg_sqs,\n\u001b[1;32m    305\u001b[0m      state_steps,\n\u001b[1;32m    306\u001b[0m      amsgrad\u001b[39m=\u001b[39;49mamsgrad,\n\u001b[1;32m    307\u001b[0m      beta1\u001b[39m=\u001b[39;49mbeta1,\n\u001b[1;32m    308\u001b[0m      beta2\u001b[39m=\u001b[39;49mbeta2,\n\u001b[1;32m    309\u001b[0m      lr\u001b[39m=\u001b[39;49mlr,\n\u001b[1;32m    310\u001b[0m      weight_decay\u001b[39m=\u001b[39;49mweight_decay,\n\u001b[1;32m    311\u001b[0m      eps\u001b[39m=\u001b[39;49meps,\n\u001b[1;32m    312\u001b[0m      maximize\u001b[39m=\u001b[39;49mmaximize,\n\u001b[1;32m    313\u001b[0m      capturable\u001b[39m=\u001b[39;49mcapturable,\n\u001b[1;32m    314\u001b[0m      differentiable\u001b[39m=\u001b[39;49mdifferentiable,\n\u001b[1;32m    315\u001b[0m      grad_scale\u001b[39m=\u001b[39;49mgrad_scale,\n\u001b[1;32m    316\u001b[0m      found_inf\u001b[39m=\u001b[39;49mfound_inf)\n",
      "File \u001b[0;32m~/.local/lib/python3.10/site-packages/torch/optim/adam.py:410\u001b[0m, in \u001b[0;36m_single_tensor_adam\u001b[0;34m(params, grads, exp_avgs, exp_avg_sqs, max_exp_avg_sqs, state_steps, grad_scale, found_inf, amsgrad, beta1, beta2, lr, weight_decay, eps, maximize, capturable, differentiable)\u001b[0m\n\u001b[1;32m    408\u001b[0m     denom \u001b[39m=\u001b[39m (max_exp_avg_sqs[i]\u001b[39m.\u001b[39msqrt() \u001b[39m/\u001b[39m bias_correction2_sqrt)\u001b[39m.\u001b[39madd_(eps)\n\u001b[1;32m    409\u001b[0m \u001b[39melse\u001b[39;00m:\n\u001b[0;32m--> 410\u001b[0m     denom \u001b[39m=\u001b[39m (exp_avg_sq\u001b[39m.\u001b[39;49msqrt() \u001b[39m/\u001b[39;49m bias_correction2_sqrt)\u001b[39m.\u001b[39;49madd_(eps)\n\u001b[1;32m    412\u001b[0m param\u001b[39m.\u001b[39maddcdiv_(exp_avg, denom, value\u001b[39m=\u001b[39m\u001b[39m-\u001b[39mstep_size)\n",
      "\u001b[0;31mKeyboardInterrupt\u001b[0m: "
     ]
    }
   ],
   "source": [
    "train(cc.config[\"batch_size\"])"
   ]
  },
  {
   "attachments": {},
   "cell_type": "markdown",
   "metadata": {},
   "source": [
    "# Inference\n",
    "\n",
    "Keypoint positions are obtained from the predicted heatmaps by selecting $n$ peaks for each joint, where $n$ is the maximum number of people that the image may contain. Then the obtained keypoints are filtered according to a confidence threshold.  \n",
    "At this point the identity-free keypoints are grouped into each person by using tags. Since the connection sequence is known (i.e head with neck, neck with shoulders..) two nodes can be connected by exploiting this knowledge and checking at the tags distance. So two nodes have an edge between them iff they belongs to adjacent joints classes, their tag distance is the minimum between every other pair of nodes and their tag distance is less than an additional confidence threshold.  \n",
    "The overall results are related to those confidence thresholds that can be tuned by considering domain dependent informations such as the image perspective and the noise."
   ]
  },
  {
   "attachments": {},
   "cell_type": "markdown",
   "metadata": {},
   "source": [
    "Unfotunately OpenCV method `imshow()` has a well known bug with python notebooks, please press any key to close the image properly (not from x icon)."
   ]
  },
  {
   "cell_type": "code",
   "execution_count": 4,
   "metadata": {},
   "outputs": [
    {
     "data": {
      "text/plain": [
       "<All keys matched successfully>"
      ]
     },
     "execution_count": 4,
     "metadata": {},
     "output_type": "execute_result"
    }
   ],
   "source": [
    "model = LitePose().to(cc.config[\"device\"])\n",
    "model.load_state_dict(torch.load(\"lp_trained_models/bigarch\"))"
   ]
  },
  {
   "cell_type": "code",
   "execution_count": 5,
   "metadata": {},
   "outputs": [
    {
     "name": "stdout",
     "output_type": "stream",
     "text": [
      "loading annotations into memory...\n",
      "Done (t=0.06s)\n",
      "creating index...\n",
      "index created!\n"
     ]
    }
   ],
   "source": [
    "ds = getDatasetProcessed(\"validation\")\n",
    "\n",
    "data_loader = torch.utils.data.DataLoader(\n",
    "    ds,\n",
    "    batch_size=8\n",
    ")\n",
    "\n",
    "it = iter(data_loader)\n",
    "row = next(it)\n",
    "images = row[0].to(cc.config[\"device\"])\n",
    "gthm = row[1]"
   ]
  },
  {
   "cell_type": "code",
   "execution_count": null,
   "metadata": {},
   "outputs": [],
   "source": [
    "output, keypoints = inference(model, images)"
   ]
  },
  {
   "cell_type": "code",
   "execution_count": 3,
   "metadata": {},
   "outputs": [],
   "source": [
    "embedding = assocEmbedding(keypoints)"
   ]
  },
  {
   "attachments": {},
   "cell_type": "markdown",
   "metadata": {},
   "source": [
    "The images below show the comparison between the heatmaps ground truth and the heatmaps predicted by the model"
   ]
  },
  {
   "cell_type": "code",
   "execution_count": 3,
   "metadata": {},
   "outputs": [],
   "source": [
    "jointsHeatmap = output[1][2][:cc.config[\"num_joints\"]]\n",
    "\n",
    "img, finalHm, superimposed = drawHeatmap(images[2], jointsHeatmap)\n",
    "img, gtfinalHm, gtsuperimposed = drawHeatmap(images[2], gthm[1][2])\n",
    "cv2.imshow(\"Image\", img)\n",
    "cv2.imshow(\"Final heatmap\", finalHm)\n",
    "cv2.imshow(\"Superimposed\", superimposed)\n",
    "\n",
    "cv2.imshow(\"Ground Truth heatmap\", gtfinalHm)\n",
    "cv2.imshow(\"Ground Truth Superimposed\", gtsuperimposed)\n",
    "cv2.waitKey()\n",
    "cv2.destroyAllWindows()"
   ]
  },
  {
   "attachments": {},
   "cell_type": "markdown",
   "metadata": {},
   "source": [
    "Finally both keypoints and skeletons can be visualized, this visualization is also useful to tune the confidence thresholds."
   ]
  },
  {
   "cell_type": "code",
   "execution_count": 19,
   "metadata": {},
   "outputs": [],
   "source": [
    "idx = 1\n",
    "img = drawKeypoints(images[idx], keypoints[idx])\n",
    "cv2.imshow(\"Image Keypoints\", img)\n",
    "cv2.waitKey()\n",
    "cv2.destroyAllWindows()"
   ]
  },
  {
   "cell_type": "code",
   "execution_count": 5,
   "metadata": {},
   "outputs": [],
   "source": [
    "idx = 5\n",
    "img = drawSkeleton(images[idx], embedding[idx])\n",
    "cv2.imshow(\"Image Keypoints\", img)\n",
    "cv2.waitKey()\n",
    "cv2.destroyAllWindows()"
   ]
  },
  {
   "attachments": {},
   "cell_type": "markdown",
   "metadata": {},
   "source": [
    "According to LitePose original paper, in order to quantify the model performances Object Keypoin Similarity (OKS) has been used. It takes into account only the keypoints disregarding the connection between them. Despite this, OKS is still a good metric as the keypoint prediction and tag estimation performances are related to each other, how the similar loss decrease has shown during the training. The metric (slightly modified) is defined as: $$ OKS = \\frac{\\sum_{i}^{}exp(-\\frac{d_i^2}{2*k^2})*\\delta(v_i>0)}{\\sum_{i}^{}\\delta(v_i>0)} $$\n",
    "Where $d_i$ is the Euclidean distance between detected keypoints and their ground truth position, $k$ is a constant and $\\delta(v_i>0)$ is a function that is 1 if the keypoint is valid, 0 otherwise"
   ]
  },
  {
   "cell_type": "code",
   "execution_count": 3,
   "metadata": {},
   "outputs": [
    {
     "name": "stdout",
     "output_type": "stream",
     "text": [
      "loading annotations into memory...\n",
      "Done (t=0.09s)\n",
      "creating index...\n",
      "index created!\n"
     ]
    },
    {
     "name": "stderr",
     "output_type": "stream",
     "text": [
      " 60%|██████    | 151/250 [01:30<01:05,  1.51it/s]"
     ]
    }
   ],
   "source": [
    "res = evaluateModel(model)\n",
    "print(f\"Object Keypoint Similarity (OKS) score: {res}\")"
   ]
  },
  {
   "cell_type": "code",
   "execution_count": 14,
   "metadata": {},
   "outputs": [
    {
     "name": "stdout",
     "output_type": "stream",
     "text": [
      "[INFO] Register count_convNd() for <class 'torch.nn.modules.conv.Conv2d'>.\n",
      "[INFO] Register count_normalization() for <class 'torch.nn.modules.batchnorm.BatchNorm2d'>.\n",
      "[INFO] Register zero_ops() for <class 'torch.nn.modules.activation.ReLU6'>.\n",
      "[INFO] Register zero_ops() for <class 'torch.nn.modules.container.Sequential'>.\n",
      "[INFO] Register count_convNd() for <class 'torch.nn.modules.conv.ConvTranspose2d'>.\n",
      "Model MACs: 584805482496.0\n",
      "Model Parameters: 25008536.0\n"
     ]
    }
   ],
   "source": [
    "from thop import profile\n",
    "row = next(it)\n",
    "images = row[0].to(cc.config[\"device\"])\n",
    "macs, parameters = profile(model, inputs=(images,))\n",
    "\n",
    "print(f\"Model MACs: {macs}\\nModel Parameters: {parameters}\")"
   ]
  },
  {
   "attachments": {},
   "cell_type": "markdown",
   "metadata": {},
   "source": [
    "Code taken by the [official paper repository](https://github.com/mit-han-lab/litepose):\n",
    "- classes `CrowdPoseDataset` and `CrowdPoseKeypoints` are taken. They load the dataset and preprocess the joints turning them into heatmaps.\n",
    "- I took the code contained in `lp_generators.py` and `lp_transforms.py`, since they were a `CrowdPoseKeypoints` dependencies"
   ]
  }
 ],
 "metadata": {
  "kernelspec": {
   "display_name": "Python 3",
   "language": "python",
   "name": "python3"
  },
  "language_info": {
   "codemirror_mode": {
    "name": "ipython",
    "version": 3
   },
   "file_extension": ".py",
   "mimetype": "text/x-python",
   "name": "python",
   "nbconvert_exporter": "python",
   "pygments_lexer": "ipython3",
   "version": "3.10.6"
  },
  "orig_nbformat": 4,
  "vscode": {
   "interpreter": {
    "hash": "916dbcbb3f70747c44a77c7bcd40155683ae19c65e1c03b4aa3499c5328201f1"
   }
  }
 },
 "nbformat": 4,
 "nbformat_minor": 2
}
